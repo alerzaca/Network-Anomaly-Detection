{
 "cells": [
  {
   "cell_type": "markdown",
   "metadata": {},
   "source": [
    "## Środa"
   ]
  },
  {
   "cell_type": "code",
   "execution_count": 2,
   "metadata": {},
   "outputs": [
    {
     "name": "stdout",
     "output_type": "stream",
     "text": [
      "(427344, 10) (183148, 10)\n",
      "Training Accuracy :  30.284501478902243\n",
      "Validation Accuracy :  30.452420992858237\n"
     ]
    }
   ],
   "source": [
    "from sklearn.model_selection import train_test_split, learning_curve\n",
    "import pandas as pd\n",
    "from sklearn import metrics\n",
    "from sklearn.naive_bayes import GaussianNB\n",
    "\n",
    "data = pd.read_parquet('./IDS2017/Final/Wednesday.parquet')\n",
    "\n",
    "X = data.drop(columns=['Label'])\n",
    "y = data['Label']\n",
    "X_train, X_val, Y_train, Y_val = train_test_split(X,\n",
    "                                                  y, \n",
    "                                                  test_size = 0.3, \n",
    "                                                  random_state=2022)\n",
    "print(X_train.shape, X_val.shape)\n",
    "\n",
    "gnb = GaussianNB()\n",
    "gnb.fit(X_train, Y_train)\n",
    "\n",
    "print('Training Accuracy : ', \n",
    "      metrics.accuracy_score(Y_train,\n",
    "                             gnb.predict(X_train))*100)\n",
    "print('Validation Accuracy : ', \n",
    "      metrics.accuracy_score(Y_val, \n",
    "                             gnb.predict(X_val))*100)"
   ]
  },
  {
   "cell_type": "markdown",
   "metadata": {},
   "source": [
    "## Piątek"
   ]
  },
  {
   "cell_type": "code",
   "execution_count": 10,
   "metadata": {},
   "outputs": [
    {
     "name": "stdout",
     "output_type": "stream",
     "text": [
      "(156157, 10) (66925, 10)\n",
      "Training Accuracy :  82.39207976587664\n",
      "Validation Accuracy :  82.33395592080687\n"
     ]
    }
   ],
   "source": [
    "data2 = pd.read_parquet('./IDS2017/Final/Friday.parquet')\n",
    "\n",
    "X = data2.drop(columns=['Label'])\n",
    "y = data2['Label']\n",
    "X_train, X_val, Y_train, Y_val = train_test_split(X,\n",
    "                                                  y, \n",
    "                                                  test_size = 0.3, \n",
    "                                                  random_state=2022)\n",
    "print(X_train.shape, X_val.shape)\n",
    "\n",
    "gnb2 = GaussianNB()\n",
    "gnb2.fit(X_train, Y_train)\n",
    "\n",
    "print('Training Accuracy : ', \n",
    "      metrics.accuracy_score(Y_train,\n",
    "                             gnb2.predict(X_train))*100)\n",
    "print('Validation Accuracy : ', \n",
    "      metrics.accuracy_score(Y_val, \n",
    "                             gnb2.predict(X_val))*100)\n",
    "\n",
    "\n"
   ]
  },
  {
   "cell_type": "markdown",
   "metadata": {},
   "source": [
    "## Połączone DDoSy"
   ]
  },
  {
   "cell_type": "code",
   "execution_count": 3,
   "metadata": {},
   "outputs": [
    {
     "name": "stdout",
     "output_type": "stream",
     "text": [
      "(935356, 9) (400868, 9)\n",
      "Training Accuracy :  46.79576546256185\n",
      "Validation Accuracy :  47.02445692846523\n"
     ]
    }
   ],
   "source": [
    "data3 = pd.read_parquet('./IDS2017/Final/DDoS_Attacks.parquet')\n",
    "\n",
    "X = data3.drop(columns=['Label'])\n",
    "y = data3['Label']\n",
    "X_train, X_val, Y_train, Y_val = train_test_split(X,\n",
    "                                                  y, \n",
    "                                                  test_size = 0.3, \n",
    "                                                  random_state=2022)\n",
    "print(X_train.shape, X_val.shape)\n",
    "\n",
    "gnb3 = GaussianNB()\n",
    "gnb3.fit(X_train, Y_train)\n",
    "\n",
    "print('Training Accuracy : ', \n",
    "      metrics.accuracy_score(Y_train,\n",
    "                             gnb3.predict(X_train))*100)\n",
    "print('Validation Accuracy : ', \n",
    "      metrics.accuracy_score(Y_val, \n",
    "                             gnb3.predict(X_val))*100)\n"
   ]
  }
 ],
 "metadata": {
  "kernelspec": {
   "display_name": "sklearn-env",
   "language": "python",
   "name": "python3"
  },
  "language_info": {
   "codemirror_mode": {
    "name": "ipython",
    "version": 3
   },
   "file_extension": ".py",
   "mimetype": "text/x-python",
   "name": "python",
   "nbconvert_exporter": "python",
   "pygments_lexer": "ipython3",
   "version": "3.12.3"
  }
 },
 "nbformat": 4,
 "nbformat_minor": 2
}
