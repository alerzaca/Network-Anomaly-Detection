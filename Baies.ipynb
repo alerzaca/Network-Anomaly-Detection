{
 "cells": [
  {
   "cell_type": "code",
   "execution_count": 24,
   "metadata": {},
   "outputs": [
    {
     "name": "stdout",
     "output_type": "stream",
     "text": [
      "(427344, 9) (183148, 9)\n",
      "Training Accuracy :  87.61278969635703\n",
      "Validation Accuracy :  87.69028326817656\n"
     ]
    }
   ],
   "source": [
    "from sklearn.model_selection import train_test_split, learning_curve\n",
    "import pandas as pd\n",
    "from sklearn import metrics\n",
    "from sklearn.naive_bayes import GaussianNB\n",
    "\n",
    "data = pd.read_csv('CleanedData/Wednesday-workingHours.csv')\n",
    "\n",
    "X = data.drop(columns=[' Label'])\n",
    "y = data[' Label']\n",
    "X_train, X_val, Y_train, Y_val = train_test_split(X,\n",
    "                                                  y, \n",
    "                                                  test_size = 0.3, \n",
    "                                                  random_state=2022)\n",
    "print(X_train.shape, X_val.shape)\n",
    "\n",
    "gnb = GaussianNB()\n",
    "gnb.fit(X_train, Y_train)\n",
    "\n",
    "print('Training Accuracy : ', \n",
    "      metrics.accuracy_score(Y_train,\n",
    "                             gnb.predict(X_train))*100)\n",
    "print('Validation Accuracy : ', \n",
    "      metrics.accuracy_score(Y_val, \n",
    "                             gnb.predict(X_val))*100)"
   ]
  },
  {
   "cell_type": "code",
   "execution_count": 25,
   "metadata": {},
   "outputs": [
    {
     "name": "stdout",
     "output_type": "stream",
     "text": [
      "(156157, 10) (66925, 10)\n",
      "Training Accuracy :  82.39207976587664\n",
      "Validation Accuracy :  82.33395592080687\n"
     ]
    }
   ],
   "source": [
    "data2 = pd.read_csv('CleanedData/Friday.csv')\n",
    "\n",
    "X = data2.drop(columns=['Label'])\n",
    "y = data2['Label']\n",
    "X_train, X_val, Y_train, Y_val = train_test_split(X,\n",
    "                                                  y, \n",
    "                                                  test_size = 0.3, \n",
    "                                                  random_state=2022)\n",
    "print(X_train.shape, X_val.shape)\n",
    "\n",
    "gnb2 = GaussianNB()\n",
    "gnb2.fit(X_train, Y_train)\n",
    "\n",
    "print('Training Accuracy : ', \n",
    "      metrics.accuracy_score(Y_train,\n",
    "                             gnb2.predict(X_train))*100)\n",
    "print('Validation Accuracy : ', \n",
    "      metrics.accuracy_score(Y_val, \n",
    "                             gnb2.predict(X_val))*100)\n",
    "\n",
    "\n"
   ]
  },
  {
   "cell_type": "code",
   "execution_count": 26,
   "metadata": {},
   "outputs": [
    {
     "name": "stdout",
     "output_type": "stream",
     "text": [
      "(935356, 9) (400868, 9)\n",
      "Training Accuracy :  46.79576546256185\n",
      "Validation Accuracy :  47.02445692846523\n"
     ]
    }
   ],
   "source": [
    "data3 = pd.read_csv('CleanedData/DDoS_Attacks.csv')\n",
    "\n",
    "X = data3.drop(columns=[' Label'])\n",
    "y = data3[' Label']\n",
    "X_train, X_val, Y_train, Y_val = train_test_split(X,\n",
    "                                                  y, \n",
    "                                                  test_size = 0.3, \n",
    "                                                  random_state=2022)\n",
    "print(X_train.shape, X_val.shape)\n",
    "\n",
    "gnb3 = GaussianNB()\n",
    "gnb3.fit(X_train, Y_train)\n",
    "\n",
    "print('Training Accuracy : ', \n",
    "      metrics.accuracy_score(Y_train,\n",
    "                             gnb3.predict(X_train))*100)\n",
    "print('Validation Accuracy : ', \n",
    "      metrics.accuracy_score(Y_val, \n",
    "                             gnb3.predict(X_val))*100)\n"
   ]
  }
 ],
 "metadata": {
  "kernelspec": {
   "display_name": "sklearn-env",
   "language": "python",
   "name": "python3"
  },
  "language_info": {
   "codemirror_mode": {
    "name": "ipython",
    "version": 3
   },
   "file_extension": ".py",
   "mimetype": "text/x-python",
   "name": "python",
   "nbconvert_exporter": "python",
   "pygments_lexer": "ipython3",
   "version": "3.12.3"
  }
 },
 "nbformat": 4,
 "nbformat_minor": 2
}
