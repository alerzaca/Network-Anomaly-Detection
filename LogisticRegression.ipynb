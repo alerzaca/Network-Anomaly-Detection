{
 "cells": [
  {
   "cell_type": "markdown",
   "metadata": {},
   "source": [
    "## Środa"
   ]
  },
  {
   "cell_type": "code",
   "execution_count": 13,
   "metadata": {},
   "outputs": [
    {
     "name": "stdout",
     "output_type": "stream",
     "text": [
      "Training Accuracy :  85.93966453255457\n",
      "Validation Accuracy :  86.07465000982812\n"
     ]
    }
   ],
   "source": [
    "from sklearn.model_selection import train_test_split\n",
    "from sklearn.preprocessing import StandardScaler\n",
    "import pandas as pd\n",
    "from sklearn.linear_model import LogisticRegression\n",
    "from sklearn import metrics\n",
    "\n",
    "\n",
    "data = pd.read_csv('CleanedData/Wednesday-workingHours.csv')\n",
    "\n",
    "X = data.drop(columns=[' Label'])\n",
    "y = data[' Label']\n",
    "\n",
    "scaler = StandardScaler()\n",
    "X_scaled = scaler.fit_transform(X)\n",
    "\n",
    "X_train, X_val, Y_train, Y_val = train_test_split(X_scaled, y, test_size=0.3, random_state=2022)\n",
    "\n",
    "clf = LogisticRegression(random_state=0, max_iter=1000)\n",
    "\n",
    "clf.fit(X_train, Y_train)\n",
    "\n",
    "y_pred_train = clf.predict(X_train)\n",
    "y_pred_val = clf.predict(X_val)\n",
    "\n",
    "print('Training Accuracy : ', metrics.accuracy_score(Y_train, y_pred_train) * 100)\n",
    "print('Validation Accuracy : ', metrics.accuracy_score(Y_val, y_pred_val) * 100)\n",
    "\n"
   ]
  },
  {
   "cell_type": "markdown",
   "metadata": {},
   "source": [
    "## Piątek"
   ]
  },
  {
   "cell_type": "code",
   "execution_count": 11,
   "metadata": {},
   "outputs": [
    {
     "name": "stdout",
     "output_type": "stream",
     "text": [
      "Training Accuracy :  97.67477602669109\n",
      "Validation Accuracy :  97.6421367202092\n"
     ]
    }
   ],
   "source": [
    "data2 = pd.read_csv('CleanedData/Friday.csv')\n",
    "\n",
    "X = data2.drop(columns=['Label'])\n",
    "y = data2['Label']\n",
    "\n",
    "scaler2 = StandardScaler()\n",
    "X_scaled = scaler2.fit_transform(X)\n",
    "\n",
    "X_train, X_val, Y_train, Y_val = train_test_split(X_scaled, y, test_size=0.3, random_state=2022)\n",
    "\n",
    "clf = LogisticRegression(random_state=0, max_iter=1000)\n",
    "\n",
    "clf.fit(X_train, Y_train)\n",
    "\n",
    "y_pred_train = clf.predict(X_train)\n",
    "y_pred_val = clf.predict(X_val)\n",
    "\n",
    "print('Training Accuracy : ', metrics.accuracy_score(Y_train, y_pred_train) * 100)\n",
    "print('Validation Accuracy : ', metrics.accuracy_score(Y_val, y_pred_val) * 100)"
   ]
  },
  {
   "cell_type": "code",
   "execution_count": 15,
   "metadata": {},
   "outputs": [
    {
     "name": "stdout",
     "output_type": "stream",
     "text": [
      "Training Accuracy :  79.59814231159046\n",
      "Validation Accuracy :  79.44086332658132\n"
     ]
    }
   ],
   "source": [
    "data3 = pd.read_csv('CleanedData/DDoS_Attacks.csv')\n",
    "\n",
    "X = data3.drop(columns=[' Label'])\n",
    "y = data3[' Label']\n",
    "\n",
    "scaler3 = StandardScaler()\n",
    "X_scaled = scaler3.fit_transform(X)\n",
    "\n",
    "X_train, X_val, Y_train, Y_val = train_test_split(X_scaled, y, test_size=0.3, random_state=2022)\n",
    "\n",
    "clf = LogisticRegression(random_state=0, max_iter=1000)\n",
    "\n",
    "clf.fit(X_train, Y_train)\n",
    "\n",
    "y_pred_train = clf.predict(X_train)\n",
    "y_pred_val = clf.predict(X_val)\n",
    "\n",
    "print('Training Accuracy : ', metrics.accuracy_score(Y_train, y_pred_train) * 100)\n",
    "print('Validation Accuracy : ', metrics.accuracy_score(Y_val, y_pred_val) * 100)"
   ]
  }
 ],
 "metadata": {
  "kernelspec": {
   "display_name": "sklearn-env",
   "language": "python",
   "name": "python3"
  },
  "language_info": {
   "codemirror_mode": {
    "name": "ipython",
    "version": 3
   },
   "file_extension": ".py",
   "mimetype": "text/x-python",
   "name": "python",
   "nbconvert_exporter": "python",
   "pygments_lexer": "ipython3",
   "version": "3.12.3"
  }
 },
 "nbformat": 4,
 "nbformat_minor": 2
}
