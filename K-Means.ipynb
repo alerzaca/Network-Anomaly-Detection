{
  "cells": [
    {
      "cell_type": "code",
      "execution_count": 1,
      "metadata": {
        "id": "iOZcbQFZg8QR"
      },
      "outputs": [],
      "source": [
        "import pandas as pd\n",
        "import numpy as np\n",
        "import matplotlib.pyplot as plt\n",
        "from sklearn.decomposition import PCA\n",
        "from sklearn.metrics import silhouette_score\n",
        "from sklearn.cluster import KMeans"
      ]
    },
    {
      "cell_type": "markdown",
      "metadata": {},
      "source": [
        "### Reading data\n",
        "\n",
        "Testing different datasets - clean with all 79 columns, and final with two different selections of 15 most important features."
      ]
    },
    {
      "cell_type": "code",
      "execution_count": 2,
      "metadata": {},
      "outputs": [],
      "source": [
        "data_c = pd.read_parquet('./Local/2017_Clean/Combined.parquet')\n",
        "data_f1 = pd.read_parquet('./Local/2017_Final/Combined_1.parquet')\n",
        "data_f2 = pd.read_parquet('./Local/2017_Final/Combined_2.parquet')\n",
        "\n",
        "data_c = data_c.drop(columns=[' Label'])\n",
        "data_f1 = data_f1.drop(columns=['Label'])\n",
        "data_f2 = data_f2.drop(columns=['Label'])"
      ]
    },
    {
      "cell_type": "markdown",
      "metadata": {},
      "source": [
        "### Reducing dimensionality with PCA\n",
        "Additionally showing feature importantce measure."
      ]
    },
    {
      "cell_type": "code",
      "execution_count": 18,
      "metadata": {},
      "outputs": [],
      "source": [
        "datasets = {'Clean data': data_c, 'Final data 1': data_f1, 'Final data 2': data_f2}\n",
        "pca_results = {}"
      ]
    },
    {
      "cell_type": "code",
      "execution_count": 19,
      "metadata": {},
      "outputs": [
        {
          "name": "stdout",
          "output_type": "stream",
          "text": [
            "--- Clean data ---\n",
            "Explained variation per principal component (PC): [0.62860641 0.11010856]\n",
            "Cumulative variance explained by 2 principal components: 73.87%\n",
            "\n",
            "--- Clean data ---\n",
            "Most important features:\n",
            "\n",
            "PC 1:\n",
            "  Flow Duration    0.435160\n",
            " Flow IAT Max     0.313612\n",
            "Fwd IAT Total     0.434277\n",
            " Fwd IAT Max      0.314557\n",
            "Idle Mean         0.301654\n",
            " Idle Max         0.312721\n",
            "Name: PC_1, dtype: float64\n",
            "PC 2:\n",
            "  Flow Duration    0.309949\n",
            "Fwd IAT Total     0.306129\n",
            "Bwd IAT Total     0.624901\n",
            "Name: PC_2, dtype: float64\n",
            "\n",
            "\n",
            "--- Final data 1 ---\n",
            "Explained variation per principal component (PC): [0.79193891 0.20800771]\n",
            "Cumulative variance explained by 2 principal components: 99.99%\n",
            "\n",
            "--- Final data 1 ---\n",
            "Most important features:\n",
            "\n",
            "PC 1:\n",
            " Total Length of Bwd Packets    0.707105\n",
            "Subflow Bwd Bytes              0.707095\n",
            "Name: PC_1, dtype: float64\n",
            "PC 2:\n",
            " Packet Length Variance    0.99999\n",
            "Name: PC_2, dtype: float64\n",
            "\n",
            "\n",
            "--- Final data 2 ---\n",
            "Explained variation per principal component (PC): [0.79197042 0.20801583]\n",
            "Cumulative variance explained by 2 principal components: 100.00%\n",
            "\n",
            "--- Final data 2 ---\n",
            "Most important features:\n",
            "\n",
            "PC 1:\n",
            " Total Length of Bwd Packets    0.707105\n",
            "Subflow Bwd Bytes              0.707095\n",
            "Name: PC_1, dtype: float64\n",
            "PC 2:\n",
            " Packet Length Variance    0.999991\n",
            "Name: PC_2, dtype: float64\n",
            "\n",
            "\n"
          ]
        }
      ],
      "source": [
        "for name, data in datasets.items():\n",
        "    pca = PCA(n_components=2)\n",
        "    pca_result = pca.fit_transform(data)\n",
        "    pca_results[name] = pca_result\n",
        "    \n",
        "    print(f'--- {name} ---')\n",
        "    print('Explained variation per principal component (PC): {}'.format(pca.explained_variance_ratio_))\n",
        "    print('Cumulative variance explained by 2 principal components: {:.2%}\\n'.format(np.sum(pca.explained_variance_ratio_)))\n",
        "\n",
        "    data_pca = pd.DataFrame(abs(pca.components_), columns=data.columns, index=['PC_1', 'PC_2'])\n",
        "\n",
        "    print(f'--- {name} ---')\n",
        "    print('Most important features:\\n')\n",
        "    print('PC 1:\\n', (data_pca[data_pca > 0.3].iloc[0]).dropna())   \n",
        "    print('PC 2:\\n', (data_pca[data_pca > 0.3].iloc[1]).dropna())\n",
        "    print('\\n')"
      ]
    },
    {
      "cell_type": "code",
      "execution_count": 21,
      "metadata": {},
      "outputs": [],
      "source": [
        "data = pca_results['Final data 1']"
      ]
    },
    {
      "cell_type": "markdown",
      "metadata": {},
      "source": [
        "### Hyperparameter tuning using the silhouette method"
      ]
    },
    {
      "cell_type": "code",
      "execution_count": 22,
      "metadata": {},
      "outputs": [],
      "source": [
        "def find_best_k(data, max_k):\n",
        "    silhouette_scores = []\n",
        "\n",
        "    for k in range(2, max_k + 1):\n",
        "        kmeans = KMeans(n_clusters=k, random_state=42)\n",
        "        \n",
        "        labels = kmeans.fit_predict(data)\n",
        "        \n",
        "        silhouette_avg = silhouette_score(data, labels)\n",
        "        silhouette_scores.append((k, silhouette_avg))\n",
        "    \n",
        "    return silhouette_scores"
      ]
    },
    {
      "cell_type": "code",
      "execution_count": null,
      "metadata": {},
      "outputs": [],
      "source": [
        "max_k = 2\n",
        "silhouette_scores = find_best_k(data, max_k)"
      ]
    },
    {
      "cell_type": "code",
      "execution_count": null,
      "metadata": {},
      "outputs": [],
      "source": [
        "silhouette_df = pd.DataFrame(silhouette_scores, columns=['k', 'silhouette_score'])\n",
        "\n",
        "plt.figure(figsize=(10, 6))\n",
        "plt.plot(silhouette_df['k'], silhouette_df['silhouette_score'], marker='o')\n",
        "plt.title('Silhouette Scores for Different k values')\n",
        "plt.xlabel('Number of clusters (k)')\n",
        "plt.ylabel('Silhouette Score')\n",
        "plt.grid(True)\n",
        "plt.show()"
      ]
    },
    {
      "cell_type": "code",
      "execution_count": null,
      "metadata": {},
      "outputs": [],
      "source": [
        "best_k = silhouette_df.loc[silhouette_df['silhouette_score'].idxmax()]['k']\n",
        "print(f'The best number of clusters is: {best_k}')"
      ]
    },
    {
      "cell_type": "markdown",
      "metadata": {},
      "source": [
        "### Running K-means"
      ]
    },
    {
      "cell_type": "code",
      "execution_count": 25,
      "metadata": {},
      "outputs": [],
      "source": [
        "def k_means(data, k):\n",
        "    kmeans = KMeans(n_clusters=k, random_state=42)\n",
        "    \n",
        "    kmeans.fit(data)\n",
        "    \n",
        "    centroids = kmeans.cluster_centers_\n",
        "    closest_centroids = kmeans.labels_\n",
        "    \n",
        "    return centroids, closest_centroids"
      ]
    },
    {
      "cell_type": "code",
      "execution_count": 26,
      "metadata": {},
      "outputs": [],
      "source": [
        "k = 2 #best_k\n",
        "\n",
        "#centroids, closest_centroids = k_means(data_c.values, k)\n",
        "centroids, closest_centroids = k_means(data_f1.values, k)\n",
        "#centroids, closest_centroids = k_means(data_f2.values, k)"
      ]
    },
    {
      "cell_type": "code",
      "execution_count": 27,
      "metadata": {},
      "outputs": [
        {
          "name": "stderr",
          "output_type": "stream",
          "text": [
            "/run/media/arzaca/Maxtor/Network-Anomaly-Detection/.venv/lib/python3.12/site-packages/IPython/core/pylabtools.py:170: UserWarning: Creating legend with loc=\"best\" can be slow with large amounts of data.\n",
            "  fig.canvas.print_figure(bytes_io, **kw)\n"
          ]
        },
        {
          "data": {
            "image/png": "[encoded data removed]",
            "text/plain": [
              "<Figure size 640x480 with 1 Axes>"
            ]
          },
          "metadata": {},
          "output_type": "display_data"
        }
      ],
      "source": [
        "for i in range(k):\n",
        "    cluster_points = data_f1.values[closest_centroids == i]\n",
        "    plt.scatter(cluster_points[:, 0], cluster_points[:, 1], label=f'Cluster {i}')\n",
        "\n",
        "plt.scatter(centroids[:, 0], centroids[:, 1], s=100, c='red', label='Centroids', marker='X')\n",
        "\n",
        "plt.title('K-Means Clustering')\n",
        "plt.xlabel('Feature 1')\n",
        "plt.ylabel('Feature 2')\n",
        "plt.legend()\n",
        "plt.show()"
      ]
    }
  ],
  "metadata": {
    "colab": {
      "provenance": []
    },
    "kernelspec": {
      "display_name": "Python 3",
      "language": "python",
      "name": "python3"
    },
    "language_info": {
      "codemirror_mode": {
        "name": "ipython",
        "version": 3
      },
      "file_extension": ".py",
      "mimetype": "text/x-python",
      "name": "python",
      "nbconvert_exporter": "python",
      "pygments_lexer": "ipython3",
      "version": "3.12.4"
    }
  },
  "nbformat": 4,
  "nbformat_minor": 0
}
