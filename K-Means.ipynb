{
  "cells": [
    {
      "cell_type": "markdown",
      "metadata": {
        "id": "btOEOF-Og8QQ"
      },
      "source": [
        "### K-means clustering (algorytm centroidów)"
      ]
    },
    {
      "cell_type": "code",
      "execution_count": 33,
      "metadata": {
        "id": "iOZcbQFZg8QR"
      },
      "outputs": [],
      "source": [
        "import pandas as pd\n",
        "import numpy as np\n",
        "from sklearn.preprocessing import StandardScaler\n",
        "from sklearn.cluster import KMeans\n",
        "from sklearn.metrics import silhouette_score\n",
        "import matplotlib.pyplot as plt\n",
        "import seaborn as sns"
      ]
    },
    {
      "cell_type": "code",
      "execution_count": 34,
      "metadata": {
        "id": "p3v7zfppg8QS"
      },
      "outputs": [
        {
          "name": "stdout",
          "output_type": "stream",
          "text": [
            "Index(['Label', 'Total Length of Fwd Packets', 'Total Length of Bwd Packets',\n",
            "       'Bwd Packet Length Max', 'Bwd Packet Length Mean',\n",
            "       'Bwd Packet Length Std', 'Average Packet Size', 'Avg Bwd Segment Size',\n",
            "       'Fwd Header Length.1', 'Subflow Fwd Bytes', 'Subflow Bwd Bytes'],\n",
            "      dtype='object')\n"
          ]
        }
      ],
      "source": [
        "# Load data\n",
        "df = pd.read_parquet('./IDS2017/Final/Combined.parquet')\n",
        "print(df.columns)\n",
        "\n",
        "# Encodowanie Label i rozdzielenie od reszty danych\n",
        "X = df.drop('Label', axis=1)\n",
        "\n",
        "# Scale (polecało zrobić)\n",
        "scaler = StandardScaler()\n",
        "X_scaled = scaler.fit_transform(X)"
      ]
    },
    {
      "cell_type": "code",
      "execution_count": 35,
      "metadata": {},
      "outputs": [
        {
          "name": "stdout",
          "output_type": "stream",
          "text": [
            "Cluster Counts:\n",
            "0    1075900\n",
            "1     260324\n",
            "Name: Cluster, dtype: int64\n"
          ]
        },
        {
          "data": {
            "image/png": "[encoded data removed]",
            "text/plain": [
              "<Figure size 640x480 with 1 Axes>"
            ]
          },
          "metadata": {},
          "output_type": "display_data"
        }
      ],
      "source": [
        "# Perform K-means clustering\n",
        "kmeans = KMeans(n_clusters=2, random_state=42)\n",
        "kmeans.fit(X_scaled)\n",
        "\n",
        "# Get cluster labels\n",
        "cluster_labels = kmeans.labels_\n",
        "\n",
        "# Add cluster labels to the original dataframe\n",
        "df['Cluster'] = cluster_labels\n",
        "\n",
        "# Analyze the clusters\n",
        "cluster_counts = df['Cluster'].value_counts()\n",
        "print(\"Cluster Counts:\")\n",
        "print(cluster_counts)\n",
        "\n",
        "# Plotting\n",
        "sns.countplot(x='Cluster', data=df)\n",
        "plt.title('Cluster Distribution')\n",
        "plt.show()"
      ]
    },
    {
      "cell_type": "code",
      "execution_count": null,
      "metadata": {},
      "outputs": [],
      "source": [
        "# Calculate silhouette score\n",
        "silhouette_avg = silhouette_score(X_scaled, cluster_labels)\n",
        "print(f\"Silhouette Score: {silhouette_avg}\")\n",
        "\n",
        "# Visualize cluster distributions if needed\n",
        "sns.countplot(x='Cluster', data=df)\n",
        "plt.title('Cluster Distribution')\n",
        "plt.show()"
      ]
    }
  ],
  "metadata": {
    "colab": {
      "provenance": []
    },
    "kernelspec": {
      "display_name": "Python 3",
      "language": "python",
      "name": "python3"
    },
    "language_info": {
      "codemirror_mode": {
        "name": "ipython",
        "version": 3
      },
      "file_extension": ".py",
      "mimetype": "text/x-python",
      "name": "python",
      "nbconvert_exporter": "python",
      "pygments_lexer": "ipython3",
      "version": "3.12.3"
    }
  },
  "nbformat": 4,
  "nbformat_minor": 0
}
