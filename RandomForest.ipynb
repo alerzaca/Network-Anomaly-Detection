{
 "cells": [
  {
   "cell_type": "markdown",
   "metadata": {},
   "source": [
    "## Środa"
   ]
  },
  {
   "cell_type": "code",
   "execution_count": 6,
   "metadata": {},
   "outputs": [
    {
     "name": "stdout",
     "output_type": "stream",
     "text": [
      "(427344, 10) (183148, 10)\n",
      "Training Accuracy :  98.95189823654947\n",
      "Validation Accuracy :  98.94839146482626\n",
      "Confusion Matrix:\n",
      "                  BENIGN  DoS slowloris  DoS Slowhttptest  DoS Hulk  \\\n",
      "BENIGN            124561              2               291        51   \n",
      "DoS slowloris        748           2339                 0         1   \n",
      "DoS Slowhttptest     787              0             51253         1   \n",
      "DoS Hulk              15              0                 1      1495   \n",
      "DoS GoldenEye         13              0                 0         3   \n",
      "Heartbleed             0              0                 0         0   \n",
      "\n",
      "                  DoS GoldenEye  Heartbleed  \n",
      "BENIGN                        2           0  \n",
      "DoS slowloris                 0           0  \n",
      "DoS Slowhttptest              0           0  \n",
      "DoS Hulk                     11           0  \n",
      "DoS GoldenEye              1572           0  \n",
      "Heartbleed                    0           2  \n",
      "Classification Report:\n",
      "                  precision    recall  f1-score   support\n",
      "\n",
      "          BENIGN       0.99      1.00      0.99    124907\n",
      "   DoS slowloris       1.00      0.76      0.86      3088\n",
      "DoS Slowhttptest       0.99      0.98      0.99     52041\n",
      "        DoS Hulk       0.96      0.98      0.97      1522\n",
      "   DoS GoldenEye       0.99      0.99      0.99      1588\n",
      "      Heartbleed       1.00      1.00      1.00         2\n",
      "\n",
      "        accuracy                           0.99    183148\n",
      "       macro avg       0.99      0.95      0.97    183148\n",
      "    weighted avg       0.99      0.99      0.99    183148\n",
      "\n"
     ]
    }
   ],
   "source": [
    "from sklearn.model_selection import train_test_split\n",
    "from sklearn.ensemble import RandomForestClassifier\n",
    "import pandas as pd\n",
    "from sklearn import metrics\n",
    "from sklearn.preprocessing import LabelEncoder\n",
    "import matplotlib.pyplot as plt\n",
    "\n",
    "data = pd.read_parquet('./IDS2017/Final/Wednesday.parquet')\n",
    "\n",
    "X = data.drop(columns=['Label'])\n",
    "y = data['Label']\n",
    "\n",
    "X_train, X_val, Y_train, Y_val = train_test_split(X,\n",
    "                                                  y, \n",
    "                                                  test_size = 0.3, \n",
    "                                                  random_state=2022)\n",
    "print(X_train.shape, X_val.shape)\n",
    "\n",
    "model = RandomForestClassifier()\n",
    "model.fit(X_train, Y_train)\n",
    "print('Training Accuracy : ', \n",
    "      metrics.accuracy_score(Y_train,\n",
    "                             model.predict(X_train))*100)\n",
    "print('Validation Accuracy : ', \n",
    "      metrics.accuracy_score(Y_val, \n",
    "                             model.predict(X_val))*100)\n",
    "\n",
    "class_labels = y.unique()\n",
    "confusion_matrix = metrics.confusion_matrix(Y_val, model.predict(X_val))\n",
    "confusion_df = pd.DataFrame(confusion_matrix, index=class_labels, columns=class_labels)\n",
    "\n",
    "print(\"Confusion Matrix:\")\n",
    "print(confusion_df)\n",
    "\n",
    "classification_report = metrics.classification_report(Y_val, model.predict(X_val), target_names=class_labels)\n",
    "print(\"Classification Report:\")\n",
    "print(classification_report)"
   ]
  },
  {
   "cell_type": "markdown",
   "metadata": {},
   "source": [
    "## Piątek"
   ]
  },
  {
   "cell_type": "code",
   "execution_count": 12,
   "metadata": {},
   "outputs": [
    {
     "name": "stdout",
     "output_type": "stream",
     "text": [
      "(156157, 10) (66925, 10)\n",
      "Training Accuracy :  99.92059273679695\n",
      "Validation Accuracy :  99.90885319387374\n",
      "Confusion Matrix:\n",
      "        BENIGN   DDoS\n",
      "BENIGN   28523      5\n",
      "DDoS        56  38341\n",
      "Classification Report:\n",
      "              precision    recall  f1-score   support\n",
      "\n",
      "      BENIGN       1.00      1.00      1.00     28528\n",
      "        DDoS       1.00      1.00      1.00     38397\n",
      "\n",
      "    accuracy                           1.00     66925\n",
      "   macro avg       1.00      1.00      1.00     66925\n",
      "weighted avg       1.00      1.00      1.00     66925\n",
      "\n"
     ]
    }
   ],
   "source": [
    "data2 = pd.read_parquet('./IDS2017/Final/Friday.parquet')\n",
    "\n",
    "# Split data into features and labels\n",
    "X = data2.drop(columns=['Label'])\n",
    "y = data2['Label']\n",
    "\n",
    "\n",
    "X_train, X_val, Y_train, Y_val = train_test_split(X, y, test_size=0.3, random_state=2022)\n",
    "print(X_train.shape, X_val.shape)\n",
    "\n",
    "model2 = RandomForestClassifier()\n",
    "model2.fit(X_train, Y_train)\n",
    "\n",
    "print('Training Accuracy : ', metrics.accuracy_score(Y_train, model2.predict(X_train)) * 100)\n",
    "print('Validation Accuracy : ', metrics.accuracy_score(Y_val, model2.predict(X_val)) * 100)\n",
    "\n",
    "\n",
    "confusion_matrix = metrics.confusion_matrix(Y_val, model2.predict(X_val))\n",
    "class_labels = sorted(Y_val.unique())\n",
    "\n",
    "confusion_df = pd.DataFrame(confusion_matrix, index=class_labels, columns=class_labels)\n",
    "\n",
    "print(\"Confusion Matrix:\")\n",
    "print(confusion_df)\n",
    "\n",
    "classification_report = metrics.classification_report(Y_val, model2.predict(X_val), target_names=class_labels)\n",
    "print(\"Classification Report:\")\n",
    "print(classification_report)"
   ]
  },
  {
   "cell_type": "markdown",
   "metadata": {},
   "source": [
    "## Połączone DDoSy"
   ]
  },
  {
   "cell_type": "code",
   "execution_count": 14,
   "metadata": {},
   "outputs": [
    {
     "name": "stdout",
     "output_type": "stream",
     "text": [
      "(935356, 10) (400868, 10)\n",
      "Training Accuracy :  99.22018995975864\n",
      "Validation Accuracy :  99.20422682778371\n",
      "Confusion Matrix:\n",
      "                  BENIGN   DDoS  DoS GoldenEye  DoS Hulk  DoS Slowhttptest  \\\n",
      "BENIGN            304117    348              0         0                 0   \n",
      "DDoS                  53  38420              0         0                 0   \n",
      "DoS GoldenEye       2651    388              0         0                 0   \n",
      "DoS Hulk           47654   4112              0         0                 0   \n",
      "DoS Slowhttptest    1481      0              0         0                 0   \n",
      "DoS slowloris       1641      0              0         0                 0   \n",
      "Heartbleed             3      0              0         0                 0   \n",
      "\n",
      "                  DoS slowloris  Heartbleed  \n",
      "BENIGN                        0           0  \n",
      "DDoS                          0           0  \n",
      "DoS GoldenEye                 0           0  \n",
      "DoS Hulk                      0           0  \n",
      "DoS Slowhttptest              0           0  \n",
      "DoS slowloris                 0           0  \n",
      "Heartbleed                    0           0  \n",
      "Classification Report:\n",
      "                  precision    recall  f1-score   support\n",
      "\n",
      "          BENIGN       0.85      1.00      0.92    304465\n",
      "            DDoS       0.89      1.00      0.94     38473\n",
      "   DoS GoldenEye       0.00      0.00      0.00      3039\n",
      "        DoS Hulk       0.00      0.00      0.00     51766\n",
      "DoS Slowhttptest       0.00      0.00      0.00      1481\n",
      "   DoS slowloris       0.00      0.00      0.00      1641\n",
      "      Heartbleed       0.00      0.00      0.00         3\n",
      "\n",
      "        accuracy                           0.85    400868\n",
      "       macro avg       0.25      0.29      0.27    400868\n",
      "    weighted avg       0.73      0.85      0.79    400868\n",
      "\n"
     ]
    }
   ],
   "source": [
    "data3 = pd.read_parquet('./IDS2017/Final/Combined.parquet')\n",
    "\n",
    "\n",
    "X = data3.drop(columns=['Label'])\n",
    "y = data3['Label']\n",
    "X_train, X_val, Y_train, Y_val = train_test_split(X,\n",
    "                                                  y, \n",
    "                                                  test_size = 0.3, \n",
    "                                                  random_state=2022)\n",
    "print(X_train.shape, X_val.shape)\n",
    "\n",
    "model3 = RandomForestClassifier()\n",
    "model3.fit(X_train, Y_train)\n",
    "print('Training Accuracy : ', \n",
    "      metrics.accuracy_score(Y_train,\n",
    "                             model3.predict(X_train))*100)\n",
    "print('Validation Accuracy : ', \n",
    "      metrics.accuracy_score(Y_val, \n",
    "                             model3.predict(X_val))*100)\n",
    "\n",
    "\n",
    "confusion_matrix = metrics.confusion_matrix(Y_val, model2.predict(X_val))\n",
    "class_labels = sorted(Y_val.unique())\n",
    "\n",
    "confusion_df = pd.DataFrame(confusion_matrix, index=class_labels, columns=class_labels)\n",
    "\n",
    "print(\"Confusion Matrix:\")\n",
    "print(confusion_df)\n",
    "\n",
    "classification_report = metrics.classification_report(Y_val, model2.predict(X_val), target_names=class_labels, zero_division=0)\n",
    "print(\"Classification Report:\")\n",
    "print(classification_report)"
   ]
  }
 ],
 "metadata": {
  "kernelspec": {
   "display_name": "sklearn-env",
   "language": "python",
   "name": "python3"
  },
  "language_info": {
   "codemirror_mode": {
    "name": "ipython",
    "version": 3
   },
   "file_extension": ".py",
   "mimetype": "text/x-python",
   "name": "python",
   "nbconvert_exporter": "python",
   "pygments_lexer": "ipython3",
   "version": "3.12.3"
  }
 },
 "nbformat": 4,
 "nbformat_minor": 2
}
