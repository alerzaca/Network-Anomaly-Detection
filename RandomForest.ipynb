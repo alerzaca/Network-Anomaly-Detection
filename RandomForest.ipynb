{
 "cells": [
  {
   "cell_type": "markdown",
   "metadata": {},
   "source": [
    "## Środa"
   ]
  },
  {
   "cell_type": "code",
   "execution_count": 4,
   "metadata": {},
   "outputs": [
    {
     "name": "stdout",
     "output_type": "stream",
     "text": [
      "(427344, 10) (183148, 10)\n",
      "Training Accuracy :  98.95189823654947\n",
      "Validation Accuracy :  98.95002948435146\n"
     ]
    }
   ],
   "source": [
    "from sklearn.model_selection import train_test_split\n",
    "from sklearn.ensemble import RandomForestClassifier\n",
    "import pandas as pd\n",
    "from sklearn import metrics\n",
    "from sklearn.preprocessing import LabelEncoder\n",
    "import matplotlib.pyplot as plt\n",
    "\n",
    "data = pd.read_parquet('./IDS2017/Final/Wednesday.parquet')\n",
    "\n",
    "X = data.drop(columns=['Label'])\n",
    "y = data['Label']\n",
    "X_train, X_val, Y_train, Y_val = train_test_split(X,\n",
    "                                                  y, \n",
    "                                                  test_size = 0.3, \n",
    "                                                  random_state=2022)\n",
    "print(X_train.shape, X_val.shape)\n",
    "\n",
    "model = RandomForestClassifier()\n",
    "model.fit(X_train, Y_train)\n",
    "print('Training Accuracy : ', \n",
    "      metrics.accuracy_score(Y_train,\n",
    "                             model.predict(X_train))*100)\n",
    "print('Validation Accuracy : ', \n",
    "      metrics.accuracy_score(Y_val, \n",
    "                             model.predict(X_val))*100)"
   ]
  },
  {
   "cell_type": "markdown",
   "metadata": {},
   "source": [
    "## Piątek"
   ]
  },
  {
   "cell_type": "code",
   "execution_count": 5,
   "metadata": {},
   "outputs": [
    {
     "name": "stdout",
     "output_type": "stream",
     "text": [
      "(156157, 10) (66925, 10)\n",
      "Training Accuracy :  99.92059273679695\n",
      "Validation Accuracy :  99.90885319387374\n"
     ]
    }
   ],
   "source": [
    "data2 = pd.read_parquet('./IDS2017/Final/Friday.parquet')\n",
    "\n",
    "\n",
    "X = data2.drop(columns=['Label'])\n",
    "y = data2['Label']\n",
    "X_train, X_val, Y_train, Y_val = train_test_split(X,\n",
    "                                                  y, \n",
    "                                                  test_size = 0.3, \n",
    "                                                  random_state=2022)\n",
    "print(X_train.shape, X_val.shape)\n",
    "\n",
    "model2 = RandomForestClassifier()\n",
    "model2.fit(X_train, Y_train)\n",
    "print('Training Accuracy : ', \n",
    "      metrics.accuracy_score(Y_train,\n",
    "                             model2.predict(X_train))*100)\n",
    "print('Validation Accuracy : ', \n",
    "      metrics.accuracy_score(Y_val, \n",
    "                             model2.predict(X_val))*100)"
   ]
  },
  {
   "cell_type": "markdown",
   "metadata": {},
   "source": [
    "## Połączone DDoSy"
   ]
  },
  {
   "cell_type": "code",
   "execution_count": 7,
   "metadata": {},
   "outputs": [
    {
     "name": "stdout",
     "output_type": "stream",
     "text": [
      "(935356, 9) (400868, 9)\n",
      "Training Accuracy :  99.85855652820959\n",
      "Validation Accuracy :  99.78820958520012\n"
     ]
    }
   ],
   "source": [
    "data3 = pd.read_parquet('./IDS2017/Final/DDoS_Attacks.parquet')\n",
    "\n",
    "\n",
    "X = data3.drop(columns=['Label'])\n",
    "y = data3['Label']\n",
    "X_train, X_val, Y_train, Y_val = train_test_split(X,\n",
    "                                                  y, \n",
    "                                                  test_size = 0.3, \n",
    "                                                  random_state=2022)\n",
    "print(X_train.shape, X_val.shape)\n",
    "\n",
    "model3 = RandomForestClassifier()\n",
    "model3.fit(X_train, Y_train)\n",
    "print('Training Accuracy : ', \n",
    "      metrics.accuracy_score(Y_train,\n",
    "                             model3.predict(X_train))*100)\n",
    "print('Validation Accuracy : ', \n",
    "      metrics.accuracy_score(Y_val, \n",
    "                             model3.predict(X_val))*100)"
   ]
  }
 ],
 "metadata": {
  "kernelspec": {
   "display_name": "sklearn-env",
   "language": "python",
   "name": "python3"
  },
  "language_info": {
   "codemirror_mode": {
    "name": "ipython",
    "version": 3
   },
   "file_extension": ".py",
   "mimetype": "text/x-python",
   "name": "python",
   "nbconvert_exporter": "python",
   "pygments_lexer": "ipython3",
   "version": "3.12.3"
  }
 },
 "nbformat": 4,
 "nbformat_minor": 2
}
