{
  "nbformat": 4,
  "nbformat_minor": 0,
  "metadata": {
    "colab": {
      "provenance": []
    },
    "kernelspec": {
      "name": "python3",
      "display_name": "Python 3"
    },
    "language_info": {
      "name": "python"
    }
  },
  "cells": [
    {
      "cell_type": "markdown",
      "source": [
        "# Pobieranie danych"
      ],
      "metadata": {
        "id": "mTIpF6iXQdv_"
      }
    },
    {
      "cell_type": "code",
      "execution_count": 1,
      "metadata": {
        "colab": {
          "base_uri": "https://localhost:8080/"
        },
        "id": "9jXwRtRzupli",
        "outputId": "097352c4-6337-4b3d-9632-06c142ccae28"
      },
      "outputs": [
        {
          "output_type": "stream",
          "name": "stdout",
          "text": [
            "Downloading...\n",
            "From: http://205.174.165.80/CICDataset/CIC-IDS-2017/Dataset/CIC-IDS-2017/CSVs/MachineLearningCSV.zip\n",
            "To: /content/MachineLearningCSV.zip\n",
            "100% 235M/235M [02:06<00:00, 1.86MB/s]\n",
            "Archive:  MachineLearningCSV.zip\n",
            "   creating: MachineLearningCVE/\n",
            "  inflating: MachineLearningCVE/Wednesday-workingHours.pcap_ISCX.csv  \n",
            "  inflating: MachineLearningCVE/Tuesday-WorkingHours.pcap_ISCX.csv  \n",
            "  inflating: MachineLearningCVE/Thursday-WorkingHours-Morning-WebAttacks.pcap_ISCX.csv  \n",
            "  inflating: MachineLearningCVE/Thursday-WorkingHours-Afternoon-Infilteration.pcap_ISCX.csv  \n",
            "  inflating: MachineLearningCVE/Monday-WorkingHours.pcap_ISCX.csv  \n",
            "  inflating: MachineLearningCVE/Friday-WorkingHours-Morning.pcap_ISCX.csv  \n",
            "  inflating: MachineLearningCVE/Friday-WorkingHours-Afternoon-PortScan.pcap_ISCX.csv  \n",
            "  inflating: MachineLearningCVE/Friday-WorkingHours-Afternoon-DDos.pcap_ISCX.csv  \n"
          ]
        }
      ],
      "source": [
        "!gdown http://205.174.165.80/CICDataset/CIC-IDS-2017/Dataset/CIC-IDS-2017/CSVs/MachineLearningCSV.zip\n",
        "!unzip MachineLearningCSV.zip"
      ]
    },
    {
      "cell_type": "markdown",
      "source": [
        "# Importy i ważne zmienne\n"
      ],
      "metadata": {
        "id": "39M17GXHQftO"
      }
    },
    {
      "cell_type": "code",
      "source": [
        "import numpy as np\n",
        "import pandas as pd\n",
        "import os\n",
        "\n",
        "\n",
        "from fastai.tabular.all import df_shrink\n",
        "dir_path = './MachineLearningCVE'\n"
      ],
      "metadata": {
        "id": "arOcMFMUyTKT"
      },
      "execution_count": 2,
      "outputs": []
    },
    {
      "cell_type": "markdown",
      "source": [
        "# Czytanie ścieżek do plików i danych"
      ],
      "metadata": {
        "id": "9cLhwCLGQ66N"
      }
    },
    {
      "cell_type": "code",
      "source": [
        "def read_paths(dir_path):\n",
        "  dspaths = []\n",
        "  for dirname, _, filenames in os.walk(dir_path):\n",
        "      for filename in filenames:\n",
        "          if filename.endswith('.csv'):\n",
        "              pds = os.path.join(dirname, filename)\n",
        "              dspaths.append(pds)\n",
        "              print(pds)\n",
        "  return dspaths\n",
        "\n",
        "def read_files(dspaths):\n",
        "  individual_dfs = [pd.read_csv(dsp, sep=',', encoding='utf-8') for dsp in dspaths]\n",
        "  [i.shape for i in individual_dfs]\n",
        "  return individual_dfs\n",
        "\n",
        "dspaths = read_paths(dir_path)\n",
        "individual_dfs = read_files(dspaths)"
      ],
      "metadata": {
        "id": "igRujRl18tUM",
        "colab": {
          "base_uri": "https://localhost:8080/"
        },
        "outputId": "b24f983c-b60b-4b8b-d45e-d7932f068b63"
      },
      "execution_count": 3,
      "outputs": [
        {
          "output_type": "stream",
          "name": "stdout",
          "text": [
            "./MachineLearningCVE/Monday-WorkingHours.pcap_ISCX.csv\n",
            "./MachineLearningCVE/Friday-WorkingHours-Morning.pcap_ISCX.csv\n",
            "./MachineLearningCVE/Thursday-WorkingHours-Afternoon-Infilteration.pcap_ISCX.csv\n",
            "./MachineLearningCVE/Friday-WorkingHours-Afternoon-DDos.pcap_ISCX.csv\n",
            "./MachineLearningCVE/Friday-WorkingHours-Afternoon-PortScan.pcap_ISCX.csv\n",
            "./MachineLearningCVE/Wednesday-workingHours.pcap_ISCX.csv\n",
            "./MachineLearningCVE/Thursday-WorkingHours-Morning-WebAttacks.pcap_ISCX.csv\n",
            "./MachineLearningCVE/Tuesday-WorkingHours.pcap_ISCX.csv\n"
          ]
        }
      ]
    },
    {
      "cell_type": "code",
      "source": [
        "individual_dfs[1].info()"
      ],
      "metadata": {
        "colab": {
          "base_uri": "https://localhost:8080/"
        },
        "id": "XTMMWFySgwKI",
        "outputId": "68e735b8-ed31-46a7-ce3a-f4cd8f1d6f1b"
      },
      "execution_count": 4,
      "outputs": [
        {
          "output_type": "stream",
          "name": "stdout",
          "text": [
            "<class 'pandas.core.frame.DataFrame'>\n",
            "RangeIndex: 191033 entries, 0 to 191032\n",
            "Data columns (total 79 columns):\n",
            " #   Column                        Non-Null Count   Dtype  \n",
            "---  ------                        --------------   -----  \n",
            " 0    Destination Port             191033 non-null  int64  \n",
            " 1    Flow Duration                191033 non-null  int64  \n",
            " 2    Total Fwd Packets            191033 non-null  int64  \n",
            " 3    Total Backward Packets       191033 non-null  int64  \n",
            " 4   Total Length of Fwd Packets   191033 non-null  int64  \n",
            " 5    Total Length of Bwd Packets  191033 non-null  int64  \n",
            " 6    Fwd Packet Length Max        191033 non-null  int64  \n",
            " 7    Fwd Packet Length Min        191033 non-null  int64  \n",
            " 8    Fwd Packet Length Mean       191033 non-null  float64\n",
            " 9    Fwd Packet Length Std        191033 non-null  float64\n",
            " 10  Bwd Packet Length Max         191033 non-null  int64  \n",
            " 11   Bwd Packet Length Min        191033 non-null  int64  \n",
            " 12   Bwd Packet Length Mean       191033 non-null  float64\n",
            " 13   Bwd Packet Length Std        191033 non-null  float64\n",
            " 14  Flow Bytes/s                  191005 non-null  float64\n",
            " 15   Flow Packets/s               191033 non-null  float64\n",
            " 16   Flow IAT Mean                191033 non-null  float64\n",
            " 17   Flow IAT Std                 191033 non-null  float64\n",
            " 18   Flow IAT Max                 191033 non-null  int64  \n",
            " 19   Flow IAT Min                 191033 non-null  int64  \n",
            " 20  Fwd IAT Total                 191033 non-null  int64  \n",
            " 21   Fwd IAT Mean                 191033 non-null  float64\n",
            " 22   Fwd IAT Std                  191033 non-null  float64\n",
            " 23   Fwd IAT Max                  191033 non-null  int64  \n",
            " 24   Fwd IAT Min                  191033 non-null  int64  \n",
            " 25  Bwd IAT Total                 191033 non-null  int64  \n",
            " 26   Bwd IAT Mean                 191033 non-null  float64\n",
            " 27   Bwd IAT Std                  191033 non-null  float64\n",
            " 28   Bwd IAT Max                  191033 non-null  int64  \n",
            " 29   Bwd IAT Min                  191033 non-null  int64  \n",
            " 30  Fwd PSH Flags                 191033 non-null  int64  \n",
            " 31   Bwd PSH Flags                191033 non-null  int64  \n",
            " 32   Fwd URG Flags                191033 non-null  int64  \n",
            " 33   Bwd URG Flags                191033 non-null  int64  \n",
            " 34   Fwd Header Length            191033 non-null  int64  \n",
            " 35   Bwd Header Length            191033 non-null  int64  \n",
            " 36  Fwd Packets/s                 191033 non-null  float64\n",
            " 37   Bwd Packets/s                191033 non-null  float64\n",
            " 38   Min Packet Length            191033 non-null  int64  \n",
            " 39   Max Packet Length            191033 non-null  int64  \n",
            " 40   Packet Length Mean           191033 non-null  float64\n",
            " 41   Packet Length Std            191033 non-null  float64\n",
            " 42   Packet Length Variance       191033 non-null  float64\n",
            " 43  FIN Flag Count                191033 non-null  int64  \n",
            " 44   SYN Flag Count               191033 non-null  int64  \n",
            " 45   RST Flag Count               191033 non-null  int64  \n",
            " 46   PSH Flag Count               191033 non-null  int64  \n",
            " 47   ACK Flag Count               191033 non-null  int64  \n",
            " 48   URG Flag Count               191033 non-null  int64  \n",
            " 49   CWE Flag Count               191033 non-null  int64  \n",
            " 50   ECE Flag Count               191033 non-null  int64  \n",
            " 51   Down/Up Ratio                191033 non-null  int64  \n",
            " 52   Average Packet Size          191033 non-null  float64\n",
            " 53   Avg Fwd Segment Size         191033 non-null  float64\n",
            " 54   Avg Bwd Segment Size         191033 non-null  float64\n",
            " 55   Fwd Header Length.1          191033 non-null  int64  \n",
            " 56  Fwd Avg Bytes/Bulk            191033 non-null  int64  \n",
            " 57   Fwd Avg Packets/Bulk         191033 non-null  int64  \n",
            " 58   Fwd Avg Bulk Rate            191033 non-null  int64  \n",
            " 59   Bwd Avg Bytes/Bulk           191033 non-null  int64  \n",
            " 60   Bwd Avg Packets/Bulk         191033 non-null  int64  \n",
            " 61  Bwd Avg Bulk Rate             191033 non-null  int64  \n",
            " 62  Subflow Fwd Packets           191033 non-null  int64  \n",
            " 63   Subflow Fwd Bytes            191033 non-null  int64  \n",
            " 64   Subflow Bwd Packets          191033 non-null  int64  \n",
            " 65   Subflow Bwd Bytes            191033 non-null  int64  \n",
            " 66  Init_Win_bytes_forward        191033 non-null  int64  \n",
            " 67   Init_Win_bytes_backward      191033 non-null  int64  \n",
            " 68   act_data_pkt_fwd             191033 non-null  int64  \n",
            " 69   min_seg_size_forward         191033 non-null  int64  \n",
            " 70  Active Mean                   191033 non-null  float64\n",
            " 71   Active Std                   191033 non-null  float64\n",
            " 72   Active Max                   191033 non-null  int64  \n",
            " 73   Active Min                   191033 non-null  int64  \n",
            " 74  Idle Mean                     191033 non-null  float64\n",
            " 75   Idle Std                     191033 non-null  float64\n",
            " 76   Idle Max                     191033 non-null  int64  \n",
            " 77   Idle Min                     191033 non-null  int64  \n",
            " 78   Label                        191033 non-null  object \n",
            "dtypes: float64(24), int64(54), object(1)\n",
            "memory usage: 115.1+ MB\n"
          ]
        }
      ]
    },
    {
      "cell_type": "code",
      "source": [
        "individual_dfs[1].sample()"
      ],
      "metadata": {
        "colab": {
          "base_uri": "https://localhost:8080/",
          "height": 182
        },
        "id": "ZDjhFY4rhmKo",
        "outputId": "037509b2-d8a9-4fb7-d4b7-fbb06962c0b8"
      },
      "execution_count": null,
      "outputs": [
        {
          "output_type": "execute_result",
          "data": {
            "text/plain": [
              "       Flow Duration  Total Fwd Packets  Total Backward Packets  \\\n",
              "18343             66                  2                       1   \n",
              "\n",
              "       Total Length of Fwd Packets  Total Length of Bwd Packets  \\\n",
              "18343                            0                            0   \n",
              "\n",
              "       Fwd Packet Length Mean  Fwd Packet Length Std  Bwd Packet Length Mean  \\\n",
              "18343                     0.0                    0.0                     0.0   \n",
              "\n",
              "       Bwd Packet Length Std  Flow Bytes/s  ...  Subflow Bwd Bytes  \\\n",
              "18343                    0.0           0.0  ...                  0   \n",
              "\n",
              "       Init_Win_bytes_forward  Init_Win_bytes_backward  act_data_pkt_fwd  \\\n",
              "18343                     349                    65535                 0   \n",
              "\n",
              "       min_seg_size_forward  Active Mean  Active Std  Idle Mean  Idle Std  \\\n",
              "18343                    32          0.0         0.0        0.0       0.0   \n",
              "\n",
              "        Label  \n",
              "18343  BENIGN  \n",
              "\n",
              "[1 rows x 43 columns]"
            ],
            "text/html": [
              "\n",
              "  <div id=\"df-d24e3ea1-a999-474f-99e5-9b7821d7fa46\" class=\"colab-df-container\">\n",
              "    <div>\n",
              "<style scoped>\n",
              "    .dataframe tbody tr th:only-of-type {\n",
              "        vertical-align: middle;\n",
              "    }\n",
              "\n",
              "    .dataframe tbody tr th {\n",
              "        vertical-align: top;\n",
              "    }\n",
              "\n",
              "    .dataframe thead th {\n",
              "        text-align: right;\n",
              "    }\n",
              "</style>\n",
              "<table border=\"1\" class=\"dataframe\">\n",
              "  <thead>\n",
              "    <tr style=\"text-align: right;\">\n",
              "      <th></th>\n",
              "      <th>Flow Duration</th>\n",
              "      <th>Total Fwd Packets</th>\n",
              "      <th>Total Backward Packets</th>\n",
              "      <th>Total Length of Fwd Packets</th>\n",
              "      <th>Total Length of Bwd Packets</th>\n",
              "      <th>Fwd Packet Length Mean</th>\n",
              "      <th>Fwd Packet Length Std</th>\n",
              "      <th>Bwd Packet Length Mean</th>\n",
              "      <th>Bwd Packet Length Std</th>\n",
              "      <th>Flow Bytes/s</th>\n",
              "      <th>...</th>\n",
              "      <th>Subflow Bwd Bytes</th>\n",
              "      <th>Init_Win_bytes_forward</th>\n",
              "      <th>Init_Win_bytes_backward</th>\n",
              "      <th>act_data_pkt_fwd</th>\n",
              "      <th>min_seg_size_forward</th>\n",
              "      <th>Active Mean</th>\n",
              "      <th>Active Std</th>\n",
              "      <th>Idle Mean</th>\n",
              "      <th>Idle Std</th>\n",
              "      <th>Label</th>\n",
              "    </tr>\n",
              "  </thead>\n",
              "  <tbody>\n",
              "    <tr>\n",
              "      <th>18343</th>\n",
              "      <td>66</td>\n",
              "      <td>2</td>\n",
              "      <td>1</td>\n",
              "      <td>0</td>\n",
              "      <td>0</td>\n",
              "      <td>0.0</td>\n",
              "      <td>0.0</td>\n",
              "      <td>0.0</td>\n",
              "      <td>0.0</td>\n",
              "      <td>0.0</td>\n",
              "      <td>...</td>\n",
              "      <td>0</td>\n",
              "      <td>349</td>\n",
              "      <td>65535</td>\n",
              "      <td>0</td>\n",
              "      <td>32</td>\n",
              "      <td>0.0</td>\n",
              "      <td>0.0</td>\n",
              "      <td>0.0</td>\n",
              "      <td>0.0</td>\n",
              "      <td>BENIGN</td>\n",
              "    </tr>\n",
              "  </tbody>\n",
              "</table>\n",
              "<p>1 rows × 43 columns</p>\n",
              "</div>\n",
              "    <div class=\"colab-df-buttons\">\n",
              "\n",
              "  <div class=\"colab-df-container\">\n",
              "    <button class=\"colab-df-convert\" onclick=\"convertToInteractive('df-d24e3ea1-a999-474f-99e5-9b7821d7fa46')\"\n",
              "            title=\"Convert this dataframe to an interactive table.\"\n",
              "            style=\"display:none;\">\n",
              "\n",
              "  <svg xmlns=\"http://www.w3.org/2000/svg\" height=\"24px\" viewBox=\"0 -960 960 960\">\n",
              "    <path d=\"M120-120v-720h720v720H120Zm60-500h600v-160H180v160Zm220 220h160v-160H400v160Zm0 220h160v-160H400v160ZM180-400h160v-160H180v160Zm440 0h160v-160H620v160ZM180-180h160v-160H180v160Zm440 0h160v-160H620v160Z\"/>\n",
              "  </svg>\n",
              "    </button>\n",
              "\n",
              "  <style>\n",
              "    .colab-df-container {\n",
              "      display:flex;\n",
              "      gap: 12px;\n",
              "    }\n",
              "\n",
              "    .colab-df-convert {\n",
              "      background-color: #E8F0FE;\n",
              "      border: none;\n",
              "      border-radius: 50%;\n",
              "      cursor: pointer;\n",
              "      display: none;\n",
              "      fill: #1967D2;\n",
              "      height: 32px;\n",
              "      padding: 0 0 0 0;\n",
              "      width: 32px;\n",
              "    }\n",
              "\n",
              "    .colab-df-convert:hover {\n",
              "      background-color: #E2EBFA;\n",
              "      box-shadow: 0px 1px 2px rgba(60, 64, 67, 0.3), 0px 1px 3px 1px rgba(60, 64, 67, 0.15);\n",
              "      fill: #174EA6;\n",
              "    }\n",
              "\n",
              "    .colab-df-buttons div {\n",
              "      margin-bottom: 4px;\n",
              "    }\n",
              "\n",
              "    [theme=dark] .colab-df-convert {\n",
              "      background-color: #3B4455;\n",
              "      fill: #D2E3FC;\n",
              "    }\n",
              "\n",
              "    [theme=dark] .colab-df-convert:hover {\n",
              "      background-color: #434B5C;\n",
              "      box-shadow: 0px 1px 3px 1px rgba(0, 0, 0, 0.15);\n",
              "      filter: drop-shadow(0px 1px 2px rgba(0, 0, 0, 0.3));\n",
              "      fill: #FFFFFF;\n",
              "    }\n",
              "  </style>\n",
              "\n",
              "    <script>\n",
              "      const buttonEl =\n",
              "        document.querySelector('#df-d24e3ea1-a999-474f-99e5-9b7821d7fa46 button.colab-df-convert');\n",
              "      buttonEl.style.display =\n",
              "        google.colab.kernel.accessAllowed ? 'block' : 'none';\n",
              "\n",
              "      async function convertToInteractive(key) {\n",
              "        const element = document.querySelector('#df-d24e3ea1-a999-474f-99e5-9b7821d7fa46');\n",
              "        const dataTable =\n",
              "          await google.colab.kernel.invokeFunction('convertToInteractive',\n",
              "                                                    [key], {});\n",
              "        if (!dataTable) return;\n",
              "\n",
              "        const docLinkHtml = 'Like what you see? Visit the ' +\n",
              "          '<a target=\"_blank\" href=https://colab.research.google.com/notebooks/data_table.ipynb>data table notebook</a>'\n",
              "          + ' to learn more about interactive tables.';\n",
              "        element.innerHTML = '';\n",
              "        dataTable['output_type'] = 'display_data';\n",
              "        await google.colab.output.renderOutput(dataTable, element);\n",
              "        const docLink = document.createElement('div');\n",
              "        docLink.innerHTML = docLinkHtml;\n",
              "        element.appendChild(docLink);\n",
              "      }\n",
              "    </script>\n",
              "  </div>\n",
              "\n",
              "    </div>\n",
              "  </div>\n"
            ],
            "application/vnd.google.colaboratory.intrinsic+json": {
              "type": "dataframe"
            }
          },
          "metadata": {},
          "execution_count": 7
        }
      ]
    },
    {
      "cell_type": "code",
      "source": [
        "print(individual_dfs[1].isnull().sum())\n",
        "print(individual_dfs[1].notna().sum())"
      ],
      "metadata": {
        "colab": {
          "base_uri": "https://localhost:8080/",
          "height": 159
        },
        "id": "bg_vEcpGhyit",
        "outputId": "9e69dc2c-e0c5-4e40-b605-f6f076b26c97"
      },
      "execution_count": null,
      "outputs": [
        {
          "output_type": "error",
          "ename": "NameError",
          "evalue": "name 'individual_dfs' is not defined",
          "traceback": [
            "\u001b[0;31m---------------------------------------------------------------------------\u001b[0m",
            "\u001b[0;31mNameError\u001b[0m                                 Traceback (most recent call last)",
            "\u001b[0;32m<ipython-input-1-ef3dd311280b>\u001b[0m in \u001b[0;36m<cell line: 1>\u001b[0;34m()\u001b[0m\n\u001b[0;32m----> 1\u001b[0;31m \u001b[0mprint\u001b[0m\u001b[0;34m(\u001b[0m\u001b[0mindividual_dfs\u001b[0m\u001b[0;34m[\u001b[0m\u001b[0;36m1\u001b[0m\u001b[0;34m]\u001b[0m\u001b[0;34m.\u001b[0m\u001b[0misnull\u001b[0m\u001b[0;34m(\u001b[0m\u001b[0;34m)\u001b[0m\u001b[0;34m.\u001b[0m\u001b[0msum\u001b[0m\u001b[0;34m(\u001b[0m\u001b[0;34m)\u001b[0m\u001b[0;34m)\u001b[0m\u001b[0;34m\u001b[0m\u001b[0;34m\u001b[0m\u001b[0m\n\u001b[0m\u001b[1;32m      2\u001b[0m \u001b[0mprint\u001b[0m\u001b[0;34m(\u001b[0m\u001b[0mindividual_dfs\u001b[0m\u001b[0;34m[\u001b[0m\u001b[0;36m1\u001b[0m\u001b[0;34m]\u001b[0m\u001b[0;34m.\u001b[0m\u001b[0mnotna\u001b[0m\u001b[0;34m(\u001b[0m\u001b[0;34m)\u001b[0m\u001b[0;34m.\u001b[0m\u001b[0msum\u001b[0m\u001b[0;34m(\u001b[0m\u001b[0;34m)\u001b[0m\u001b[0;34m)\u001b[0m\u001b[0;34m\u001b[0m\u001b[0;34m\u001b[0m\u001b[0m\n",
            "\u001b[0;31mNameError\u001b[0m: name 'individual_dfs' is not defined"
          ]
        }
      ]
    },
    {
      "cell_type": "markdown",
      "source": [
        "# Downsizing"
      ],
      "metadata": {
        "id": "s1nv6O3eV3Dt"
      }
    },
    {
      "cell_type": "code",
      "source": [
        "individual_dfs[0].dtypes"
      ],
      "metadata": {
        "id": "3w9ic1jfXwMa",
        "colab": {
          "base_uri": "https://localhost:8080/"
        },
        "outputId": "ede07635-3b1d-4a79-c55f-a3a8228f41f5"
      },
      "execution_count": 5,
      "outputs": [
        {
          "output_type": "execute_result",
          "data": {
            "text/plain": [
              " Destination Port                int64\n",
              " Flow Duration                   int64\n",
              " Total Fwd Packets               int64\n",
              " Total Backward Packets          int64\n",
              "Total Length of Fwd Packets      int64\n",
              "                                ...   \n",
              "Idle Mean                      float64\n",
              " Idle Std                      float64\n",
              " Idle Max                        int64\n",
              " Idle Min                        int64\n",
              " Label                          object\n",
              "Length: 79, dtype: object"
            ]
          },
          "metadata": {},
          "execution_count": 5
        }
      ]
    },
    {
      "cell_type": "code",
      "source": [
        "individual_dfs = [df_shrink(df) for df in individual_dfs]"
      ],
      "metadata": {
        "id": "eOa1fdEKk95H"
      },
      "execution_count": 6,
      "outputs": []
    },
    {
      "cell_type": "code",
      "source": [
        "individual_dfs[0].dtypes"
      ],
      "metadata": {
        "colab": {
          "base_uri": "https://localhost:8080/"
        },
        "id": "xlfICL93XT6M",
        "outputId": "ea477b66-1d4d-4528-d28e-a5f5ff616ad1"
      },
      "execution_count": null,
      "outputs": [
        {
          "output_type": "execute_result",
          "data": {
            "text/plain": [
              " Destination Port                 int32\n",
              " Flow Duration                    int32\n",
              " Total Fwd Packets                int32\n",
              " Total Backward Packets           int32\n",
              "Total Length of Fwd Packets       int32\n",
              "                                 ...   \n",
              "Idle Mean                       float32\n",
              " Idle Std                       float32\n",
              " Idle Max                         int32\n",
              " Idle Min                         int32\n",
              " Label                         category\n",
              "Length: 79, dtype: object"
            ]
          },
          "metadata": {},
          "execution_count": 6
        }
      ]
    },
    {
      "cell_type": "markdown",
      "source": [
        "# Usuwanie niezdefiniowanych wartości"
      ],
      "metadata": {
        "id": "t-6AIu_SX4Py"
      }
    },
    {
      "cell_type": "code",
      "source": [
        "def drop_nan(individual_dfs):\n",
        "  for df in individual_dfs:\n",
        "      df.replace([np.inf, -np.inf], np.nan, inplace=True)\n",
        "      # print(df.isna().any(axis=1).sum(), \"rows with at least one NaN to remove\")\n",
        "      df.dropna(inplace=True)\n",
        "  [i.shape for i in individual_dfs]\n",
        "  return individual_dfs\n",
        "\n",
        "individual_dfs = drop_nan(individual_dfs)"
      ],
      "metadata": {
        "id": "aL-VFcA4lzvJ"
      },
      "execution_count": 7,
      "outputs": []
    },
    {
      "cell_type": "markdown",
      "source": [
        "# Usuwanie zduplikowanych wierszy"
      ],
      "metadata": {
        "id": "MwRNwmvMYWO2"
      }
    },
    {
      "cell_type": "code",
      "source": [
        "def drop_dupes(individual_dfs):\n",
        "  for df in individual_dfs:\n",
        "      print(df.duplicated().sum(), \"fully duplicate rows to remove\")\n",
        "      df.drop_duplicates(inplace=True)\n",
        "      df.reset_index(inplace=True, drop=True)\n",
        "  [i.shape for i in individual_dfs]\n",
        "  return individual_dfs\n",
        "\n",
        "individual_dfs = drop_dupes(individual_dfs)"
      ],
      "metadata": {
        "colab": {
          "base_uri": "https://localhost:8080/"
        },
        "id": "HYvFU_7el5jW",
        "outputId": "d474c5f0-012d-4ec8-9d04-dfe5f3b2e443"
      },
      "execution_count": 8,
      "outputs": [
        {
          "output_type": "stream",
          "name": "stdout",
          "text": [
            "26831 fully duplicate rows to remove\n",
            "6867 fully duplicate rows to remove\n",
            "35605 fully duplicate rows to remove\n",
            "2629 fully duplicate rows to remove\n",
            "72319 fully duplicate rows to remove\n",
            "80914 fully duplicate rows to remove\n",
            "6052 fully duplicate rows to remove\n",
            "24019 fully duplicate rows to remove\n"
          ]
        }
      ]
    },
    {
      "cell_type": "markdown",
      "source": [
        "## Zapisywanie danych w CSV"
      ],
      "metadata": {
        "id": "dGCDl6Icee4i"
      }
    },
    {
      "cell_type": "code",
      "source": [
        "def convert(individual_dfs):\n",
        "  for i, df in enumerate(individual_dfs):\n",
        "        csv_path = f\"./MachineLearningCVE{dspaths[i].split('/')[-1].replace('.pcap_ISCX', '')}\"\n",
        "        df.to_csv(csv_path, index=False)\n",
        "\n",
        "convert(individual_dfs)"
      ],
      "metadata": {
        "id": "4XchnPR9HV3M"
      },
      "execution_count": 9,
      "outputs": []
    },
    {
      "cell_type": "markdown",
      "source": [
        "## Zapisywanie połączonych danych w CSV"
      ],
      "metadata": {
        "id": "Sf7FIVhketrm"
      }
    },
    {
      "cell_type": "code",
      "source": [
        "combined_df = pd.concat(individual_dfs, ignore_index=True)\n",
        "combined_df.to_csv(\"combined.csv\", index=False)\n"
      ],
      "metadata": {
        "id": "svDHjAKptCmB"
      },
      "execution_count": null,
      "outputs": []
    },
    {
      "cell_type": "markdown",
      "source": [
        "# Zapisywanie danych w parquet\n",
        "\n"
      ],
      "metadata": {
        "id": "nRUiNgUJZJaP"
      }
    },
    {
      "cell_type": "code",
      "source": [
        "def convert(individual_dfs):\n",
        "  for i, df in enumerate(individual_dfs):\n",
        "      df.to_parquet(f\"./MachineLearningCVE{dspaths[i].split('/')[-1].replace('.pcap_ISCX.csv', '.parquet')}\")\n",
        "\n",
        "convert(individual_dfs)"
      ],
      "metadata": {
        "id": "jWNmfvnWmD44"
      },
      "execution_count": null,
      "outputs": []
    },
    {
      "cell_type": "markdown",
      "source": [
        "## Zapisywanie połączonych danych w parquet"
      ],
      "metadata": {
        "id": "IJE-nMrXe4hG"
      }
    },
    {
      "cell_type": "code",
      "source": [
        "def convert_to_single_parquet(individual_dfs, output_path):\n",
        "    combined_df = pd.concat(individual_dfs, ignore_index=True)\n",
        "    combined_df.to_parquet(output_path)\n",
        "\n",
        "convert_to_single_parquet(individual_dfs, \"combined.parquet\")"
      ],
      "metadata": {
        "id": "2mxWq_IJfhTB"
      },
      "execution_count": null,
      "outputs": []
    },
    {
      "cell_type": "markdown",
      "source": [
        "# Czytanie plików i misc"
      ],
      "metadata": {
        "id": "PVVHZUTVZmeC"
      }
    },
    {
      "cell_type": "markdown",
      "source": [
        "## Zamienianie wartośći z kolumny Label na BENINGN/ATTACK\n"
      ],
      "metadata": {
        "id": "o5Av-u5SdyK1"
      }
    },
    {
      "cell_type": "code",
      "source": [
        "label_map = {'BENIGN': 'BENIGN', 'DDoS': 'ATTACK', 'DoS Hulk': 'ATTACK', 'DoS GoldenEye': 'ATTACK', 'DoS slowloris': 'ATTACK',\n",
        "             'FTP-Patator': 'ATTACK', 'SSH-Patator':  'ATTACK', 'DoS Slowhttptest': 'ATTACK', 'PortScan': 'ATTACK',\n",
        "             'Web Attack � Brute Force' : 'ATTACK', 'Bot': 'ATTACK', 'Web Attack � XSS': 'ATTACK', 'Infiltration': 'ATTACK',\n",
        "             'Web Attack � Sql Injection': 'ATTACK', 'Heartbleed': 'ATTACK'}\n",
        "combined01['Label'] = combined01['Label'].map(label_map).fillna('ATTACK')\n",
        "\n",
        "print(combined01['Label'].value_counts())"
      ],
      "metadata": {
        "colab": {
          "base_uri": "https://localhost:8080/"
        },
        "id": "lfap-gRzwNwH",
        "outputId": "2b22ee85-ba1d-4806-86ac-850d02d02cb0"
      },
      "execution_count": null,
      "outputs": [
        {
          "output_type": "stream",
          "name": "stdout",
          "text": [
            "Label\n",
            "BENIGN    1886548\n",
            "ATTACK     316445\n",
            "Name: count, dtype: int64\n"
          ]
        }
      ]
    }
  ]
}