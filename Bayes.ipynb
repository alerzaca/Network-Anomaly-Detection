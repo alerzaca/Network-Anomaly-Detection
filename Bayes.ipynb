{
 "cells": [
  {
   "cell_type": "markdown",
   "metadata": {},
   "source": [
    "## Środa"
   ]
  },
  {
   "cell_type": "code",
   "execution_count": 1,
   "metadata": {},
   "outputs": [
    {
     "name": "stdout",
     "output_type": "stream",
     "text": [
      "(427344, 10) (183148, 10)\n",
      "Training Accuracy :  30.284501478902243\n",
      "Validation Accuracy :  30.452420992858237\n",
      "Confusion Matrix:\n",
      "                  BENIGN  DoS slowloris  DoS Slowhttptest  DoS Hulk  \\\n",
      "BENIGN              8173          13853              1457     11205   \n",
      "DoS slowloris         12            322              1878         0   \n",
      "DoS Slowhttptest       0           1008             45630         0   \n",
      "DoS Hulk               0             97                 0        96   \n",
      "DoS GoldenEye          0              3                 0        35   \n",
      "Heartbleed             0              0                 0         0   \n",
      "\n",
      "                  DoS GoldenEye  Heartbleed  \n",
      "BENIGN                    90211           8  \n",
      "DoS slowloris               876           0  \n",
      "DoS Slowhttptest           5403           0  \n",
      "DoS Hulk                   1329           0  \n",
      "DoS GoldenEye              1550           0  \n",
      "Heartbleed                    0           2  \n",
      "Classification Report:\n",
      "                  precision    recall  f1-score   support\n",
      "\n",
      "          BENIGN       1.00      0.07      0.12    124907\n",
      "   DoS slowloris       0.02      0.10      0.04      3088\n",
      "DoS Slowhttptest       0.93      0.88      0.90     52041\n",
      "        DoS Hulk       0.01      0.06      0.01      1522\n",
      "   DoS GoldenEye       0.02      0.98      0.03      1588\n",
      "      Heartbleed       0.20      1.00      0.33         2\n",
      "\n",
      "        accuracy                           0.30    183148\n",
      "       macro avg       0.36      0.51      0.24    183148\n",
      "    weighted avg       0.95      0.30      0.34    183148\n",
      "\n"
     ]
    }
   ],
   "source": [
    "from sklearn.model_selection import train_test_split, learning_curve\n",
    "import pandas as pd\n",
    "from sklearn import metrics\n",
    "from sklearn.naive_bayes import GaussianNB\n",
    "\n",
    "data = pd.read_parquet('./IDS2017/Final/Wednesday.parquet')\n",
    "\n",
    "X = data.drop(columns=['Label'])\n",
    "y = data['Label']\n",
    "X_train, X_val, Y_train, Y_val = train_test_split(X,\n",
    "                                                  y, \n",
    "                                                  test_size = 0.3, \n",
    "                                                  random_state=2022)\n",
    "print(X_train.shape, X_val.shape)\n",
    "\n",
    "gnb = GaussianNB()\n",
    "gnb.fit(X_train, Y_train)\n",
    "\n",
    "print('Training Accuracy : ', \n",
    "      metrics.accuracy_score(Y_train,\n",
    "                             gnb.predict(X_train))*100)\n",
    "print('Validation Accuracy : ', \n",
    "      metrics.accuracy_score(Y_val, \n",
    "                             gnb.predict(X_val))*100)\n",
    "\n",
    "class_labels = y.unique()\n",
    "confusion_matrix = metrics.confusion_matrix(Y_val, gnb.predict(X_val))\n",
    "confusion_df = pd.DataFrame(confusion_matrix, index=class_labels, columns=class_labels)\n",
    "\n",
    "print(\"Confusion Matrix:\")\n",
    "print(confusion_df)\n",
    "\n",
    "classification_report = metrics.classification_report(Y_val, gnb.predict(X_val), target_names=class_labels)\n",
    "print(\"Classification Report:\")\n",
    "print(classification_report)"
   ]
  },
  {
   "cell_type": "markdown",
   "metadata": {},
   "source": [
    "## Piątek"
   ]
  },
  {
   "cell_type": "code",
   "execution_count": 2,
   "metadata": {},
   "outputs": [
    {
     "name": "stdout",
     "output_type": "stream",
     "text": [
      "(156157, 10) (66925, 10)\n",
      "Training Accuracy :  82.39207976587664\n",
      "Validation Accuracy :  82.33395592080687\n",
      "Confusion Matrix:\n",
      "        BENIGN   DDoS\n",
      "BENIGN   16707  11821\n",
      "DDoS         2  38395\n",
      "Classification Report:\n",
      "              precision    recall  f1-score   support\n",
      "\n",
      "      BENIGN       1.00      0.59      0.74     28528\n",
      "        DDoS       0.76      1.00      0.87     38397\n",
      "\n",
      "    accuracy                           0.82     66925\n",
      "   macro avg       0.88      0.79      0.80     66925\n",
      "weighted avg       0.86      0.82      0.81     66925\n",
      "\n"
     ]
    }
   ],
   "source": [
    "data2 = pd.read_parquet('./IDS2017/Final/Friday.parquet')\n",
    "\n",
    "X = data2.drop(columns=['Label'])\n",
    "y = data2['Label']\n",
    "X_train, X_val, Y_train, Y_val = train_test_split(X,\n",
    "                                                  y, \n",
    "                                                  test_size = 0.3, \n",
    "                                                  random_state=2022)\n",
    "print(X_train.shape, X_val.shape)\n",
    "\n",
    "gnb2 = GaussianNB()\n",
    "gnb2.fit(X_train, Y_train)\n",
    "\n",
    "print('Training Accuracy : ', \n",
    "      metrics.accuracy_score(Y_train,\n",
    "                             gnb2.predict(X_train))*100)\n",
    "print('Validation Accuracy : ', \n",
    "      metrics.accuracy_score(Y_val, \n",
    "                             gnb2.predict(X_val))*100)\n",
    "\n",
    "confusion_matrix = metrics.confusion_matrix(Y_val, gnb2.predict(X_val))\n",
    "class_labels = sorted(Y_val.unique())\n",
    "\n",
    "confusion_df = pd.DataFrame(confusion_matrix, index=class_labels, columns=class_labels)\n",
    "\n",
    "print(\"Confusion Matrix:\")\n",
    "print(confusion_df)\n",
    "\n",
    "classification_report = metrics.classification_report(Y_val, gnb2.predict(X_val), target_names=class_labels)\n",
    "print(\"Classification Report:\")\n",
    "print(classification_report)\n"
   ]
  },
  {
   "cell_type": "markdown",
   "metadata": {},
   "source": [
    "## Połączone DDoSy"
   ]
  },
  {
   "cell_type": "code",
   "execution_count": 3,
   "metadata": {},
   "outputs": [
    {
     "name": "stdout",
     "output_type": "stream",
     "text": [
      "(935356, 10) (400868, 10)\n",
      "Training Accuracy :  21.74893837212783\n",
      "Validation Accuracy :  21.914944570282486\n",
      "Confusion Matrix:\n",
      "                  BENIGN   DDoS  DoS GoldenEye  DoS Hulk  DoS Slowhttptest  \\\n",
      "BENIGN             20063    322          33847      3755             26461   \n",
      "DDoS                   0  20380              0      4134                 0   \n",
      "DoS GoldenEye          7      0            334      1829                 0   \n",
      "DoS Hulk               0     13            989     45407                 0   \n",
      "DoS Slowhttptest       1     76              5         0                62   \n",
      "DoS slowloris          0      0              2         0                37   \n",
      "Heartbleed             1      0              0         0                 0   \n",
      "\n",
      "                  DoS slowloris  Heartbleed  \n",
      "BENIGN                   220017           0  \n",
      "DDoS                      13959           0  \n",
      "DoS GoldenEye               869           0  \n",
      "DoS Hulk                   5357           0  \n",
      "DoS Slowhttptest           1337           0  \n",
      "DoS slowloris              1602           0  \n",
      "Heartbleed                    0           2  \n",
      "Classification Report:\n",
      "                  precision    recall  f1-score   support\n",
      "\n",
      "          BENIGN       1.00      0.07      0.12    304465\n",
      "            DDoS       0.98      0.53      0.69     38473\n",
      "   DoS GoldenEye       0.01      0.11      0.02      3039\n",
      "        DoS Hulk       0.82      0.88      0.85     51766\n",
      "DoS Slowhttptest       0.00      0.04      0.00      1481\n",
      "   DoS slowloris       0.01      0.98      0.01      1641\n",
      "      Heartbleed       1.00      0.67      0.80         3\n",
      "\n",
      "        accuracy                           0.22    400868\n",
      "       macro avg       0.55      0.47      0.36    400868\n",
      "    weighted avg       0.96      0.22      0.27    400868\n",
      "\n"
     ]
    }
   ],
   "source": [
    "data3 = pd.read_parquet('./IDS2017/Final/Combined.parquet')\n",
    "\n",
    "X = data3.drop(columns=['Label'])\n",
    "y = data3['Label']\n",
    "X_train, X_val, Y_train, Y_val = train_test_split(X,\n",
    "                                                  y, \n",
    "                                                  test_size = 0.3, \n",
    "                                                  random_state=2022)\n",
    "print(X_train.shape, X_val.shape)\n",
    "\n",
    "gnb3 = GaussianNB()\n",
    "gnb3.fit(X_train, Y_train)\n",
    "\n",
    "print('Training Accuracy : ', \n",
    "      metrics.accuracy_score(Y_train,\n",
    "                             gnb3.predict(X_train))*100)\n",
    "print('Validation Accuracy : ', \n",
    "      metrics.accuracy_score(Y_val, \n",
    "                             gnb3.predict(X_val))*100)\n",
    "\n",
    "confusion_matrix = metrics.confusion_matrix(Y_val, gnb3.predict(X_val))\n",
    "class_labels = sorted(Y_val.unique())\n",
    "\n",
    "confusion_df = pd.DataFrame(confusion_matrix, index=class_labels, columns=class_labels)\n",
    "\n",
    "print(\"Confusion Matrix:\")\n",
    "print(confusion_df)\n",
    "\n",
    "classification_report = metrics.classification_report(Y_val, gnb3.predict(X_val), target_names=class_labels, zero_division=0)\n",
    "print(\"Classification Report:\")\n",
    "print(classification_report)"
   ]
  }
 ],
 "metadata": {
  "kernelspec": {
   "display_name": "sklearn-env",
   "language": "python",
   "name": "python3"
  },
  "language_info": {
   "codemirror_mode": {
    "name": "ipython",
    "version": 3
   },
   "file_extension": ".py",
   "mimetype": "text/x-python",
   "name": "python",
   "nbconvert_exporter": "python",
   "pygments_lexer": "ipython3",
   "version": "3.12.3"
  }
 },
 "nbformat": 4,
 "nbformat_minor": 2
}
