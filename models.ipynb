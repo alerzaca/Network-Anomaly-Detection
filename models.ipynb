{
 "cells": [
  {
   "cell_type": "code",
   "execution_count": 1,
   "metadata": {},
   "outputs": [],
   "source": [
    "from sklearn.model_selection import train_test_split\n",
    "from sklearn.ensemble import RandomForestClassifier, IsolationForest\n",
    "from sklearn.metrics import classification_report, confusion_matrix, accuracy_score\n",
    "from sklearn.preprocessing import LabelEncoder, StandardScaler\n",
    "from sklearn.cluster import KMeans\n",
    "import pandas as pd\n",
    "import numpy as np\n",
    "from matplotlib import pyplot as plt\n",
    "import seaborn as sns\n",
    "sns.set_theme(style=\"whitegrid\")\n",
    "import jax\n",
    "import jax.numpy as jnp\n",
    "from jax.example_libraries.optimizers import adam\n",
    "from jax.example_libraries import stax\n",
    "from keras.models import Sequential\n",
    "from keras.layers import Dense\n",
    "from keras.optimizers import Adam\n",
    "import keras_tuner as kt"
   ]
  },
  {
   "cell_type": "markdown",
   "metadata": {},
   "source": [
    "## Read data"
   ]
  },
  {
   "cell_type": "code",
   "execution_count": 2,
   "metadata": {},
   "outputs": [
    {
     "name": "stdout",
     "output_type": "stream",
     "text": [
      "Label\n",
      "DDoS      128014\n",
      "BENIGN     95068\n",
      "Name: count, dtype: int64\n"
     ]
    }
   ],
   "source": [
    "df = pd.read_parquet('./IDS2017/Final/Friday.parquet')\n",
    "print(df['Label'].value_counts())"
   ]
  },
  {
   "cell_type": "markdown",
   "metadata": {},
   "source": [
    "# Random Forest Classifier"
   ]
  },
  {
   "cell_type": "code",
   "execution_count": 18,
   "metadata": {},
   "outputs": [
    {
     "name": "stdout",
     "output_type": "stream",
     "text": [
      "Classification Report:\n",
      "              precision    recall  f1-score   support\n",
      "\n",
      "           0       1.00      1.00      1.00     18954\n",
      "           1       1.00      1.00      1.00     25663\n",
      "\n",
      "    accuracy                           1.00     44617\n",
      "   macro avg       1.00      1.00      1.00     44617\n",
      "weighted avg       1.00      1.00      1.00     44617\n",
      "\n"
     ]
    },
    {
     "data": {
      "image/png": "[encoded data removed]",
      "text/plain": [
       "<Figure size 640x480 with 1 Axes>"
      ]
     },
     "metadata": {},
     "output_type": "display_data"
    },
    {
     "name": "stdout",
     "output_type": "stream",
     "text": [
      "Accuracy Score:\n",
      "0.9992603716072349\n"
     ]
    }
   ],
   "source": [
    "# Preprocess the data\n",
    "le = LabelEncoder()\n",
    "df['Label'] = le.fit_transform(df['Label'])\n",
    "\n",
    "# Split the dataset\n",
    "X = df.drop('Label', axis=1)\n",
    "y = df['Label']\n",
    "X_train, X_test, y_train, y_test = train_test_split(X, y, test_size=0.2, random_state=42)\n",
    "\n",
    "# Initialize the model\n",
    "model = RandomForestClassifier(n_estimators=100)\n",
    "\n",
    "# Train the model\n",
    "model.fit(X_train, y_train)\n",
    "\n",
    "# Evaluate the model\n",
    "y_pred = model.predict(X_test)\n",
    "\n",
    "print(\"Classification Report:\")\n",
    "print(classification_report(y_test, y_pred))\n",
    "\n",
    "sns.heatmap(confusion_matrix(y_test, y_pred), fmt=\"d\", annot=True, cmap='Blues', cbar=False)\n",
    "plt.title('Confusion Matrix')\n",
    "plt.show()\n",
    "\n",
    "print(\"Accuracy Score:\")\n",
    "print(accuracy_score(y_test, y_pred))"
   ]
  },
  {
   "cell_type": "markdown",
   "metadata": {},
   "source": [
    "# K-Means"
   ]
  },
  {
   "cell_type": "code",
   "execution_count": 20,
   "metadata": {},
   "outputs": [
    {
     "name": "stdout",
     "output_type": "stream",
     "text": [
      "Cluster\n",
      "1    140330\n",
      "0     82752\n",
      "Name: count, dtype: int64\n"
     ]
    }
   ],
   "source": [
    "# Drop the 'Label' column\n",
    "df = df.drop('Label', axis=1)\n",
    "\n",
    "# Normalize the data\n",
    "scaler = StandardScaler()\n",
    "df_scaled = scaler.fit_transform(df)\n",
    "\n",
    "# Initialize the KMeans model\n",
    "kmeans = KMeans(n_clusters=2, random_state=42)\n",
    "\n",
    "# Train the model\n",
    "kmeans.fit(df_scaled)\n",
    "\n",
    "# Predict the clusters\n",
    "df['Cluster'] = kmeans.predict(df_scaled)\n",
    "\n",
    "# Display the results\n",
    "print(df['Cluster'].value_counts())"
   ]
  },
  {
   "cell_type": "markdown",
   "metadata": {},
   "source": [
    "# Isolation Forest"
   ]
  },
  {
   "cell_type": "code",
   "execution_count": 22,
   "metadata": {},
   "outputs": [
    {
     "name": "stdout",
     "output_type": "stream",
     "text": [
      "Anomaly detection results:\n",
      "        anomaly_score  anomaly\n",
      "0            0.302715        1\n",
      "1            0.295070        1\n",
      "2            0.295070        1\n",
      "3            0.295070        1\n",
      "4            0.302715        1\n",
      "...               ...      ...\n",
      "223077       0.295070        1\n",
      "223078       0.295070        1\n",
      "223079       0.295070        1\n",
      "223080       0.302715        1\n",
      "223081       0.295070        1\n",
      "\n",
      "[223082 rows x 2 columns]\n",
      "\n",
      "Details of detected anomalies:\n",
      "        Total Length of Fwd Packets  Total Length of Bwd Packets  \\\n",
      "109                            2728                         6634   \n",
      "111                            1325                       108751   \n",
      "112                            1325                       110185   \n",
      "113                            1325                       108751   \n",
      "114                            1313                       100063   \n",
      "...                             ...                          ...   \n",
      "222557                         5432                         6996   \n",
      "222729                         5782                         7104   \n",
      "222860                         5782                         7098   \n",
      "222974                         2664                         6954   \n",
      "222975                         2728                         6634   \n",
      "\n",
      "        Bwd Packet Length Max  Bwd Packet Length Mean  Bwd Packet Length Std  \\\n",
      "109                       976              157.952377             319.121429   \n",
      "111                      2896             1812.516724             822.089722   \n",
      "112                      4344             1899.741333             942.998779   \n",
      "113                      4344             1875.017212             973.725891   \n",
      "114                      4344             1887.981079             961.469299   \n",
      "...                       ...                     ...                    ...   \n",
      "222557                   2634              368.210541             675.042175   \n",
      "222729                   2634              338.285706             647.337891   \n",
      "222860                   2634              354.899994             659.544983   \n",
      "222974                    976              158.045456             312.675262   \n",
      "222975                    976              157.952377             319.121429   \n",
      "\n",
      "        Average Packet Size  Avg Bwd Segment Size  Fwd Header Length.1  \\\n",
      "109              112.795181            157.952377                 1328   \n",
      "111             1028.747681           1812.516724                 1200   \n",
      "112             1072.211548           1899.741333                 1168   \n",
      "113             1068.698975           1875.017212                 1136   \n",
      "114             1024.000000           1887.981079                 1192   \n",
      "...                     ...                   ...                  ...   \n",
      "222557           303.121948            368.210541                  464   \n",
      "222729           280.130432            338.285706                  524   \n",
      "222860           286.222229            354.899994                  524   \n",
      "222974           113.152939            158.045456                 1328   \n",
      "222975           112.795181            157.952377                 1328   \n",
      "\n",
      "        Subflow Fwd Bytes  Subflow Bwd Bytes  anomaly_score  anomaly  \n",
      "109                  2728               6634      -0.002173       -1  \n",
      "111                  1325             108751      -0.051999       -1  \n",
      "112                  1325             110185      -0.050135       -1  \n",
      "113                  1325             108751      -0.045441       -1  \n",
      "114                  1313             100063      -0.045921       -1  \n",
      "...                   ...                ...            ...      ...  \n",
      "222557               5432               6996      -0.004190       -1  \n",
      "222729               5782               7104      -0.013072       -1  \n",
      "222860               5782               7098      -0.011699       -1  \n",
      "222974               2664               6954      -0.002173       -1  \n",
      "222975               2728               6634      -0.002173       -1  \n",
      "\n",
      "[2231 rows x 12 columns]\n"
     ]
    }
   ],
   "source": [
    "# Drop the 'Label' column\n",
    "df = df.drop('Label', axis=1)\n",
    "\n",
    "# Scale the data\n",
    "scaler = StandardScaler()\n",
    "data_scaled = scaler.fit_transform(df)\n",
    "\n",
    "# Create the Isolation Forest model\n",
    "model = IsolationForest(n_estimators=100, contamination=0.01, random_state=42)\n",
    "\n",
    "# Train the model\n",
    "model.fit(data_scaled)\n",
    "\n",
    "# Detect anomalies\n",
    "anomaly_scores = model.decision_function(data_scaled)\n",
    "anomalies = model.predict(data_scaled)\n",
    "\n",
    "# Add the results to the original data\n",
    "df['anomaly_score'] = anomaly_scores\n",
    "df['anomaly'] = anomalies\n",
    "\n",
    "# Print the results\n",
    "print(\"Anomaly detection results:\")\n",
    "print(df[['anomaly_score', 'anomaly']])\n",
    "\n",
    "# Print detailed information about the anomalies\n",
    "anomalies_data = df[df['anomaly'] == -1]\n",
    "print(\"\\nDetails of detected anomalies:\")\n",
    "print(anomalies_data)"
   ]
  },
  {
   "cell_type": "markdown",
   "metadata": {},
   "source": [
    "# Autoencoder"
   ]
  },
  {
   "cell_type": "code",
   "execution_count": 24,
   "metadata": {},
   "outputs": [
    {
     "data": {
      "text/plain": [
       "<matplotlib.legend.Legend at 0x22f958cc5f0>"
      ]
     },
     "execution_count": 24,
     "metadata": {},
     "output_type": "execute_result"
    },
    {
     "data": {
      "image/png": "[encoded data removed]",
      "text/plain": [
       "<Figure size 640x480 with 1 Axes>"
      ]
     },
     "metadata": {},
     "output_type": "display_data"
    }
   ],
   "source": [
    "df = df.drop('Label', axis=1)\n",
    "x = df.to_numpy()  \n",
    "\n",
    "def vector_mse(y,yhat):\n",
    "    return jnp.mean(jnp.square(y-yhat), axis=-1)\n",
    "\n",
    "batch_size = 256\n",
    "steps = 4000 \n",
    "learning_rate = 0.001\n",
    "train_split = int(0.7*x.shape[0])\n",
    "\n",
    "k = jax.random.PRNGKey(42)\n",
    "\n",
    "encoder = stax.serial(\n",
    "    stax.Dense(16),\n",
    "    stax.Relu,\n",
    "    stax.Dense(8)\n",
    ")\n",
    "\n",
    "decoder = stax.serial(\n",
    "    stax.Dense(16),\n",
    "    stax.Relu,\n",
    "    stax.Dense(x.shape[1])\n",
    ")\n",
    "\n",
    "nn = stax.serial(encoder, decoder)\n",
    "\n",
    "init_nn, apply_nn = nn\n",
    "opt_init, opt_update, get_params = adam(learning_rate)\n",
    "\n",
    "\n",
    "\n",
    "@jax.jit \n",
    "def step(i, opt_state, x,y):\n",
    "  params = get_params(opt_state)\n",
    "\n",
    "  def loss(params,x,y):\n",
    "      reconstruction = apply_nn(params,x) \n",
    "      return jnp.mean(vector_mse(y,reconstruction))\n",
    "\n",
    "  g = jax.grad(loss)(params, x,y) \n",
    "  opt_state = opt_update(i, g, opt_state)\n",
    "  step_loss = loss(get_params(opt_state),x,y)\n",
    "  return opt_state, step_loss\n",
    "\n",
    "@jax.jit\n",
    "def test_loss(opt_state,x,y):\n",
    "    params = get_params(opt_state) \n",
    "    reconstruction = apply_nn(params,x) \n",
    "    return jnp.mean(vector_mse(y,reconstruction))\n",
    "\n",
    "_,params  = init_nn(k,(batch_size,x.shape[1])) \n",
    "opt_state = opt_init(params)\n",
    "\n",
    "losses = []\n",
    "test_losses = []\n",
    "train_steps = []\n",
    "\n",
    "for i in range(steps):\n",
    "    idx = np.random.randint(0, train_split, size=batch_size)\n",
    "    bx = x[idx,...]\n",
    "\n",
    "    opt_state, step_loss = step(i, opt_state,bx,bx) \n",
    "\n",
    "    if i % 50 == 0:\n",
    "        tx = x[train_split:,...]\n",
    "        test_losses.append(test_loss(opt_state,tx,tx))\n",
    "        train_steps.append(i) \n",
    "        losses.append(test_loss(opt_state,x[:train_split,...],x[:train_split,...]))\n",
    "\n",
    "plt.plot(train_steps,losses,label='train')\n",
    "plt.plot(train_steps,test_losses,label='test')\n",
    " \n",
    "plt.legend()"
   ]
  },
  {
   "cell_type": "markdown",
   "metadata": {},
   "source": [
    "# Neural Network"
   ]
  },
  {
   "cell_type": "markdown",
   "metadata": {},
   "source": [
    "### Tuner"
   ]
  },
  {
   "cell_type": "code",
   "execution_count": 5,
   "metadata": {},
   "outputs": [
    {
     "name": "stdout",
     "output_type": "stream",
     "text": [
      "Trial 20 Complete [00h 00m 18s]\n",
      "val_accuracy: 0.9835745394229889\n",
      "\n",
      "Best val_accuracy So Far: 0.9939485192298889\n",
      "Total elapsed time: 00h 13m 31s\n",
      "Epoch 1/10\n",
      "\u001b[1m854/854\u001b[0m \u001b[32m━━━━━━━━━━━━━━━━━━━━\u001b[0m\u001b[37m\u001b[0m \u001b[1m2s\u001b[0m 962us/step - accuracy: 0.9338 - loss: 0.1601 - val_accuracy: 0.9911 - val_loss: 0.0597\n",
      "Epoch 2/10\n",
      "\u001b[1m854/854\u001b[0m \u001b[32m━━━━━━━━━━━━━━━━━━━━\u001b[0m\u001b[37m\u001b[0m \u001b[1m1s\u001b[0m 838us/step - accuracy: 0.9845 - loss: 0.0600 - val_accuracy: 0.9907 - val_loss: 0.0463\n",
      "Epoch 3/10\n",
      "\u001b[1m854/854\u001b[0m \u001b[32m━━━━━━━━━━━━━━━━━━━━\u001b[0m\u001b[37m\u001b[0m \u001b[1m1s\u001b[0m 847us/step - accuracy: 0.9883 - loss: 0.0487 - val_accuracy: 0.9903 - val_loss: 0.0434\n",
      "Epoch 4/10\n",
      "\u001b[1m854/854\u001b[0m \u001b[32m━━━━━━━━━━━━━━━━━━━━\u001b[0m\u001b[37m\u001b[0m \u001b[1m1s\u001b[0m 895us/step - accuracy: 0.9883 - loss: 0.0464 - val_accuracy: 0.9880 - val_loss: 0.0425\n",
      "Epoch 5/10\n",
      "\u001b[1m854/854\u001b[0m \u001b[32m━━━━━━━━━━━━━━━━━━━━\u001b[0m\u001b[37m\u001b[0m \u001b[1m1s\u001b[0m 865us/step - accuracy: 0.9862 - loss: 0.0536 - val_accuracy: 0.9849 - val_loss: 0.0514\n",
      "Epoch 6/10\n",
      "\u001b[1m854/854\u001b[0m \u001b[32m━━━━━━━━━━━━━━━━━━━━\u001b[0m\u001b[37m\u001b[0m \u001b[1m1s\u001b[0m 837us/step - accuracy: 0.9872 - loss: 0.0518 - val_accuracy: 0.9880 - val_loss: 0.0539\n",
      "Epoch 7/10\n",
      "\u001b[1m854/854\u001b[0m \u001b[32m━━━━━━━━━━━━━━━━━━━━\u001b[0m\u001b[37m\u001b[0m \u001b[1m1s\u001b[0m 857us/step - accuracy: 0.9888 - loss: 0.0482 - val_accuracy: 0.9874 - val_loss: 0.0489\n",
      "Epoch 8/10\n",
      "\u001b[1m854/854\u001b[0m \u001b[32m━━━━━━━━━━━━━━━━━━━━\u001b[0m\u001b[37m\u001b[0m \u001b[1m1s\u001b[0m 867us/step - accuracy: 0.9872 - loss: 0.0522 - val_accuracy: 0.9848 - val_loss: 0.0540\n",
      "Epoch 9/10\n",
      "\u001b[1m854/854\u001b[0m \u001b[32m━━━━━━━━━━━━━━━━━━━━\u001b[0m\u001b[37m\u001b[0m \u001b[1m1s\u001b[0m 825us/step - accuracy: 0.9895 - loss: 0.0450 - val_accuracy: 0.9914 - val_loss: 0.0393\n",
      "Epoch 10/10\n",
      "\u001b[1m854/854\u001b[0m \u001b[32m━━━━━━━━━━━━━━━━━━━━\u001b[0m\u001b[37m\u001b[0m \u001b[1m1s\u001b[0m 852us/step - accuracy: 0.9889 - loss: 0.0462 - val_accuracy: 0.9915 - val_loss: 0.0394\n",
      "\u001b[1m2092/2092\u001b[0m \u001b[32m━━━━━━━━━━━━━━━━━━━━\u001b[0m\u001b[37m\u001b[0m \u001b[1m1s\u001b[0m 489us/step - accuracy: 0.9913 - loss: 0.0397\n",
      "Test accuracy: 99.15\n"
     ]
    }
   ],
   "source": [
    "# Preprocess the data\n",
    "df['Label'] = df['Label'].apply(lambda x: 1 if x == 'BENIGN' else 0).astype(\"int\")  # BENIGN -> 1, non-BENIGN -> 0\n",
    "df['Bwd Packet Length Max'] = df['Bwd Packet Length Max'].astype('int')\n",
    "\n",
    "# Split the dataset\n",
    "X = df.drop('Label', axis=1)\n",
    "y = df['Label']\n",
    "X_train, X_test, y_train, y_test = train_test_split(X, y, test_size=0.3, random_state=42)\n",
    "\n",
    "# Scale the data\n",
    "scaler = StandardScaler()\n",
    "X_train = scaler.fit_transform(X_train)\n",
    "X_test = scaler.transform(X_test)\n",
    "\n",
    "# Define the model building function for Keras Tuner\n",
    "def build_model(hp):\n",
    "    model = Sequential()\n",
    "    model.add(Dense(units=hp.Int('units_1', min_value=8, max_value=64, step=8), \n",
    "                    input_dim=X_train.shape[1], activation='relu'))\n",
    "    model.add(Dense(units=hp.Int('units_2', min_value=4, max_value=32, step=4), \n",
    "                    activation='relu'))\n",
    "    model.add(Dense(1, activation='sigmoid'))\n",
    "\n",
    "    model.compile(\n",
    "        optimizer=Adam(hp.Choice('learning_rate', values=[1e-2, 1e-3, 1e-4])),\n",
    "        loss='binary_crossentropy',\n",
    "        metrics=['accuracy']\n",
    "    )\n",
    "    \n",
    "    return model\n",
    "\n",
    "# Set up the tuner\n",
    "tuner = kt.RandomSearch(\n",
    "    build_model,\n",
    "    objective='val_accuracy',\n",
    "    max_trials=20,\n",
    "    executions_per_trial=2,\n",
    "    directory='my_dir',\n",
    "    project_name='network_anomaly_detection'\n",
    ")\n",
    "\n",
    "# Search for the best hyperparameters\n",
    "tuner.search(X_train, y_train, epochs=10, validation_split=0.2, batch_size=128)\n",
    "\n",
    "# Get the best model\n",
    "best_hps = tuner.get_best_hyperparameters(num_trials=1)[0]\n",
    "best_model = tuner.hypermodel.build(best_hps)\n",
    "\n",
    "# Train the best model\n",
    "best_model.fit(X_train, y_train, epochs=10, batch_size=128, validation_split=0.3)\n",
    "\n",
    "# Evaluate the model\n",
    "loss, accuracy = best_model.evaluate(X_test, y_test)\n",
    "print('Test accuracy: %.2f' % (accuracy * 100))"
   ]
  },
  {
   "cell_type": "markdown",
   "metadata": {},
   "source": [
    "### Model"
   ]
  },
  {
   "cell_type": "code",
   "execution_count": 3,
   "metadata": {},
   "outputs": [
    {
     "name": "stdout",
     "output_type": "stream",
     "text": [
      "Epoch 1/3\n"
     ]
    },
    {
     "name": "stderr",
     "output_type": "stream",
     "text": [
      "c:\\Users\\delve\\WebstormProjects\\ids2018-anomaly-detection\\.venv\\Lib\\site-packages\\keras\\src\\layers\\core\\dense.py:87: UserWarning: Do not pass an `input_shape`/`input_dim` argument to a layer. When using Sequential models, prefer using an `Input(shape)` object as the first layer in the model instead.\n",
      "  super().__init__(activity_regularizer=activity_regularizer, **kwargs)\n"
     ]
    },
    {
     "name": "stdout",
     "output_type": "stream",
     "text": [
      "\u001b[1m1220/1220\u001b[0m \u001b[32m━━━━━━━━━━━━━━━━━━━━\u001b[0m\u001b[37m\u001b[0m \u001b[1m2s\u001b[0m 903us/step - accuracy: 0.7765 - loss: 0.4165 - val_accuracy: 0.9774 - val_loss: 0.0840\n",
      "Epoch 2/3\n",
      "\u001b[1m1220/1220\u001b[0m \u001b[32m━━━━━━━━━━━━━━━━━━━━\u001b[0m\u001b[37m\u001b[0m \u001b[1m1s\u001b[0m 809us/step - accuracy: 0.9804 - loss: 0.0740 - val_accuracy: 0.9881 - val_loss: 0.0555\n",
      "Epoch 3/3\n",
      "\u001b[1m1220/1220\u001b[0m \u001b[32m━━━━━━━━━━━━━━━━━━━━\u001b[0m\u001b[37m\u001b[0m \u001b[1m1s\u001b[0m 798us/step - accuracy: 0.9872 - loss: 0.0539 - val_accuracy: 0.9882 - val_loss: 0.0469\n",
      "\u001b[1m2092/2092\u001b[0m \u001b[32m━━━━━━━━━━━━━━━━━━━━\u001b[0m\u001b[37m\u001b[0m \u001b[1m1s\u001b[0m 455us/step - accuracy: 0.9884 - loss: 0.0480\n",
      "Test accuracy: 98.82\n"
     ]
    },
    {
     "data": {
      "image/png": "[encoded data removed]",
      "text/plain": [
       "<Figure size 1000x600 with 1 Axes>"
      ]
     },
     "metadata": {},
     "output_type": "display_data"
    }
   ],
   "source": [
    "# Preprocess the data\n",
    "df['Label'] = df['Label'].apply(lambda x: 1 if x == 'BENIGN' else 0).astype(\"int\")  # BENIGN -> 1, non-BENIGN -> 0\n",
    "df['Bwd Packet Length Max'] = df['Bwd Packet Length Max'].astype('int')\n",
    "\n",
    "# Split the dataset\n",
    "X = df.drop('Label', axis=1)\n",
    "y = df['Label']\n",
    "X_train, X_test, y_train, y_test = train_test_split(X, y, test_size=0.3, random_state=42)\n",
    "\n",
    "# Define the scaler\n",
    "scaler = StandardScaler()\n",
    "\n",
    "# Fit the scaler on the training data and transform both training and test data\n",
    "X_train_scaled = scaler.fit_transform(X_train)\n",
    "X_test_scaled = scaler.transform(X_test)\n",
    "\n",
    "# Define the model\n",
    "model = Sequential()\n",
    "model.add(Dense(18, input_dim=X_train_scaled.shape[1], activation='relu'))\n",
    "model.add(Dense(12, activation='relu'))\n",
    "model.add(Dense(1, activation='sigmoid'))\n",
    "\n",
    "# Compile the model\n",
    "model.compile(loss='binary_crossentropy', optimizer='adam', metrics=['accuracy'])\n",
    "\n",
    "# Train the model\n",
    "history = model.fit(\n",
    "    X_train_scaled,\n",
    "    y_train,\n",
    "    epochs=3,\n",
    "    batch_size=128,\n",
    "    validation_data=(X_test_scaled, y_test)\n",
    ")\n",
    "\n",
    "# Evaluate the model\n",
    "loss, accuracy = model.evaluate(X_test_scaled, y_test)\n",
    "print('Test accuracy: %.2f' % (accuracy*100))\n",
    "\n",
    "# Plotting the loss\n",
    "plt.figure(figsize=(10, 6))\n",
    "plt.plot(history.history['loss'], label='Train Loss')\n",
    "plt.plot(history.history['val_loss'], label='Validation Loss')\n",
    "plt.title('Model Loss')\n",
    "plt.ylabel('Loss')\n",
    "plt.xlabel('Epoch')\n",
    "plt.legend(loc='upper right')\n",
    "plt.show()"
   ]
  },
  {
   "cell_type": "markdown",
   "metadata": {},
   "source": [
    "### Read bigger dataset"
   ]
  },
  {
   "cell_type": "code",
   "execution_count": 5,
   "metadata": {},
   "outputs": [
    {
     "name": "stdout",
     "output_type": "stream",
     "text": [
      "Label\n",
      "1    1014454\n",
      "0     321770\n",
      "Name: count, dtype: int64\n"
     ]
    }
   ],
   "source": [
    "df_big = pd.read_parquet('./IDS2017/Final/Combined.parquet')\n",
    "df_big['Label'] = df_big['Label'].apply(lambda x: 1 if x == 'BENIGN' else 0).astype(int)  # BENIGN -> 1, non-BENIGN -> 0\n",
    "df_big['Bwd Packet Length Max'] = df_big['Bwd Packet Length Max'].astype('int')\n",
    "print(df_big['Label'].value_counts())"
   ]
  },
  {
   "cell_type": "markdown",
   "metadata": {},
   "source": [
    "### Threshhold setter"
   ]
  },
  {
   "cell_type": "code",
   "execution_count": 5,
   "metadata": {},
   "outputs": [
    {
     "name": "stdout",
     "output_type": "stream",
     "text": [
      "\u001b[1m41757/41757\u001b[0m \u001b[32m━━━━━━━━━━━━━━━━━━━━\u001b[0m\u001b[37m\u001b[0m \u001b[1m21s\u001b[0m 511us/step\n",
      "Best Threshold: 0.751001001001001\n",
      "Maximum Accuracy: 0.9033844624853318\n",
      "Classification Report:\n",
      "              precision    recall  f1-score   support\n",
      "\n",
      "           0       0.78      0.83      0.81    321770\n",
      "           1       0.95      0.93      0.94   1014454\n",
      "\n",
      "    accuracy                           0.90   1336224\n",
      "   macro avg       0.86      0.88      0.87   1336224\n",
      "weighted avg       0.91      0.90      0.90   1336224\n",
      "\n"
     ]
    },
    {
     "data": {
      "image/png": "[encoded data removed]",
      "text/plain": [
       "<Figure size 640x480 with 1 Axes>"
      ]
     },
     "metadata": {},
     "output_type": "display_data"
    },
    {
     "name": "stdout",
     "output_type": "stream",
     "text": [
      "Accuracy Score:\n",
      "0.9033844624853318\n"
     ]
    }
   ],
   "source": [
    "X_combined = df_big.drop('Label', axis=1)\n",
    "y_combined = df_big['Label']\n",
    "X_combined_scaled = scaler.transform(X_combined)\n",
    "\n",
    "# Use the trained model to predict the labels of the new data\n",
    "df_big['anomaly_score'] = model.predict(X_combined_scaled)\n",
    "\n",
    "# Define the range of possible threshold values\n",
    "thresholds = np.linspace(0.75, 1, 1000)\n",
    "max_accuracy = 0 \n",
    "best_threshold = 0\n",
    "\n",
    "# Iterate over the possible threshold values\n",
    "for threshold in thresholds:\n",
    "    df_big['anomaly'] = df_big['anomaly_score'].apply(lambda x: 0 if x < threshold else 1)\n",
    "    accuracy = accuracy_score(y_combined, df_big['anomaly'])\n",
    "\n",
    "    if accuracy > max_accuracy:\n",
    "        max_accuracy = accuracy\n",
    "        best_threshold = threshold\n",
    "\n",
    "\n",
    "print(\"Best Threshold:\", best_threshold)\n",
    "print(\"Maximum Accuracy:\", max_accuracy)\n",
    "\n",
    "df_big['anomaly'] = df_big['anomaly_score'].apply(lambda x: 0 if x < best_threshold else 1)\n",
    "\n",
    "print(\"Classification Report:\")\n",
    "print(classification_report(y_combined, df_big['anomaly']))\n",
    "\n",
    "sns.heatmap(confusion_matrix(y_combined, df_big['anomaly']), fmt=\"d\", annot=True, cmap='Blues', cbar=False)\n",
    "plt.title('Confusion Matrix')\n",
    "plt.show()\n",
    "\n",
    "print(\"Accuracy Score:\")\n",
    "print(accuracy_score(y_combined, df_big['anomaly']))"
   ]
  },
  {
   "cell_type": "markdown",
   "metadata": {},
   "source": [
    "### Check model"
   ]
  },
  {
   "cell_type": "code",
   "execution_count": 6,
   "metadata": {},
   "outputs": [
    {
     "name": "stdout",
     "output_type": "stream",
     "text": [
      "\u001b[1m41757/41757\u001b[0m \u001b[32m━━━━━━━━━━━━━━━━━━━━\u001b[0m\u001b[37m\u001b[0m \u001b[1m19s\u001b[0m 465us/step\n",
      "anomaly\n",
      "1    1077377\n",
      "0     258847\n",
      "Name: count, dtype: int64\n",
      "2.3215393e-18 1.0\n",
      "Classification Report:\n",
      "              precision    recall  f1-score   support\n",
      "\n",
      "           0       0.94      0.76      0.84    321770\n",
      "           1       0.93      0.98      0.95   1014454\n",
      "\n",
      "    accuracy                           0.93   1336224\n",
      "   macro avg       0.93      0.87      0.90   1336224\n",
      "weighted avg       0.93      0.93      0.93   1336224\n",
      "\n"
     ]
    },
    {
     "data": {
      "image/png": "[encoded data removed]",
      "text/plain": [
       "<Figure size 640x480 with 1 Axes>"
      ]
     },
     "metadata": {},
     "output_type": "display_data"
    },
    {
     "name": "stdout",
     "output_type": "stream",
     "text": [
      "Accuracy Score:\n",
      "0.929289550255047\n"
     ]
    }
   ],
   "source": [
    "X_combined = df_big.drop('Label', axis=1)\n",
    "y_combined = df_big['Label']\n",
    "\n",
    "# Define the scaler\n",
    "scaler = StandardScaler()\n",
    "scaler.fit(X_combined)\n",
    "\n",
    "# Normalize the data\n",
    "X_combined_scaled = scaler.transform(X_combined)\n",
    "\n",
    "# Use the trained model to predict the labels of the new data\n",
    "df_big['anomaly_score'] = model.predict(X_combined_scaled)\n",
    "\n",
    "threshold = 0.77\n",
    "\n",
    "df_big['anomaly'] = df_big['anomaly_score'].apply(lambda x: 0 if x < threshold else 1)\n",
    "\n",
    "print(df_big['anomaly'].value_counts())\n",
    "print(df_big['anomaly_score'].min(), df_big['anomaly_score'].max())\n",
    "\n",
    "# Compare the predicted labels with the actual labels\n",
    "print(\"Classification Report:\")\n",
    "print(classification_report(y_combined, df_big['anomaly']))\n",
    "\n",
    "sns.heatmap(confusion_matrix(y_combined, df_big['anomaly']), fmt=\"d\", annot=True, cmap='Blues', cbar=False)\n",
    "plt.title('Macierz pomyłek')\n",
    "plt.show()\n",
    "\n",
    "print(\"Accuracy Score:\")\n",
    "print(accuracy_score(y_combined, df_big['anomaly']))"
   ]
  }
 ],
 "metadata": {
  "kernelspec": {
   "display_name": ".venv",
   "language": "python",
   "name": "python3"
  },
  "language_info": {
   "codemirror_mode": {
    "name": "ipython",
    "version": 3
   },
   "file_extension": ".py",
   "mimetype": "text/x-python",
   "name": "python",
   "nbconvert_exporter": "python",
   "pygments_lexer": "ipython3",
   "version": "3.12.4"
  }
 },
 "nbformat": 4,
 "nbformat_minor": 2
}
