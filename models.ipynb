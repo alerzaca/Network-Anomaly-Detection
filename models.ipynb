{
 "cells": [
  {
   "cell_type": "code",
   "execution_count": 1,
   "metadata": {},
   "outputs": [],
   "source": [
    "from sklearn.model_selection import train_test_split\n",
    "from sklearn.ensemble import RandomForestClassifier, IsolationForest\n",
    "from sklearn.metrics import classification_report, confusion_matrix, accuracy_score\n",
    "from sklearn.preprocessing import LabelEncoder, StandardScaler\n",
    "from sklearn.cluster import KMeans\n",
    "import pandas as pd\n",
    "import numpy as np\n",
    "from matplotlib import pyplot as plt\n",
    "import seaborn as sns\n",
    "sns.set_theme(style=\"whitegrid\")\n",
    "import jax\n",
    "import jax.numpy as jnp\n",
    "from jax.example_libraries.optimizers import adam\n",
    "from jax.example_libraries import stax\n",
    "from keras.models import Sequential\n",
    "from keras.layers import Dense\n",
    "from keras.optimizers import Adam\n",
    "import keras_tuner as kt"
   ]
  },
  {
   "cell_type": "markdown",
   "metadata": {},
   "source": [
    "## Read data"
   ]
  },
  {
   "cell_type": "code",
   "execution_count": 2,
   "metadata": {},
   "outputs": [],
   "source": [
    "df = pd.read_parquet('./IDS2017/Final/Friday.parquet')"
   ]
  },
  {
   "cell_type": "markdown",
   "metadata": {},
   "source": [
    "# Random Forest Classifier"
   ]
  },
  {
   "cell_type": "code",
   "execution_count": 27,
   "metadata": {},
   "outputs": [
    {
     "name": "stdout",
     "output_type": "stream",
     "text": [
      "Classification Report:\n",
      "              precision    recall  f1-score   support\n",
      "\n",
      "           0       0.99      1.00      0.99    203048\n",
      "           1       1.00      1.00      1.00     25437\n",
      "           2       1.00      0.73      0.85      2072\n",
      "           3       0.99      0.97      0.98     34590\n",
      "           4       0.94      0.99      0.96      1054\n",
      "           5       1.00      0.99      0.99      1042\n",
      "           6       0.67      1.00      0.80         2\n",
      "\n",
      "    accuracy                           0.99    267245\n",
      "   macro avg       0.94      0.95      0.94    267245\n",
      "weighted avg       0.99      0.99      0.99    267245\n",
      "\n",
      "Confusion Matrix:\n",
      "[[202479     45      1    464     58      0      1]\n",
      " [    40  25397      0      0      0      0      0]\n",
      " [   551      0   1518      0      3      0      0]\n",
      " [   937      3      0  33649      1      0      0]\n",
      " [     8      0      0      0   1041      5      0]\n",
      " [     7      0      1      0      1   1033      0]\n",
      " [     0      0      0      0      0      0      2]]\n",
      "Accuracy Score:\n",
      "0.992044752942057\n"
     ]
    }
   ],
   "source": [
    "# Preprocess the data\n",
    "le = LabelEncoder()\n",
    "df['Label'] = le.fit_transform(df['Label'])\n",
    "\n",
    "# Split the dataset\n",
    "X = df.drop('Label', axis=1)\n",
    "y = df['Label']\n",
    "X_train, X_test, y_train, y_test = train_test_split(X, y, test_size=0.2, random_state=42)\n",
    "\n",
    "# Initialize the model\n",
    "model = RandomForestClassifier(n_estimators=100)\n",
    "\n",
    "# Train the model\n",
    "model.fit(X_train, y_train)\n",
    "\n",
    "# Evaluate the model\n",
    "y_pred = model.predict(X_test)\n",
    "\n",
    "# Print the classification report\n",
    "print(\"Classification Report:\")\n",
    "print(classification_report(y_test, y_pred))\n",
    "\n",
    "# Print the confusion matrix\n",
    "print(\"Confusion Matrix:\")\n",
    "print(confusion_matrix(y_test, y_pred))\n",
    "\n",
    "# Print the accuracy score\n",
    "print(\"Accuracy Score:\")\n",
    "print(accuracy_score(y_test, y_pred))"
   ]
  },
  {
   "cell_type": "markdown",
   "metadata": {},
   "source": [
    "# K-Means"
   ]
  },
  {
   "cell_type": "code",
   "execution_count": 8,
   "metadata": {},
   "outputs": [
    {
     "name": "stdout",
     "output_type": "stream",
     "text": [
      "Cluster\n",
      "1    140330\n",
      "0     82752\n",
      "Name: count, dtype: int64\n"
     ]
    }
   ],
   "source": [
    "# Drop the 'Label' column\n",
    "df = df.drop('Label', axis=1)\n",
    "\n",
    "# Normalize the data\n",
    "scaler = StandardScaler()\n",
    "df_scaled = scaler.fit_transform(df)\n",
    "\n",
    "# Initialize the KMeans model\n",
    "kmeans = KMeans(n_clusters=2, random_state=42)\n",
    "\n",
    "# Train the model\n",
    "kmeans.fit(df_scaled)\n",
    "\n",
    "# Predict the clusters\n",
    "df['Cluster'] = kmeans.predict(df_scaled)\n",
    "\n",
    "# Display the results\n",
    "print(df['Cluster'].value_counts())"
   ]
  },
  {
   "cell_type": "markdown",
   "metadata": {},
   "source": [
    "# Isolation Forest"
   ]
  },
  {
   "cell_type": "code",
   "execution_count": 19,
   "metadata": {},
   "outputs": [
    {
     "name": "stdout",
     "output_type": "stream",
     "text": [
      "Anomaly detection results:\n",
      "         anomaly_score  anomaly\n",
      "0             0.341200        1\n",
      "1             0.329885        1\n",
      "2             0.329885        1\n",
      "3             0.329885        1\n",
      "4             0.341200        1\n",
      "...                ...      ...\n",
      "1336219       0.329199        1\n",
      "1336220       0.305229        1\n",
      "1336221       0.332498        1\n",
      "1336222       0.314027        1\n",
      "1336223       0.315921        1\n",
      "\n",
      "[1336224 rows x 2 columns]\n",
      "\n",
      "Details of detected anomalies:\n",
      "         Total Length of Fwd Packets  Total Length of Bwd Packets  \\\n",
      "111                             1325                       108751   \n",
      "112                             1325                       110185   \n",
      "113                             1325                       108751   \n",
      "114                             1313                       100063   \n",
      "118                             1325                       100049   \n",
      "...                              ...                          ...   \n",
      "1332638                        35380                        16183   \n",
      "1333918                         1361                       173678   \n",
      "1334305                        33901                        10574   \n",
      "1335035                         1455                       147609   \n",
      "1335330                         7334                       267793   \n",
      "\n",
      "         Bwd Packet Length Max  Bwd Packet Length Mean  Bwd Packet Length Std  \\\n",
      "111                       2896             1812.516724             822.089722   \n",
      "112                       4344             1899.741333             942.998779   \n",
      "113                       4344             1875.017212             973.725891   \n",
      "114                       4344             1887.981079             961.469299   \n",
      "118                       2896             1588.079346             717.669617   \n",
      "...                        ...                     ...                    ...   \n",
      "1332638                   1460              425.868408             310.365784   \n",
      "1333918                   2920             1423.590210             599.964783   \n",
      "1334305                    359              311.000000             119.362953   \n",
      "1335035                   4380             1968.119995             909.563416   \n",
      "1335330                   2860              995.513000             670.160095   \n",
      "\n",
      "         Average Packet Size  Avg Bwd Segment Size  Fwd Header Length.1  \\\n",
      "111              1028.747681           1812.516724                 1200   \n",
      "112              1072.211548           1899.741333                 1168   \n",
      "113              1068.698975           1875.017212                 1136   \n",
      "114              1024.000000           1887.981079                 1192   \n",
      "118               921.581848           1588.079346                 1200   \n",
      "...                      ...                   ...                  ...   \n",
      "1332638           481.897186            425.868408                 1392   \n",
      "1333918           893.056152           1423.590210                 1492   \n",
      "1334305           453.826538            311.000000                 1292   \n",
      "1335035          1155.534912           1968.119995                 1092   \n",
      "1335330           611.393311            995.513000                 3632   \n",
      "\n",
      "         Subflow Fwd Bytes  Subflow Bwd Bytes  anomaly_score  anomaly  \n",
      "111                   1325             108751      -0.013103       -1  \n",
      "112                   1325             110185      -0.008464       -1  \n",
      "113                   1325             108751      -0.006477       -1  \n",
      "114                   1313             100063      -0.004309       -1  \n",
      "118                   1325             100049      -0.010785       -1  \n",
      "...                    ...                ...            ...      ...  \n",
      "1332638              35380              16183      -0.027987       -1  \n",
      "1333918               1361             173678      -0.033487       -1  \n",
      "1334305              33901              10574      -0.025474       -1  \n",
      "1335035               1455             147609      -0.041741       -1  \n",
      "1335330               7334             267793      -0.091362       -1  \n",
      "\n",
      "[13361 rows x 12 columns]\n"
     ]
    }
   ],
   "source": [
    "# Drop the 'Label' column\n",
    "df = df.drop('Label', axis=1)\n",
    "\n",
    "# Scale the data\n",
    "scaler = StandardScaler()\n",
    "data_scaled = scaler.fit_transform(df)\n",
    "\n",
    "# Create the Isolation Forest model\n",
    "model = IsolationForest(n_estimators=100, contamination=0.01, random_state=42)\n",
    "\n",
    "# Train the model\n",
    "model.fit(data_scaled)\n",
    "\n",
    "# Detect anomalies\n",
    "anomaly_scores = model.decision_function(data_scaled)\n",
    "anomalies = model.predict(data_scaled)\n",
    "\n",
    "# Add the results to the original data\n",
    "df['anomaly_score'] = anomaly_scores\n",
    "df['anomaly'] = anomalies\n",
    "\n",
    "# Print the results\n",
    "print(\"Anomaly detection results:\")\n",
    "print(df[['anomaly_score', 'anomaly']])\n",
    "\n",
    "# Print detailed information about the anomalies\n",
    "anomalies_data = df[df['anomaly'] == -1]\n",
    "print(\"\\nDetails of detected anomalies:\")\n",
    "print(anomalies_data)"
   ]
  },
  {
   "cell_type": "markdown",
   "metadata": {},
   "source": [
    "# Autoencoder"
   ]
  },
  {
   "cell_type": "code",
   "execution_count": 33,
   "metadata": {},
   "outputs": [
    {
     "data": {
      "text/plain": [
       "<matplotlib.legend.Legend at 0x1f741e20500>"
      ]
     },
     "execution_count": 33,
     "metadata": {},
     "output_type": "execute_result"
    },
    {
     "data": {
      "image/png": "[encoded data removed]",
      "text/plain": [
       "<Figure size 640x480 with 1 Axes>"
      ]
     },
     "metadata": {},
     "output_type": "display_data"
    }
   ],
   "source": [
    "df = df.drop('Label', axis=1)\n",
    "x = df.to_numpy()  \n",
    "\n",
    "def vector_mse(y,yhat):\n",
    "    return jnp.mean(jnp.square(y-yhat), axis=-1)\n",
    "\n",
    "batch_size = 256\n",
    "steps = 4000 \n",
    "learning_rate = 0.001\n",
    "train_split = int(0.7*x.shape[0])\n",
    "\n",
    "k = jax.random.PRNGKey(42)\n",
    "\n",
    "encoder = stax.serial(\n",
    "    stax.Dense(16),\n",
    "    stax.Relu,\n",
    "    stax.Dense(8)\n",
    ")\n",
    "\n",
    "decoder = stax.serial(\n",
    "    stax.Dense(16),\n",
    "    stax.Relu,\n",
    "    stax.Dense(x.shape[1])\n",
    ")\n",
    "\n",
    "nn = stax.serial(encoder, decoder)\n",
    "\n",
    "init_nn, apply_nn = nn\n",
    "opt_init, opt_update, get_params = adam(learning_rate)\n",
    "\n",
    "\n",
    "\n",
    "@jax.jit \n",
    "def step(i, opt_state, x,y):\n",
    "  params = get_params(opt_state)\n",
    "\n",
    "  def loss(params,x,y):\n",
    "      reconstruction = apply_nn(params,x) \n",
    "      return jnp.mean(vector_mse(y,reconstruction))\n",
    "\n",
    "  g = jax.grad(loss)(params, x,y) \n",
    "  opt_state = opt_update(i, g, opt_state)\n",
    "  step_loss = loss(get_params(opt_state),x,y)\n",
    "  return opt_state, step_loss\n",
    "\n",
    "@jax.jit\n",
    "def test_loss(opt_state,x,y):\n",
    "    params = get_params(opt_state) \n",
    "    reconstruction = apply_nn(params,x) \n",
    "    return jnp.mean(vector_mse(y,reconstruction))\n",
    "\n",
    "_,params  = init_nn(k,(batch_size,x.shape[1])) \n",
    "opt_state = opt_init(params)\n",
    "\n",
    "losses = []\n",
    "test_losses = []\n",
    "train_steps = []\n",
    "\n",
    "for i in range(steps):\n",
    "    idx = np.random.randint(0, train_split, size=batch_size)\n",
    "    bx = x[idx,...]\n",
    "\n",
    "    opt_state, step_loss = step(i, opt_state,bx,bx) \n",
    "\n",
    "    if i % 50 == 0:\n",
    "        tx = x[train_split:,...]\n",
    "        test_losses.append(test_loss(opt_state,tx,tx))\n",
    "        train_steps.append(i) \n",
    "        losses.append(test_loss(opt_state,x[:train_split,...],x[:train_split,...]))\n",
    "\n",
    "plt.plot(train_steps,losses,label='train')\n",
    "plt.plot(train_steps,test_losses,label='test')\n",
    " \n",
    "plt.legend()"
   ]
  },
  {
   "cell_type": "markdown",
   "metadata": {},
   "source": [
    "# Neural Network"
   ]
  },
  {
   "cell_type": "markdown",
   "metadata": {},
   "source": [
    "### Tuner"
   ]
  },
  {
   "cell_type": "code",
   "execution_count": 5,
   "metadata": {},
   "outputs": [
    {
     "name": "stdout",
     "output_type": "stream",
     "text": [
      "Trial 20 Complete [00h 00m 18s]\n",
      "val_accuracy: 0.9835745394229889\n",
      "\n",
      "Best val_accuracy So Far: 0.9939485192298889\n",
      "Total elapsed time: 00h 13m 31s\n",
      "Epoch 1/10\n",
      "\u001b[1m854/854\u001b[0m \u001b[32m━━━━━━━━━━━━━━━━━━━━\u001b[0m\u001b[37m\u001b[0m \u001b[1m2s\u001b[0m 962us/step - accuracy: 0.9338 - loss: 0.1601 - val_accuracy: 0.9911 - val_loss: 0.0597\n",
      "Epoch 2/10\n",
      "\u001b[1m854/854\u001b[0m \u001b[32m━━━━━━━━━━━━━━━━━━━━\u001b[0m\u001b[37m\u001b[0m \u001b[1m1s\u001b[0m 838us/step - accuracy: 0.9845 - loss: 0.0600 - val_accuracy: 0.9907 - val_loss: 0.0463\n",
      "Epoch 3/10\n",
      "\u001b[1m854/854\u001b[0m \u001b[32m━━━━━━━━━━━━━━━━━━━━\u001b[0m\u001b[37m\u001b[0m \u001b[1m1s\u001b[0m 847us/step - accuracy: 0.9883 - loss: 0.0487 - val_accuracy: 0.9903 - val_loss: 0.0434\n",
      "Epoch 4/10\n",
      "\u001b[1m854/854\u001b[0m \u001b[32m━━━━━━━━━━━━━━━━━━━━\u001b[0m\u001b[37m\u001b[0m \u001b[1m1s\u001b[0m 895us/step - accuracy: 0.9883 - loss: 0.0464 - val_accuracy: 0.9880 - val_loss: 0.0425\n",
      "Epoch 5/10\n",
      "\u001b[1m854/854\u001b[0m \u001b[32m━━━━━━━━━━━━━━━━━━━━\u001b[0m\u001b[37m\u001b[0m \u001b[1m1s\u001b[0m 865us/step - accuracy: 0.9862 - loss: 0.0536 - val_accuracy: 0.9849 - val_loss: 0.0514\n",
      "Epoch 6/10\n",
      "\u001b[1m854/854\u001b[0m \u001b[32m━━━━━━━━━━━━━━━━━━━━\u001b[0m\u001b[37m\u001b[0m \u001b[1m1s\u001b[0m 837us/step - accuracy: 0.9872 - loss: 0.0518 - val_accuracy: 0.9880 - val_loss: 0.0539\n",
      "Epoch 7/10\n",
      "\u001b[1m854/854\u001b[0m \u001b[32m━━━━━━━━━━━━━━━━━━━━\u001b[0m\u001b[37m\u001b[0m \u001b[1m1s\u001b[0m 857us/step - accuracy: 0.9888 - loss: 0.0482 - val_accuracy: 0.9874 - val_loss: 0.0489\n",
      "Epoch 8/10\n",
      "\u001b[1m854/854\u001b[0m \u001b[32m━━━━━━━━━━━━━━━━━━━━\u001b[0m\u001b[37m\u001b[0m \u001b[1m1s\u001b[0m 867us/step - accuracy: 0.9872 - loss: 0.0522 - val_accuracy: 0.9848 - val_loss: 0.0540\n",
      "Epoch 9/10\n",
      "\u001b[1m854/854\u001b[0m \u001b[32m━━━━━━━━━━━━━━━━━━━━\u001b[0m\u001b[37m\u001b[0m \u001b[1m1s\u001b[0m 825us/step - accuracy: 0.9895 - loss: 0.0450 - val_accuracy: 0.9914 - val_loss: 0.0393\n",
      "Epoch 10/10\n",
      "\u001b[1m854/854\u001b[0m \u001b[32m━━━━━━━━━━━━━━━━━━━━\u001b[0m\u001b[37m\u001b[0m \u001b[1m1s\u001b[0m 852us/step - accuracy: 0.9889 - loss: 0.0462 - val_accuracy: 0.9915 - val_loss: 0.0394\n",
      "\u001b[1m2092/2092\u001b[0m \u001b[32m━━━━━━━━━━━━━━━━━━━━\u001b[0m\u001b[37m\u001b[0m \u001b[1m1s\u001b[0m 489us/step - accuracy: 0.9913 - loss: 0.0397\n",
      "Test accuracy: 99.15\n"
     ]
    }
   ],
   "source": [
    "# Preprocess the data\n",
    "df['Label'] = df['Label'].apply(lambda x: 1 if x == 'BENIGN' else 0).astype(\"int\")  # BENIGN -> 1, non-BENIGN -> 0\n",
    "df['Bwd Packet Length Max'] = df['Bwd Packet Length Max'].astype('int')\n",
    "\n",
    "# Split the dataset\n",
    "X = df.drop('Label', axis=1)\n",
    "y = df['Label']\n",
    "X_train, X_test, y_train, y_test = train_test_split(X, y, test_size=0.3, random_state=42)\n",
    "\n",
    "# Scale the data\n",
    "scaler = StandardScaler()\n",
    "X_train = scaler.fit_transform(X_train)\n",
    "X_test = scaler.transform(X_test)\n",
    "\n",
    "# Define the model building function for Keras Tuner\n",
    "def build_model(hp):\n",
    "    model = Sequential()\n",
    "    model.add(Dense(units=hp.Int('units_1', min_value=8, max_value=64, step=8), \n",
    "                    input_dim=X_train.shape[1], activation='relu'))\n",
    "    model.add(Dense(units=hp.Int('units_2', min_value=4, max_value=32, step=4), \n",
    "                    activation='relu'))\n",
    "    model.add(Dense(1, activation='sigmoid'))\n",
    "\n",
    "    model.compile(\n",
    "        optimizer=Adam(hp.Choice('learning_rate', values=[1e-2, 1e-3, 1e-4])),\n",
    "        loss='binary_crossentropy',\n",
    "        metrics=['accuracy']\n",
    "    )\n",
    "    \n",
    "    return model\n",
    "\n",
    "# Set up the tuner\n",
    "tuner = kt.RandomSearch(\n",
    "    build_model,\n",
    "    objective='val_accuracy',\n",
    "    max_trials=20,\n",
    "    executions_per_trial=2,\n",
    "    directory='my_dir',\n",
    "    project_name='network_anomaly_detection'\n",
    ")\n",
    "\n",
    "# Search for the best hyperparameters\n",
    "tuner.search(X_train, y_train, epochs=10, validation_split=0.2, batch_size=128)\n",
    "\n",
    "# Get the best model\n",
    "best_hps = tuner.get_best_hyperparameters(num_trials=1)[0]\n",
    "best_model = tuner.hypermodel.build(best_hps)\n",
    "\n",
    "# Train the best model\n",
    "best_model.fit(X_train, y_train, epochs=10, batch_size=128, validation_split=0.3)\n",
    "\n",
    "# Evaluate the model\n",
    "loss, accuracy = best_model.evaluate(X_test, y_test)\n",
    "print('Test accuracy: %.2f' % (accuracy * 100))"
   ]
  },
  {
   "cell_type": "markdown",
   "metadata": {},
   "source": [
    "### Model"
   ]
  },
  {
   "cell_type": "code",
   "execution_count": 3,
   "metadata": {},
   "outputs": [
    {
     "name": "stdout",
     "output_type": "stream",
     "text": [
      "Epoch 1/10\n"
     ]
    },
    {
     "name": "stderr",
     "output_type": "stream",
     "text": [
      "c:\\Users\\delve\\WebstormProjects\\ids2018-anomaly-detection\\.venv\\Lib\\site-packages\\keras\\src\\layers\\core\\dense.py:87: UserWarning: Do not pass an `input_shape`/`input_dim` argument to a layer. When using Sequential models, prefer using an `Input(shape)` object as the first layer in the model instead.\n",
      "  super().__init__(activity_regularizer=activity_regularizer, **kwargs)\n"
     ]
    },
    {
     "name": "stdout",
     "output_type": "stream",
     "text": [
      "\u001b[1m1220/1220\u001b[0m \u001b[32m━━━━━━━━━━━━━━━━━━━━\u001b[0m\u001b[37m\u001b[0m \u001b[1m2s\u001b[0m 647us/step - accuracy: 0.9628 - loss: 0.6143\n",
      "Epoch 2/10\n",
      "\u001b[1m1220/1220\u001b[0m \u001b[32m━━━━━━━━━━━━━━━━━━━━\u001b[0m\u001b[37m\u001b[0m \u001b[1m1s\u001b[0m 649us/step - accuracy: 0.9968 - loss: 0.0538\n",
      "Epoch 3/10\n",
      "\u001b[1m1220/1220\u001b[0m \u001b[32m━━━━━━━━━━━━━━━━━━━━\u001b[0m\u001b[37m\u001b[0m \u001b[1m1s\u001b[0m 658us/step - accuracy: 0.9973 - loss: 0.0636\n",
      "Epoch 4/10\n",
      "\u001b[1m1220/1220\u001b[0m \u001b[32m━━━━━━━━━━━━━━━━━━━━\u001b[0m\u001b[37m\u001b[0m \u001b[1m1s\u001b[0m 615us/step - accuracy: 0.9975 - loss: 0.0330\n",
      "Epoch 5/10\n",
      "\u001b[1m1220/1220\u001b[0m \u001b[32m━━━━━━━━━━━━━━━━━━━━\u001b[0m\u001b[37m\u001b[0m \u001b[1m1s\u001b[0m 644us/step - accuracy: 0.9972 - loss: 0.0574\n",
      "Epoch 6/10\n",
      "\u001b[1m1220/1220\u001b[0m \u001b[32m━━━━━━━━━━━━━━━━━━━━\u001b[0m\u001b[37m\u001b[0m \u001b[1m1s\u001b[0m 604us/step - accuracy: 0.9975 - loss: 0.0451\n",
      "Epoch 7/10\n",
      "\u001b[1m1220/1220\u001b[0m \u001b[32m━━━━━━━━━━━━━━━━━━━━\u001b[0m\u001b[37m\u001b[0m \u001b[1m1s\u001b[0m 642us/step - accuracy: 0.9979 - loss: 0.0259\n",
      "Epoch 8/10\n",
      "\u001b[1m1220/1220\u001b[0m \u001b[32m━━━━━━━━━━━━━━━━━━━━\u001b[0m\u001b[37m\u001b[0m \u001b[1m1s\u001b[0m 604us/step - accuracy: 0.9976 - loss: 0.0405\n",
      "Epoch 9/10\n",
      "\u001b[1m1220/1220\u001b[0m \u001b[32m━━━━━━━━━━━━━━━━━━━━\u001b[0m\u001b[37m\u001b[0m \u001b[1m1s\u001b[0m 631us/step - accuracy: 0.9979 - loss: 0.0219\n",
      "Epoch 10/10\n",
      "\u001b[1m1220/1220\u001b[0m \u001b[32m━━━━━━━━━━━━━━━━━━━━\u001b[0m\u001b[37m\u001b[0m \u001b[1m1s\u001b[0m 657us/step - accuracy: 0.9977 - loss: 0.0243\n",
      "\u001b[1m2092/2092\u001b[0m \u001b[32m━━━━━━━━━━━━━━━━━━━━\u001b[0m\u001b[37m\u001b[0m \u001b[1m1s\u001b[0m 502us/step - accuracy: 0.9985 - loss: 0.0159\n",
      "Test accuracy: 99.85\n"
     ]
    }
   ],
   "source": [
    "# Preprocess the data\n",
    "df['Label'] = df['Label'].apply(lambda x: 1 if x == 'BENIGN' else 0).astype(\"int\")  # BENIGN -> 1, non-BENIGN -> 0\n",
    "df['Bwd Packet Length Max'] = df['Bwd Packet Length Max'].astype('int')\n",
    "\n",
    "# Split the dataset\n",
    "X = df.drop('Label', axis=1)\n",
    "y = df['Label']\n",
    "X_train, X_test, y_train, y_test = train_test_split(X, y, test_size=0.3, random_state=42)\n",
    "\n",
    "# Define the model\n",
    "model = Sequential()\n",
    "model.add(Dense(64, input_dim=X_train.shape[1], activation='relu'))\n",
    "model.add(Dense(28, activation='relu'))\n",
    "model.add(Dense(1, activation='sigmoid'))\n",
    "\n",
    "# Compile the model\n",
    "model.compile(loss='binary_crossentropy', optimizer='adam', metrics=['accuracy'])\n",
    "\n",
    "# Train the model\n",
    "model.fit(X_train, y_train, epochs=10, batch_size=128)\n",
    "\n",
    "# Evaluate the model\n",
    "loss, accuracy = model.evaluate(X_test, y_test)\n",
    "print('Test accuracy: %.2f' % (accuracy*100))"
   ]
  },
  {
   "cell_type": "markdown",
   "metadata": {},
   "source": [
    "### Read bigger dataset"
   ]
  },
  {
   "cell_type": "code",
   "execution_count": 4,
   "metadata": {},
   "outputs": [
    {
     "name": "stdout",
     "output_type": "stream",
     "text": [
      "Label\n",
      "1    1014454\n",
      "0     321770\n",
      "Name: count, dtype: int64\n"
     ]
    }
   ],
   "source": [
    "df_big = pd.read_parquet('./IDS2017/Final/Combined.parquet')\n",
    "df_big['Label'] = df_big['Label'].apply(lambda x: 1 if x == 'BENIGN' else 0).astype(int)  # BENIGN -> 1, non-BENIGN -> 0\n",
    "print(df_big['Label'].value_counts())"
   ]
  },
  {
   "cell_type": "markdown",
   "metadata": {},
   "source": [
    "### Threshhold setter"
   ]
  },
  {
   "cell_type": "code",
   "execution_count": 6,
   "metadata": {},
   "outputs": [
    {
     "name": "stdout",
     "output_type": "stream",
     "text": [
      "\u001b[1m41757/41757\u001b[0m \u001b[32m━━━━━━━━━━━━━━━━━━━━\u001b[0m\u001b[37m\u001b[0m \u001b[1m22s\u001b[0m 528us/step\n",
      "Best Threshold: 0.0\n",
      "Maximum Accuracy: 0.7591945661805206\n",
      "Classification Report:\n"
     ]
    },
    {
     "name": "stderr",
     "output_type": "stream",
     "text": [
      "c:\\Users\\delve\\WebstormProjects\\ids2018-anomaly-detection\\.venv\\Lib\\site-packages\\sklearn\\metrics\\_classification.py:1517: UndefinedMetricWarning: Precision is ill-defined and being set to 0.0 in labels with no predicted samples. Use `zero_division` parameter to control this behavior.\n",
      "  _warn_prf(average, modifier, f\"{metric.capitalize()} is\", len(result))\n"
     ]
    },
    {
     "ename": "KeyboardInterrupt",
     "evalue": "",
     "output_type": "error",
     "traceback": [
      "\u001b[1;31m---------------------------------------------------------------------------\u001b[0m",
      "\u001b[1;31mKeyboardInterrupt\u001b[0m                         Traceback (most recent call last)",
      "Cell \u001b[1;32mIn[6], line 46\u001b[0m\n\u001b[0;32m     44\u001b[0m \u001b[38;5;66;03m# Compare the predicted labels with the actual labels\u001b[39;00m\n\u001b[0;32m     45\u001b[0m \u001b[38;5;28mprint\u001b[39m(\u001b[38;5;124m\"\u001b[39m\u001b[38;5;124mClassification Report:\u001b[39m\u001b[38;5;124m\"\u001b[39m)\n\u001b[1;32m---> 46\u001b[0m \u001b[38;5;28mprint\u001b[39m(\u001b[43mclassification_report\u001b[49m\u001b[43m(\u001b[49m\u001b[43my_combined\u001b[49m\u001b[43m,\u001b[49m\u001b[43m \u001b[49m\u001b[43mdf_big\u001b[49m\u001b[43m[\u001b[49m\u001b[38;5;124;43m'\u001b[39;49m\u001b[38;5;124;43manomaly\u001b[39;49m\u001b[38;5;124;43m'\u001b[39;49m\u001b[43m]\u001b[49m\u001b[43m)\u001b[49m)\n\u001b[0;32m     48\u001b[0m sns\u001b[38;5;241m.\u001b[39mheatmap(confusion_matrix(y_combined, df_big[\u001b[38;5;124m'\u001b[39m\u001b[38;5;124manomaly\u001b[39m\u001b[38;5;124m'\u001b[39m]), fmt\u001b[38;5;241m=\u001b[39m\u001b[38;5;124m\"\u001b[39m\u001b[38;5;124md\u001b[39m\u001b[38;5;124m\"\u001b[39m, annot\u001b[38;5;241m=\u001b[39m\u001b[38;5;28;01mTrue\u001b[39;00m, cmap\u001b[38;5;241m=\u001b[39m\u001b[38;5;124m'\u001b[39m\u001b[38;5;124mBlues\u001b[39m\u001b[38;5;124m'\u001b[39m, cbar\u001b[38;5;241m=\u001b[39m\u001b[38;5;28;01mFalse\u001b[39;00m)\n\u001b[0;32m     49\u001b[0m plt\u001b[38;5;241m.\u001b[39mtitle(\u001b[38;5;124m'\u001b[39m\u001b[38;5;124mConfusion Matrix\u001b[39m\u001b[38;5;124m'\u001b[39m)\n",
      "File \u001b[1;32mc:\\Users\\delve\\WebstormProjects\\ids2018-anomaly-detection\\.venv\\Lib\\site-packages\\sklearn\\utils\\_param_validation.py:213\u001b[0m, in \u001b[0;36mvalidate_params.<locals>.decorator.<locals>.wrapper\u001b[1;34m(*args, **kwargs)\u001b[0m\n\u001b[0;32m    207\u001b[0m \u001b[38;5;28;01mtry\u001b[39;00m:\n\u001b[0;32m    208\u001b[0m     \u001b[38;5;28;01mwith\u001b[39;00m config_context(\n\u001b[0;32m    209\u001b[0m         skip_parameter_validation\u001b[38;5;241m=\u001b[39m(\n\u001b[0;32m    210\u001b[0m             prefer_skip_nested_validation \u001b[38;5;129;01mor\u001b[39;00m global_skip_validation\n\u001b[0;32m    211\u001b[0m         )\n\u001b[0;32m    212\u001b[0m     ):\n\u001b[1;32m--> 213\u001b[0m         \u001b[38;5;28;01mreturn\u001b[39;00m \u001b[43mfunc\u001b[49m\u001b[43m(\u001b[49m\u001b[38;5;241;43m*\u001b[39;49m\u001b[43margs\u001b[49m\u001b[43m,\u001b[49m\u001b[43m \u001b[49m\u001b[38;5;241;43m*\u001b[39;49m\u001b[38;5;241;43m*\u001b[39;49m\u001b[43mkwargs\u001b[49m\u001b[43m)\u001b[49m\n\u001b[0;32m    214\u001b[0m \u001b[38;5;28;01mexcept\u001b[39;00m InvalidParameterError \u001b[38;5;28;01mas\u001b[39;00m e:\n\u001b[0;32m    215\u001b[0m     \u001b[38;5;66;03m# When the function is just a wrapper around an estimator, we allow\u001b[39;00m\n\u001b[0;32m    216\u001b[0m     \u001b[38;5;66;03m# the function to delegate validation to the estimator, but we replace\u001b[39;00m\n\u001b[0;32m    217\u001b[0m     \u001b[38;5;66;03m# the name of the estimator by the name of the function in the error\u001b[39;00m\n\u001b[0;32m    218\u001b[0m     \u001b[38;5;66;03m# message to avoid confusion.\u001b[39;00m\n\u001b[0;32m    219\u001b[0m     msg \u001b[38;5;241m=\u001b[39m re\u001b[38;5;241m.\u001b[39msub(\n\u001b[0;32m    220\u001b[0m         \u001b[38;5;124mr\u001b[39m\u001b[38;5;124m\"\u001b[39m\u001b[38;5;124mparameter of \u001b[39m\u001b[38;5;124m\\\u001b[39m\u001b[38;5;124mw+ must be\u001b[39m\u001b[38;5;124m\"\u001b[39m,\n\u001b[0;32m    221\u001b[0m         \u001b[38;5;124mf\u001b[39m\u001b[38;5;124m\"\u001b[39m\u001b[38;5;124mparameter of \u001b[39m\u001b[38;5;132;01m{\u001b[39;00mfunc\u001b[38;5;241m.\u001b[39m\u001b[38;5;18m__qualname__\u001b[39m\u001b[38;5;132;01m}\u001b[39;00m\u001b[38;5;124m must be\u001b[39m\u001b[38;5;124m\"\u001b[39m,\n\u001b[0;32m    222\u001b[0m         \u001b[38;5;28mstr\u001b[39m(e),\n\u001b[0;32m    223\u001b[0m     )\n",
      "File \u001b[1;32mc:\\Users\\delve\\WebstormProjects\\ids2018-anomaly-detection\\.venv\\Lib\\site-packages\\sklearn\\metrics\\_classification.py:2683\u001b[0m, in \u001b[0;36mclassification_report\u001b[1;34m(y_true, y_pred, labels, target_names, sample_weight, digits, output_dict, zero_division)\u001b[0m\n\u001b[0;32m   2680\u001b[0m     line_heading \u001b[38;5;241m=\u001b[39m average \u001b[38;5;241m+\u001b[39m \u001b[38;5;124m\"\u001b[39m\u001b[38;5;124m avg\u001b[39m\u001b[38;5;124m\"\u001b[39m\n\u001b[0;32m   2682\u001b[0m \u001b[38;5;66;03m# compute averages with specified averaging method\u001b[39;00m\n\u001b[1;32m-> 2683\u001b[0m avg_p, avg_r, avg_f1, _ \u001b[38;5;241m=\u001b[39m \u001b[43mprecision_recall_fscore_support\u001b[49m\u001b[43m(\u001b[49m\n\u001b[0;32m   2684\u001b[0m \u001b[43m    \u001b[49m\u001b[43my_true\u001b[49m\u001b[43m,\u001b[49m\n\u001b[0;32m   2685\u001b[0m \u001b[43m    \u001b[49m\u001b[43my_pred\u001b[49m\u001b[43m,\u001b[49m\n\u001b[0;32m   2686\u001b[0m \u001b[43m    \u001b[49m\u001b[43mlabels\u001b[49m\u001b[38;5;241;43m=\u001b[39;49m\u001b[43mlabels\u001b[49m\u001b[43m,\u001b[49m\n\u001b[0;32m   2687\u001b[0m \u001b[43m    \u001b[49m\u001b[43maverage\u001b[49m\u001b[38;5;241;43m=\u001b[39;49m\u001b[43maverage\u001b[49m\u001b[43m,\u001b[49m\n\u001b[0;32m   2688\u001b[0m \u001b[43m    \u001b[49m\u001b[43msample_weight\u001b[49m\u001b[38;5;241;43m=\u001b[39;49m\u001b[43msample_weight\u001b[49m\u001b[43m,\u001b[49m\n\u001b[0;32m   2689\u001b[0m \u001b[43m    \u001b[49m\u001b[43mzero_division\u001b[49m\u001b[38;5;241;43m=\u001b[39;49m\u001b[43mzero_division\u001b[49m\u001b[43m,\u001b[49m\n\u001b[0;32m   2690\u001b[0m \u001b[43m\u001b[49m\u001b[43m)\u001b[49m\n\u001b[0;32m   2691\u001b[0m avg \u001b[38;5;241m=\u001b[39m [avg_p, avg_r, avg_f1, np\u001b[38;5;241m.\u001b[39msum(s)]\n\u001b[0;32m   2693\u001b[0m \u001b[38;5;28;01mif\u001b[39;00m output_dict:\n",
      "File \u001b[1;32mc:\\Users\\delve\\WebstormProjects\\ids2018-anomaly-detection\\.venv\\Lib\\site-packages\\sklearn\\utils\\_param_validation.py:186\u001b[0m, in \u001b[0;36mvalidate_params.<locals>.decorator.<locals>.wrapper\u001b[1;34m(*args, **kwargs)\u001b[0m\n\u001b[0;32m    184\u001b[0m global_skip_validation \u001b[38;5;241m=\u001b[39m get_config()[\u001b[38;5;124m\"\u001b[39m\u001b[38;5;124mskip_parameter_validation\u001b[39m\u001b[38;5;124m\"\u001b[39m]\n\u001b[0;32m    185\u001b[0m \u001b[38;5;28;01mif\u001b[39;00m global_skip_validation:\n\u001b[1;32m--> 186\u001b[0m     \u001b[38;5;28;01mreturn\u001b[39;00m \u001b[43mfunc\u001b[49m\u001b[43m(\u001b[49m\u001b[38;5;241;43m*\u001b[39;49m\u001b[43margs\u001b[49m\u001b[43m,\u001b[49m\u001b[43m \u001b[49m\u001b[38;5;241;43m*\u001b[39;49m\u001b[38;5;241;43m*\u001b[39;49m\u001b[43mkwargs\u001b[49m\u001b[43m)\u001b[49m\n\u001b[0;32m    188\u001b[0m func_sig \u001b[38;5;241m=\u001b[39m signature(func)\n\u001b[0;32m    190\u001b[0m \u001b[38;5;66;03m# Map *args/**kwargs to the function signature\u001b[39;00m\n",
      "File \u001b[1;32mc:\\Users\\delve\\WebstormProjects\\ids2018-anomaly-detection\\.venv\\Lib\\site-packages\\sklearn\\metrics\\_classification.py:1775\u001b[0m, in \u001b[0;36mprecision_recall_fscore_support\u001b[1;34m(y_true, y_pred, beta, labels, pos_label, average, warn_for, sample_weight, zero_division)\u001b[0m\n\u001b[0;32m   1612\u001b[0m \u001b[38;5;250m\u001b[39m\u001b[38;5;124;03m\"\"\"Compute precision, recall, F-measure and support for each class.\u001b[39;00m\n\u001b[0;32m   1613\u001b[0m \n\u001b[0;32m   1614\u001b[0m \u001b[38;5;124;03mThe precision is the ratio ``tp / (tp + fp)`` where ``tp`` is the number of\u001b[39;00m\n\u001b[1;32m   (...)\u001b[0m\n\u001b[0;32m   1772\u001b[0m \u001b[38;5;124;03m array([2, 2, 2]))\u001b[39;00m\n\u001b[0;32m   1773\u001b[0m \u001b[38;5;124;03m\"\"\"\u001b[39;00m\n\u001b[0;32m   1774\u001b[0m _check_zero_division(zero_division)\n\u001b[1;32m-> 1775\u001b[0m labels \u001b[38;5;241m=\u001b[39m \u001b[43m_check_set_wise_labels\u001b[49m\u001b[43m(\u001b[49m\u001b[43my_true\u001b[49m\u001b[43m,\u001b[49m\u001b[43m \u001b[49m\u001b[43my_pred\u001b[49m\u001b[43m,\u001b[49m\u001b[43m \u001b[49m\u001b[43maverage\u001b[49m\u001b[43m,\u001b[49m\u001b[43m \u001b[49m\u001b[43mlabels\u001b[49m\u001b[43m,\u001b[49m\u001b[43m \u001b[49m\u001b[43mpos_label\u001b[49m\u001b[43m)\u001b[49m\n\u001b[0;32m   1777\u001b[0m \u001b[38;5;66;03m# Calculate tp_sum, pred_sum, true_sum ###\u001b[39;00m\n\u001b[0;32m   1778\u001b[0m samplewise \u001b[38;5;241m=\u001b[39m average \u001b[38;5;241m==\u001b[39m \u001b[38;5;124m\"\u001b[39m\u001b[38;5;124msamples\u001b[39m\u001b[38;5;124m\"\u001b[39m\n",
      "File \u001b[1;32mc:\\Users\\delve\\WebstormProjects\\ids2018-anomaly-detection\\.venv\\Lib\\site-packages\\sklearn\\metrics\\_classification.py:1550\u001b[0m, in \u001b[0;36m_check_set_wise_labels\u001b[1;34m(y_true, y_pred, average, labels, pos_label)\u001b[0m\n\u001b[0;32m   1547\u001b[0m y_type, y_true, y_pred \u001b[38;5;241m=\u001b[39m _check_targets(y_true, y_pred)\n\u001b[0;32m   1548\u001b[0m \u001b[38;5;66;03m# Convert to Python primitive type to avoid NumPy type / Python str\u001b[39;00m\n\u001b[0;32m   1549\u001b[0m \u001b[38;5;66;03m# comparison. See https://github.com/numpy/numpy/issues/6784\u001b[39;00m\n\u001b[1;32m-> 1550\u001b[0m present_labels \u001b[38;5;241m=\u001b[39m \u001b[43munique_labels\u001b[49m\u001b[43m(\u001b[49m\u001b[43my_true\u001b[49m\u001b[43m,\u001b[49m\u001b[43m \u001b[49m\u001b[43my_pred\u001b[49m\u001b[43m)\u001b[49m\u001b[38;5;241m.\u001b[39mtolist()\n\u001b[0;32m   1551\u001b[0m \u001b[38;5;28;01mif\u001b[39;00m average \u001b[38;5;241m==\u001b[39m \u001b[38;5;124m\"\u001b[39m\u001b[38;5;124mbinary\u001b[39m\u001b[38;5;124m\"\u001b[39m:\n\u001b[0;32m   1552\u001b[0m     \u001b[38;5;28;01mif\u001b[39;00m y_type \u001b[38;5;241m==\u001b[39m \u001b[38;5;124m\"\u001b[39m\u001b[38;5;124mbinary\u001b[39m\u001b[38;5;124m\"\u001b[39m:\n",
      "File \u001b[1;32mc:\\Users\\delve\\WebstormProjects\\ids2018-anomaly-detection\\.venv\\Lib\\site-packages\\sklearn\\utils\\multiclass.py:80\u001b[0m, in \u001b[0;36munique_labels\u001b[1;34m(*ys)\u001b[0m\n\u001b[0;32m     77\u001b[0m     \u001b[38;5;28;01mraise\u001b[39;00m \u001b[38;5;167;01mValueError\u001b[39;00m(\u001b[38;5;124m\"\u001b[39m\u001b[38;5;124mNo argument has been passed.\u001b[39m\u001b[38;5;124m\"\u001b[39m)\n\u001b[0;32m     78\u001b[0m \u001b[38;5;66;03m# Check that we don't mix label format\u001b[39;00m\n\u001b[1;32m---> 80\u001b[0m ys_types \u001b[38;5;241m=\u001b[39m \u001b[38;5;28;43mset\u001b[39;49m\u001b[43m(\u001b[49m\u001b[43mtype_of_target\u001b[49m\u001b[43m(\u001b[49m\u001b[43mx\u001b[49m\u001b[43m)\u001b[49m\u001b[43m \u001b[49m\u001b[38;5;28;43;01mfor\u001b[39;49;00m\u001b[43m \u001b[49m\u001b[43mx\u001b[49m\u001b[43m \u001b[49m\u001b[38;5;129;43;01min\u001b[39;49;00m\u001b[43m \u001b[49m\u001b[43mys\u001b[49m\u001b[43m)\u001b[49m\n\u001b[0;32m     81\u001b[0m \u001b[38;5;28;01mif\u001b[39;00m ys_types \u001b[38;5;241m==\u001b[39m {\u001b[38;5;124m\"\u001b[39m\u001b[38;5;124mbinary\u001b[39m\u001b[38;5;124m\"\u001b[39m, \u001b[38;5;124m\"\u001b[39m\u001b[38;5;124mmulticlass\u001b[39m\u001b[38;5;124m\"\u001b[39m}:\n\u001b[0;32m     82\u001b[0m     ys_types \u001b[38;5;241m=\u001b[39m {\u001b[38;5;124m\"\u001b[39m\u001b[38;5;124mmulticlass\u001b[39m\u001b[38;5;124m\"\u001b[39m}\n",
      "File \u001b[1;32mc:\\Users\\delve\\WebstormProjects\\ids2018-anomaly-detection\\.venv\\Lib\\site-packages\\sklearn\\utils\\multiclass.py:80\u001b[0m, in \u001b[0;36m<genexpr>\u001b[1;34m(.0)\u001b[0m\n\u001b[0;32m     77\u001b[0m     \u001b[38;5;28;01mraise\u001b[39;00m \u001b[38;5;167;01mValueError\u001b[39;00m(\u001b[38;5;124m\"\u001b[39m\u001b[38;5;124mNo argument has been passed.\u001b[39m\u001b[38;5;124m\"\u001b[39m)\n\u001b[0;32m     78\u001b[0m \u001b[38;5;66;03m# Check that we don't mix label format\u001b[39;00m\n\u001b[1;32m---> 80\u001b[0m ys_types \u001b[38;5;241m=\u001b[39m \u001b[38;5;28mset\u001b[39m(\u001b[43mtype_of_target\u001b[49m\u001b[43m(\u001b[49m\u001b[43mx\u001b[49m\u001b[43m)\u001b[49m \u001b[38;5;28;01mfor\u001b[39;00m x \u001b[38;5;129;01min\u001b[39;00m ys)\n\u001b[0;32m     81\u001b[0m \u001b[38;5;28;01mif\u001b[39;00m ys_types \u001b[38;5;241m==\u001b[39m {\u001b[38;5;124m\"\u001b[39m\u001b[38;5;124mbinary\u001b[39m\u001b[38;5;124m\"\u001b[39m, \u001b[38;5;124m\"\u001b[39m\u001b[38;5;124mmulticlass\u001b[39m\u001b[38;5;124m\"\u001b[39m}:\n\u001b[0;32m     82\u001b[0m     ys_types \u001b[38;5;241m=\u001b[39m {\u001b[38;5;124m\"\u001b[39m\u001b[38;5;124mmulticlass\u001b[39m\u001b[38;5;124m\"\u001b[39m}\n",
      "File \u001b[1;32mc:\\Users\\delve\\WebstormProjects\\ids2018-anomaly-detection\\.venv\\Lib\\site-packages\\sklearn\\utils\\multiclass.py:406\u001b[0m, in \u001b[0;36mtype_of_target\u001b[1;34m(y, input_name)\u001b[0m\n\u001b[0;32m    404\u001b[0m \u001b[38;5;28;01mif\u001b[39;00m issparse(first_row_or_val):\n\u001b[0;32m    405\u001b[0m     first_row_or_val \u001b[38;5;241m=\u001b[39m first_row_or_val\u001b[38;5;241m.\u001b[39mdata\n\u001b[1;32m--> 406\u001b[0m \u001b[38;5;28;01mif\u001b[39;00m \u001b[43mxp\u001b[49m\u001b[38;5;241;43m.\u001b[39;49m\u001b[43munique_values\u001b[49m\u001b[43m(\u001b[49m\u001b[43my\u001b[49m\u001b[43m)\u001b[49m\u001b[38;5;241m.\u001b[39mshape[\u001b[38;5;241m0\u001b[39m] \u001b[38;5;241m>\u001b[39m \u001b[38;5;241m2\u001b[39m \u001b[38;5;129;01mor\u001b[39;00m (y\u001b[38;5;241m.\u001b[39mndim \u001b[38;5;241m==\u001b[39m \u001b[38;5;241m2\u001b[39m \u001b[38;5;129;01mand\u001b[39;00m \u001b[38;5;28mlen\u001b[39m(first_row_or_val) \u001b[38;5;241m>\u001b[39m \u001b[38;5;241m1\u001b[39m):\n\u001b[0;32m    407\u001b[0m     \u001b[38;5;66;03m# [1, 2, 3] or [[1., 2., 3]] or [[1, 2]]\u001b[39;00m\n\u001b[0;32m    408\u001b[0m     \u001b[38;5;28;01mreturn\u001b[39;00m \u001b[38;5;124m\"\u001b[39m\u001b[38;5;124mmulticlass\u001b[39m\u001b[38;5;124m\"\u001b[39m \u001b[38;5;241m+\u001b[39m suffix\n\u001b[0;32m    409\u001b[0m \u001b[38;5;28;01melse\u001b[39;00m:\n",
      "File \u001b[1;32mc:\\Users\\delve\\WebstormProjects\\ids2018-anomaly-detection\\.venv\\Lib\\site-packages\\sklearn\\utils\\_array_api.py:407\u001b[0m, in \u001b[0;36m_NumPyAPIWrapper.unique_values\u001b[1;34m(self, x)\u001b[0m\n\u001b[0;32m    406\u001b[0m \u001b[38;5;28;01mdef\u001b[39;00m \u001b[38;5;21munique_values\u001b[39m(\u001b[38;5;28mself\u001b[39m, x):\n\u001b[1;32m--> 407\u001b[0m     \u001b[38;5;28;01mreturn\u001b[39;00m \u001b[43mnumpy\u001b[49m\u001b[38;5;241;43m.\u001b[39;49m\u001b[43munique\u001b[49m\u001b[43m(\u001b[49m\u001b[43mx\u001b[49m\u001b[43m)\u001b[49m\n",
      "File \u001b[1;32mc:\\Users\\delve\\WebstormProjects\\ids2018-anomaly-detection\\.venv\\Lib\\site-packages\\numpy\\lib\\arraysetops.py:274\u001b[0m, in \u001b[0;36munique\u001b[1;34m(ar, return_index, return_inverse, return_counts, axis, equal_nan)\u001b[0m\n\u001b[0;32m    272\u001b[0m ar \u001b[38;5;241m=\u001b[39m np\u001b[38;5;241m.\u001b[39masanyarray(ar)\n\u001b[0;32m    273\u001b[0m \u001b[38;5;28;01mif\u001b[39;00m axis \u001b[38;5;129;01mis\u001b[39;00m \u001b[38;5;28;01mNone\u001b[39;00m:\n\u001b[1;32m--> 274\u001b[0m     ret \u001b[38;5;241m=\u001b[39m \u001b[43m_unique1d\u001b[49m\u001b[43m(\u001b[49m\u001b[43mar\u001b[49m\u001b[43m,\u001b[49m\u001b[43m \u001b[49m\u001b[43mreturn_index\u001b[49m\u001b[43m,\u001b[49m\u001b[43m \u001b[49m\u001b[43mreturn_inverse\u001b[49m\u001b[43m,\u001b[49m\u001b[43m \u001b[49m\u001b[43mreturn_counts\u001b[49m\u001b[43m,\u001b[49m\u001b[43m \u001b[49m\n\u001b[0;32m    275\u001b[0m \u001b[43m                    \u001b[49m\u001b[43mequal_nan\u001b[49m\u001b[38;5;241;43m=\u001b[39;49m\u001b[43mequal_nan\u001b[49m\u001b[43m)\u001b[49m\n\u001b[0;32m    276\u001b[0m     \u001b[38;5;28;01mreturn\u001b[39;00m _unpack_tuple(ret)\n\u001b[0;32m    278\u001b[0m \u001b[38;5;66;03m# axis was specified and not None\u001b[39;00m\n",
      "File \u001b[1;32mc:\\Users\\delve\\WebstormProjects\\ids2018-anomaly-detection\\.venv\\Lib\\site-packages\\numpy\\lib\\arraysetops.py:336\u001b[0m, in \u001b[0;36m_unique1d\u001b[1;34m(ar, return_index, return_inverse, return_counts, equal_nan)\u001b[0m\n\u001b[0;32m    334\u001b[0m     aux \u001b[38;5;241m=\u001b[39m ar[perm]\n\u001b[0;32m    335\u001b[0m \u001b[38;5;28;01melse\u001b[39;00m:\n\u001b[1;32m--> 336\u001b[0m     \u001b[43mar\u001b[49m\u001b[38;5;241;43m.\u001b[39;49m\u001b[43msort\u001b[49m\u001b[43m(\u001b[49m\u001b[43m)\u001b[49m\n\u001b[0;32m    337\u001b[0m     aux \u001b[38;5;241m=\u001b[39m ar\n\u001b[0;32m    338\u001b[0m mask \u001b[38;5;241m=\u001b[39m np\u001b[38;5;241m.\u001b[39mempty(aux\u001b[38;5;241m.\u001b[39mshape, dtype\u001b[38;5;241m=\u001b[39mnp\u001b[38;5;241m.\u001b[39mbool_)\n",
      "\u001b[1;31mKeyboardInterrupt\u001b[0m: "
     ]
    }
   ],
   "source": [
    "# Split the dataset\n",
    "X_combined = df_big.drop('Label', axis=1)\n",
    "y_combined = df_big['Label']\n",
    "\n",
    "# Define the scaler\n",
    "scaler = StandardScaler()\n",
    "\n",
    "# Fit the scaler to the new data\n",
    "scaler.fit(X_combined)\n",
    "\n",
    "# Normalize the data\n",
    "X_combined_scaled = scaler.transform(X_combined)\n",
    "\n",
    "# Use the trained model to predict the labels of the new data\n",
    "df_big['anomaly_score'] = model.predict(X_combined_scaled)\n",
    "\n",
    "# Define the range of possible threshold values\n",
    "thresholds = np.linspace(0, 1, 100)\n",
    "\n",
    "# Initialize the maximum accuracy and the corresponding threshold\n",
    "max_accuracy = 0\n",
    "best_threshold = 0\n",
    "\n",
    "# Iterate over the possible threshold values\n",
    "for threshold in thresholds:\n",
    "    # Apply the threshold to the anomaly_score to get the predicted labels\n",
    "    df_big['anomaly'] = df_big['anomaly_score'].apply(lambda x: 0 if x < threshold else 1)\n",
    "    \n",
    "    # Calculate the accuracy\n",
    "    accuracy = accuracy_score(y_combined, df_big['anomaly'])\n",
    "    \n",
    "    # If the accuracy is higher than the current maximum accuracy, update the maximum accuracy and the best threshold\n",
    "    if accuracy > max_accuracy:\n",
    "        max_accuracy = accuracy\n",
    "        best_threshold = threshold\n",
    "\n",
    "# Print the best threshold and the maximum accuracy\n",
    "print(\"Best Threshold:\", best_threshold)\n",
    "print(\"Maximum Accuracy:\", max_accuracy)\n",
    "\n",
    "# Apply the best threshold to the anomaly_score to get the predicted labels\n",
    "df_big['anomaly'] = df_big['anomaly_score'].apply(lambda x: 0 if x < best_threshold else 1)\n",
    "\n",
    "# Compare the predicted labels with the actual labels\n",
    "print(\"Classification Report:\")\n",
    "print(classification_report(y_combined, df_big['anomaly']))\n",
    "\n",
    "sns.heatmap(confusion_matrix(y_combined, df_big['anomaly']), fmt=\"d\", annot=True, cmap='Blues', cbar=False)\n",
    "plt.title('Confusion Matrix')\n",
    "plt.show()\n",
    "\n",
    "print(\"Accuracy Score:\")\n",
    "print(accuracy_score(y_combined, df_big['anomaly']))"
   ]
  },
  {
   "cell_type": "markdown",
   "metadata": {},
   "source": [
    "### Check model"
   ]
  },
  {
   "cell_type": "code",
   "execution_count": 5,
   "metadata": {},
   "outputs": [
    {
     "name": "stdout",
     "output_type": "stream",
     "text": [
      "\u001b[1m41757/41757\u001b[0m \u001b[32m━━━━━━━━━━━━━━━━━━━━\u001b[0m\u001b[37m\u001b[0m \u001b[1m20s\u001b[0m 481us/step\n",
      "anomaly\n",
      "1    945877\n",
      "0    390347\n",
      "Name: count, dtype: int64\n",
      "0.6107638 1.0\n",
      "Classification Report:\n",
      "              precision    recall  f1-score   support\n",
      "\n",
      "           0       0.63      0.76      0.69    321770\n",
      "           1       0.92      0.86      0.89   1014454\n",
      "\n",
      "    accuracy                           0.83   1336224\n",
      "   macro avg       0.77      0.81      0.79   1336224\n",
      "weighted avg       0.85      0.83      0.84   1336224\n",
      "\n"
     ]
    },
    {
     "data": {
      "image/png": "[encoded data removed]",
      "text/plain": [
       "<Figure size 640x480 with 1 Axes>"
      ]
     },
     "metadata": {},
     "output_type": "display_data"
    },
    {
     "name": "stdout",
     "output_type": "stream",
     "text": [
      "Accuracy Score:\n",
      "0.8323581974279761\n"
     ]
    }
   ],
   "source": [
    "# Split the dataset\n",
    "X_combined = df_big.drop('Label', axis=1)\n",
    "y_combined = df_big['Label']\n",
    "\n",
    "# Define the scaler\n",
    "scaler = StandardScaler()\n",
    "\n",
    "# Fit the scaler to the new data\n",
    "scaler.fit(X_combined)\n",
    "\n",
    "# Normalize the data\n",
    "X_combined_scaled = scaler.transform(X_combined)\n",
    "\n",
    "# Use the trained model to predict the labels of the new data\n",
    "df_big['anomaly_score'] = model.predict(X_combined_scaled)\n",
    "\n",
    "threshold = 0.98\n",
    "\n",
    "df_big['anomaly'] = df_big['anomaly_score'].apply(lambda x: 0 if x < threshold else 1)\n",
    "\n",
    "print(df_big['anomaly'].value_counts())\n",
    "print(df_big['anomaly_score'].min(), df_big['anomaly_score'].max())\n",
    "\n",
    "# Compare the predicted labels with the actual labels\n",
    "print(\"Classification Report:\")\n",
    "print(classification_report(y_combined, df_big['anomaly']))\n",
    "\n",
    "sns.heatmap(confusion_matrix(y_combined, df_big['anomaly']), fmt=\"d\", annot=True, cmap='Blues', cbar=False)\n",
    "plt.title('Macierz pomyłek')\n",
    "plt.show()\n",
    "\n",
    "\n",
    "print(\"Accuracy Score:\")\n",
    "print(accuracy_score(y_combined, df_big['anomaly']))"
   ]
  }
 ],
 "metadata": {
  "kernelspec": {
   "display_name": ".venv",
   "language": "python",
   "name": "python3"
  },
  "language_info": {
   "codemirror_mode": {
    "name": "ipython",
    "version": 3
   },
   "file_extension": ".py",
   "mimetype": "text/x-python",
   "name": "python",
   "nbconvert_exporter": "python",
   "pygments_lexer": "ipython3",
   "version": "3.12.4"
  }
 },
 "nbformat": 4,
 "nbformat_minor": 2
}
