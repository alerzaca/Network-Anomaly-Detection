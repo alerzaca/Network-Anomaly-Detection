{
 "cells": [
  {
   "cell_type": "code",
   "execution_count": 1,
   "metadata": {},
   "outputs": [],
   "source": [
    "from sklearn.model_selection import train_test_split\n",
    "from sklearn.ensemble import RandomForestClassifier, IsolationForest\n",
    "from sklearn.metrics import classification_report, confusion_matrix, accuracy_score\n",
    "from sklearn.preprocessing import LabelEncoder, StandardScaler\n",
    "from sklearn.cluster import KMeans\n",
    "import pandas as pd\n",
    "import numpy as np\n",
    "from matplotlib import pyplot as plt\n",
    "import seaborn as sns\n",
    "sns.set_theme(style=\"whitegrid\")\n",
    "import jax\n",
    "import jax.numpy as jnp\n",
    "from jax.example_libraries.optimizers import adam\n",
    "from jax.example_libraries import stax\n",
    "from keras.models import Sequential\n",
    "from keras.layers import Dense\n",
    "from keras.optimizers import Adam\n",
    "import keras_tuner as kt"
   ]
  },
  {
   "cell_type": "markdown",
   "metadata": {},
   "source": [
    "## Read data"
   ]
  },
  {
   "cell_type": "code",
   "execution_count": 2,
   "metadata": {},
   "outputs": [],
   "source": [
    "df = pd.read_parquet('./IDS2017/Final/Friday.parquet')"
   ]
  },
  {
   "cell_type": "markdown",
   "metadata": {},
   "source": [
    "# Random Forest Classifier"
   ]
  },
  {
   "cell_type": "code",
   "execution_count": 27,
   "metadata": {},
   "outputs": [
    {
     "name": "stdout",
     "output_type": "stream",
     "text": [
      "Classification Report:\n",
      "              precision    recall  f1-score   support\n",
      "\n",
      "           0       0.99      1.00      0.99    203048\n",
      "           1       1.00      1.00      1.00     25437\n",
      "           2       1.00      0.73      0.85      2072\n",
      "           3       0.99      0.97      0.98     34590\n",
      "           4       0.94      0.99      0.96      1054\n",
      "           5       1.00      0.99      0.99      1042\n",
      "           6       0.67      1.00      0.80         2\n",
      "\n",
      "    accuracy                           0.99    267245\n",
      "   macro avg       0.94      0.95      0.94    267245\n",
      "weighted avg       0.99      0.99      0.99    267245\n",
      "\n",
      "Confusion Matrix:\n",
      "[[202479     45      1    464     58      0      1]\n",
      " [    40  25397      0      0      0      0      0]\n",
      " [   551      0   1518      0      3      0      0]\n",
      " [   937      3      0  33649      1      0      0]\n",
      " [     8      0      0      0   1041      5      0]\n",
      " [     7      0      1      0      1   1033      0]\n",
      " [     0      0      0      0      0      0      2]]\n",
      "Accuracy Score:\n",
      "0.992044752942057\n"
     ]
    }
   ],
   "source": [
    "# Preprocess the data\n",
    "le = LabelEncoder()\n",
    "df['Label'] = le.fit_transform(df['Label'])\n",
    "\n",
    "# Split the dataset\n",
    "X = df.drop('Label', axis=1)\n",
    "y = df['Label']\n",
    "X_train, X_test, y_train, y_test = train_test_split(X, y, test_size=0.2, random_state=42)\n",
    "\n",
    "# Initialize the model\n",
    "model = RandomForestClassifier(n_estimators=100)\n",
    "\n",
    "# Train the model\n",
    "model.fit(X_train, y_train)\n",
    "\n",
    "# Evaluate the model\n",
    "y_pred = model.predict(X_test)\n",
    "\n",
    "# Print the classification report\n",
    "print(\"Classification Report:\")\n",
    "print(classification_report(y_test, y_pred))\n",
    "\n",
    "# Print the confusion matrix\n",
    "print(\"Confusion Matrix:\")\n",
    "print(confusion_matrix(y_test, y_pred))\n",
    "\n",
    "# Print the accuracy score\n",
    "print(\"Accuracy Score:\")\n",
    "print(accuracy_score(y_test, y_pred))"
   ]
  },
  {
   "cell_type": "markdown",
   "metadata": {},
   "source": [
    "# K-Means"
   ]
  },
  {
   "cell_type": "code",
   "execution_count": 8,
   "metadata": {},
   "outputs": [
    {
     "name": "stdout",
     "output_type": "stream",
     "text": [
      "Cluster\n",
      "1    140330\n",
      "0     82752\n",
      "Name: count, dtype: int64\n"
     ]
    }
   ],
   "source": [
    "# Drop the 'Label' column\n",
    "df = df.drop('Label', axis=1)\n",
    "\n",
    "# Normalize the data\n",
    "scaler = StandardScaler()\n",
    "df_scaled = scaler.fit_transform(df)\n",
    "\n",
    "# Initialize the KMeans model\n",
    "kmeans = KMeans(n_clusters=2, random_state=42)\n",
    "\n",
    "# Train the model\n",
    "kmeans.fit(df_scaled)\n",
    "\n",
    "# Predict the clusters\n",
    "df['Cluster'] = kmeans.predict(df_scaled)\n",
    "\n",
    "# Display the results\n",
    "print(df['Cluster'].value_counts())"
   ]
  },
  {
   "cell_type": "markdown",
   "metadata": {},
   "source": [
    "# Isolation Forest"
   ]
  },
  {
   "cell_type": "code",
   "execution_count": 19,
   "metadata": {},
   "outputs": [
    {
     "name": "stdout",
     "output_type": "stream",
     "text": [
      "Anomaly detection results:\n",
      "         anomaly_score  anomaly\n",
      "0             0.341200        1\n",
      "1             0.329885        1\n",
      "2             0.329885        1\n",
      "3             0.329885        1\n",
      "4             0.341200        1\n",
      "...                ...      ...\n",
      "1336219       0.329199        1\n",
      "1336220       0.305229        1\n",
      "1336221       0.332498        1\n",
      "1336222       0.314027        1\n",
      "1336223       0.315921        1\n",
      "\n",
      "[1336224 rows x 2 columns]\n",
      "\n",
      "Details of detected anomalies:\n",
      "         Total Length of Fwd Packets  Total Length of Bwd Packets  \\\n",
      "111                             1325                       108751   \n",
      "112                             1325                       110185   \n",
      "113                             1325                       108751   \n",
      "114                             1313                       100063   \n",
      "118                             1325                       100049   \n",
      "...                              ...                          ...   \n",
      "1332638                        35380                        16183   \n",
      "1333918                         1361                       173678   \n",
      "1334305                        33901                        10574   \n",
      "1335035                         1455                       147609   \n",
      "1335330                         7334                       267793   \n",
      "\n",
      "         Bwd Packet Length Max  Bwd Packet Length Mean  Bwd Packet Length Std  \\\n",
      "111                       2896             1812.516724             822.089722   \n",
      "112                       4344             1899.741333             942.998779   \n",
      "113                       4344             1875.017212             973.725891   \n",
      "114                       4344             1887.981079             961.469299   \n",
      "118                       2896             1588.079346             717.669617   \n",
      "...                        ...                     ...                    ...   \n",
      "1332638                   1460              425.868408             310.365784   \n",
      "1333918                   2920             1423.590210             599.964783   \n",
      "1334305                    359              311.000000             119.362953   \n",
      "1335035                   4380             1968.119995             909.563416   \n",
      "1335330                   2860              995.513000             670.160095   \n",
      "\n",
      "         Average Packet Size  Avg Bwd Segment Size  Fwd Header Length.1  \\\n",
      "111              1028.747681           1812.516724                 1200   \n",
      "112              1072.211548           1899.741333                 1168   \n",
      "113              1068.698975           1875.017212                 1136   \n",
      "114              1024.000000           1887.981079                 1192   \n",
      "118               921.581848           1588.079346                 1200   \n",
      "...                      ...                   ...                  ...   \n",
      "1332638           481.897186            425.868408                 1392   \n",
      "1333918           893.056152           1423.590210                 1492   \n",
      "1334305           453.826538            311.000000                 1292   \n",
      "1335035          1155.534912           1968.119995                 1092   \n",
      "1335330           611.393311            995.513000                 3632   \n",
      "\n",
      "         Subflow Fwd Bytes  Subflow Bwd Bytes  anomaly_score  anomaly  \n",
      "111                   1325             108751      -0.013103       -1  \n",
      "112                   1325             110185      -0.008464       -1  \n",
      "113                   1325             108751      -0.006477       -1  \n",
      "114                   1313             100063      -0.004309       -1  \n",
      "118                   1325             100049      -0.010785       -1  \n",
      "...                    ...                ...            ...      ...  \n",
      "1332638              35380              16183      -0.027987       -1  \n",
      "1333918               1361             173678      -0.033487       -1  \n",
      "1334305              33901              10574      -0.025474       -1  \n",
      "1335035               1455             147609      -0.041741       -1  \n",
      "1335330               7334             267793      -0.091362       -1  \n",
      "\n",
      "[13361 rows x 12 columns]\n"
     ]
    }
   ],
   "source": [
    "# Drop the 'Label' column\n",
    "df = df.drop('Label', axis=1)\n",
    "\n",
    "# Scale the data\n",
    "scaler = StandardScaler()\n",
    "data_scaled = scaler.fit_transform(df)\n",
    "\n",
    "# Create the Isolation Forest model\n",
    "model = IsolationForest(n_estimators=100, contamination=0.01, random_state=42)\n",
    "\n",
    "# Train the model\n",
    "model.fit(data_scaled)\n",
    "\n",
    "# Detect anomalies\n",
    "anomaly_scores = model.decision_function(data_scaled)\n",
    "anomalies = model.predict(data_scaled)\n",
    "\n",
    "# Add the results to the original data\n",
    "df['anomaly_score'] = anomaly_scores\n",
    "df['anomaly'] = anomalies\n",
    "\n",
    "# Print the results\n",
    "print(\"Anomaly detection results:\")\n",
    "print(df[['anomaly_score', 'anomaly']])\n",
    "\n",
    "# Print detailed information about the anomalies\n",
    "anomalies_data = df[df['anomaly'] == -1]\n",
    "print(\"\\nDetails of detected anomalies:\")\n",
    "print(anomalies_data)"
   ]
  },
  {
   "cell_type": "markdown",
   "metadata": {},
   "source": [
    "# Autoencoder"
   ]
  },
  {
   "cell_type": "code",
   "execution_count": 33,
   "metadata": {},
   "outputs": [
    {
     "data": {
      "text/plain": [
       "<matplotlib.legend.Legend at 0x1f741e20500>"
      ]
     },
     "execution_count": 33,
     "metadata": {},
     "output_type": "execute_result"
    },
    {
     "data": {
      "image/png": "[encoded data removed]",
      "text/plain": [
       "<Figure size 640x480 with 1 Axes>"
      ]
     },
     "metadata": {},
     "output_type": "display_data"
    }
   ],
   "source": [
    "df = df.drop('Label', axis=1)\n",
    "x = df.to_numpy()  \n",
    "\n",
    "def vector_mse(y,yhat):\n",
    "    return jnp.mean(jnp.square(y-yhat), axis=-1)\n",
    "\n",
    "batch_size = 256\n",
    "steps = 4000 \n",
    "learning_rate = 0.001\n",
    "train_split = int(0.7*x.shape[0])\n",
    "\n",
    "k = jax.random.PRNGKey(42)\n",
    "\n",
    "encoder = stax.serial(\n",
    "    stax.Dense(16),\n",
    "    stax.Relu,\n",
    "    stax.Dense(8)\n",
    ")\n",
    "\n",
    "decoder = stax.serial(\n",
    "    stax.Dense(16),\n",
    "    stax.Relu,\n",
    "    stax.Dense(x.shape[1])\n",
    ")\n",
    "\n",
    "nn = stax.serial(encoder, decoder)\n",
    "\n",
    "init_nn, apply_nn = nn\n",
    "opt_init, opt_update, get_params = adam(learning_rate)\n",
    "\n",
    "\n",
    "\n",
    "@jax.jit \n",
    "def step(i, opt_state, x,y):\n",
    "  params = get_params(opt_state)\n",
    "\n",
    "  def loss(params,x,y):\n",
    "      reconstruction = apply_nn(params,x) \n",
    "      return jnp.mean(vector_mse(y,reconstruction))\n",
    "\n",
    "  g = jax.grad(loss)(params, x,y) \n",
    "  opt_state = opt_update(i, g, opt_state)\n",
    "  step_loss = loss(get_params(opt_state),x,y)\n",
    "  return opt_state, step_loss\n",
    "\n",
    "@jax.jit\n",
    "def test_loss(opt_state,x,y):\n",
    "    params = get_params(opt_state) \n",
    "    reconstruction = apply_nn(params,x) \n",
    "    return jnp.mean(vector_mse(y,reconstruction))\n",
    "\n",
    "_,params  = init_nn(k,(batch_size,x.shape[1])) \n",
    "opt_state = opt_init(params)\n",
    "\n",
    "losses = []\n",
    "test_losses = []\n",
    "train_steps = []\n",
    "\n",
    "for i in range(steps):\n",
    "    idx = np.random.randint(0, train_split, size=batch_size)\n",
    "    bx = x[idx,...]\n",
    "\n",
    "    opt_state, step_loss = step(i, opt_state,bx,bx) \n",
    "\n",
    "    if i % 50 == 0:\n",
    "        tx = x[train_split:,...]\n",
    "        test_losses.append(test_loss(opt_state,tx,tx))\n",
    "        train_steps.append(i) \n",
    "        losses.append(test_loss(opt_state,x[:train_split,...],x[:train_split,...]))\n",
    "\n",
    "plt.plot(train_steps,losses,label='train')\n",
    "plt.plot(train_steps,test_losses,label='test')\n",
    " \n",
    "plt.legend()"
   ]
  },
  {
   "cell_type": "markdown",
   "metadata": {},
   "source": [
    "# Neural Network"
   ]
  },
  {
   "cell_type": "markdown",
   "metadata": {},
   "source": [
    "### Tuner"
   ]
  },
  {
   "cell_type": "code",
   "execution_count": 5,
   "metadata": {},
   "outputs": [
    {
     "name": "stdout",
     "output_type": "stream",
     "text": [
      "Trial 20 Complete [00h 00m 18s]\n",
      "val_accuracy: 0.9835745394229889\n",
      "\n",
      "Best val_accuracy So Far: 0.9939485192298889\n",
      "Total elapsed time: 00h 13m 31s\n",
      "Epoch 1/10\n",
      "\u001b[1m854/854\u001b[0m \u001b[32m━━━━━━━━━━━━━━━━━━━━\u001b[0m\u001b[37m\u001b[0m \u001b[1m2s\u001b[0m 962us/step - accuracy: 0.9338 - loss: 0.1601 - val_accuracy: 0.9911 - val_loss: 0.0597\n",
      "Epoch 2/10\n",
      "\u001b[1m854/854\u001b[0m \u001b[32m━━━━━━━━━━━━━━━━━━━━\u001b[0m\u001b[37m\u001b[0m \u001b[1m1s\u001b[0m 838us/step - accuracy: 0.9845 - loss: 0.0600 - val_accuracy: 0.9907 - val_loss: 0.0463\n",
      "Epoch 3/10\n",
      "\u001b[1m854/854\u001b[0m \u001b[32m━━━━━━━━━━━━━━━━━━━━\u001b[0m\u001b[37m\u001b[0m \u001b[1m1s\u001b[0m 847us/step - accuracy: 0.9883 - loss: 0.0487 - val_accuracy: 0.9903 - val_loss: 0.0434\n",
      "Epoch 4/10\n",
      "\u001b[1m854/854\u001b[0m \u001b[32m━━━━━━━━━━━━━━━━━━━━\u001b[0m\u001b[37m\u001b[0m \u001b[1m1s\u001b[0m 895us/step - accuracy: 0.9883 - loss: 0.0464 - val_accuracy: 0.9880 - val_loss: 0.0425\n",
      "Epoch 5/10\n",
      "\u001b[1m854/854\u001b[0m \u001b[32m━━━━━━━━━━━━━━━━━━━━\u001b[0m\u001b[37m\u001b[0m \u001b[1m1s\u001b[0m 865us/step - accuracy: 0.9862 - loss: 0.0536 - val_accuracy: 0.9849 - val_loss: 0.0514\n",
      "Epoch 6/10\n",
      "\u001b[1m854/854\u001b[0m \u001b[32m━━━━━━━━━━━━━━━━━━━━\u001b[0m\u001b[37m\u001b[0m \u001b[1m1s\u001b[0m 837us/step - accuracy: 0.9872 - loss: 0.0518 - val_accuracy: 0.9880 - val_loss: 0.0539\n",
      "Epoch 7/10\n",
      "\u001b[1m854/854\u001b[0m \u001b[32m━━━━━━━━━━━━━━━━━━━━\u001b[0m\u001b[37m\u001b[0m \u001b[1m1s\u001b[0m 857us/step - accuracy: 0.9888 - loss: 0.0482 - val_accuracy: 0.9874 - val_loss: 0.0489\n",
      "Epoch 8/10\n",
      "\u001b[1m854/854\u001b[0m \u001b[32m━━━━━━━━━━━━━━━━━━━━\u001b[0m\u001b[37m\u001b[0m \u001b[1m1s\u001b[0m 867us/step - accuracy: 0.9872 - loss: 0.0522 - val_accuracy: 0.9848 - val_loss: 0.0540\n",
      "Epoch 9/10\n",
      "\u001b[1m854/854\u001b[0m \u001b[32m━━━━━━━━━━━━━━━━━━━━\u001b[0m\u001b[37m\u001b[0m \u001b[1m1s\u001b[0m 825us/step - accuracy: 0.9895 - loss: 0.0450 - val_accuracy: 0.9914 - val_loss: 0.0393\n",
      "Epoch 10/10\n",
      "\u001b[1m854/854\u001b[0m \u001b[32m━━━━━━━━━━━━━━━━━━━━\u001b[0m\u001b[37m\u001b[0m \u001b[1m1s\u001b[0m 852us/step - accuracy: 0.9889 - loss: 0.0462 - val_accuracy: 0.9915 - val_loss: 0.0394\n",
      "\u001b[1m2092/2092\u001b[0m \u001b[32m━━━━━━━━━━━━━━━━━━━━\u001b[0m\u001b[37m\u001b[0m \u001b[1m1s\u001b[0m 489us/step - accuracy: 0.9913 - loss: 0.0397\n",
      "Test accuracy: 99.15\n"
     ]
    }
   ],
   "source": [
    "# Preprocess the data\n",
    "df['Label'] = df['Label'].apply(lambda x: 1 if x == 'BENIGN' else 0).astype(\"int\")  # BENIGN -> 1, non-BENIGN -> 0\n",
    "df['Bwd Packet Length Max'] = df['Bwd Packet Length Max'].astype('int')\n",
    "\n",
    "# Split the dataset\n",
    "X = df.drop('Label', axis=1)\n",
    "y = df['Label']\n",
    "X_train, X_test, y_train, y_test = train_test_split(X, y, test_size=0.3, random_state=42)\n",
    "\n",
    "# Scale the data\n",
    "scaler = StandardScaler()\n",
    "X_train = scaler.fit_transform(X_train)\n",
    "X_test = scaler.transform(X_test)\n",
    "\n",
    "# Define the model building function for Keras Tuner\n",
    "def build_model(hp):\n",
    "    model = Sequential()\n",
    "    model.add(Dense(units=hp.Int('units_1', min_value=8, max_value=64, step=8), \n",
    "                    input_dim=X_train.shape[1], activation='relu'))\n",
    "    model.add(Dense(units=hp.Int('units_2', min_value=4, max_value=32, step=4), \n",
    "                    activation='relu'))\n",
    "    model.add(Dense(1, activation='sigmoid'))\n",
    "\n",
    "    model.compile(\n",
    "        optimizer=Adam(hp.Choice('learning_rate', values=[1e-2, 1e-3, 1e-4])),\n",
    "        loss='binary_crossentropy',\n",
    "        metrics=['accuracy']\n",
    "    )\n",
    "    \n",
    "    return model\n",
    "\n",
    "# Set up the tuner\n",
    "tuner = kt.RandomSearch(\n",
    "    build_model,\n",
    "    objective='val_accuracy',\n",
    "    max_trials=20,\n",
    "    executions_per_trial=2,\n",
    "    directory='my_dir',\n",
    "    project_name='network_anomaly_detection'\n",
    ")\n",
    "\n",
    "# Search for the best hyperparameters\n",
    "tuner.search(X_train, y_train, epochs=10, validation_split=0.2, batch_size=128)\n",
    "\n",
    "# Get the best model\n",
    "best_hps = tuner.get_best_hyperparameters(num_trials=1)[0]\n",
    "best_model = tuner.hypermodel.build(best_hps)\n",
    "\n",
    "# Train the best model\n",
    "best_model.fit(X_train, y_train, epochs=10, batch_size=128, validation_split=0.3)\n",
    "\n",
    "# Evaluate the model\n",
    "loss, accuracy = best_model.evaluate(X_test, y_test)\n",
    "print('Test accuracy: %.2f' % (accuracy * 100))"
   ]
  },
  {
   "cell_type": "markdown",
   "metadata": {},
   "source": [
    "### Model"
   ]
  },
  {
   "cell_type": "code",
   "execution_count": 3,
   "metadata": {},
   "outputs": [
    {
     "name": "stdout",
     "output_type": "stream",
     "text": [
      "Epoch 1/10\n"
     ]
    },
    {
     "name": "stderr",
     "output_type": "stream",
     "text": [
      "c:\\Users\\delve\\WebstormProjects\\ids2018-anomaly-detection\\.venv\\Lib\\site-packages\\keras\\src\\layers\\core\\dense.py:87: UserWarning: Do not pass an `input_shape`/`input_dim` argument to a layer. When using Sequential models, prefer using an `Input(shape)` object as the first layer in the model instead.\n",
      "  super().__init__(activity_regularizer=activity_regularizer, **kwargs)\n"
     ]
    },
    {
     "name": "stdout",
     "output_type": "stream",
     "text": [
      "\u001b[1m1220/1220\u001b[0m \u001b[32m━━━━━━━━━━━━━━━━━━━━\u001b[0m\u001b[37m\u001b[0m \u001b[1m1s\u001b[0m 628us/step - accuracy: 0.9427 - loss: 7.2919\n",
      "Epoch 2/10\n",
      "\u001b[1m1220/1220\u001b[0m \u001b[32m━━━━━━━━━━━━━━━━━━━━\u001b[0m\u001b[37m\u001b[0m \u001b[1m1s\u001b[0m 623us/step - accuracy: 0.9976 - loss: 0.0127\n",
      "Epoch 3/10\n",
      "\u001b[1m1220/1220\u001b[0m \u001b[32m━━━━━━━━━━━━━━━━━━━━\u001b[0m\u001b[37m\u001b[0m \u001b[1m1s\u001b[0m 636us/step - accuracy: 0.9976 - loss: 0.0123\n",
      "Epoch 4/10\n",
      "\u001b[1m1220/1220\u001b[0m \u001b[32m━━━━━━━━━━━━━━━━━━━━\u001b[0m\u001b[37m\u001b[0m \u001b[1m1s\u001b[0m 612us/step - accuracy: 0.9976 - loss: 0.0158\n",
      "Epoch 5/10\n",
      "\u001b[1m1220/1220\u001b[0m \u001b[32m━━━━━━━━━━━━━━━━━━━━\u001b[0m\u001b[37m\u001b[0m \u001b[1m1s\u001b[0m 612us/step - accuracy: 0.9977 - loss: 0.0121\n",
      "Epoch 6/10\n",
      "\u001b[1m1220/1220\u001b[0m \u001b[32m━━━━━━━━━━━━━━━━━━━━\u001b[0m\u001b[37m\u001b[0m \u001b[1m1s\u001b[0m 605us/step - accuracy: 0.9976 - loss: 0.0219\n",
      "Epoch 7/10\n",
      "\u001b[1m1220/1220\u001b[0m \u001b[32m━━━━━━━━━━━━━━━━━━━━\u001b[0m\u001b[37m\u001b[0m \u001b[1m1s\u001b[0m 594us/step - accuracy: 0.9962 - loss: 0.1459\n",
      "Epoch 8/10\n",
      "\u001b[1m1220/1220\u001b[0m \u001b[32m━━━━━━━━━━━━━━━━━━━━\u001b[0m\u001b[37m\u001b[0m \u001b[1m1s\u001b[0m 623us/step - accuracy: 0.9980 - loss: 0.0134\n",
      "Epoch 9/10\n",
      "\u001b[1m1220/1220\u001b[0m \u001b[32m━━━━━━━━━━━━━━━━━━━━\u001b[0m\u001b[37m\u001b[0m \u001b[1m1s\u001b[0m 631us/step - accuracy: 0.9977 - loss: 0.0234\n",
      "Epoch 10/10\n",
      "\u001b[1m1220/1220\u001b[0m \u001b[32m━━━━━━━━━━━━━━━━━━━━\u001b[0m\u001b[37m\u001b[0m \u001b[1m1s\u001b[0m 640us/step - accuracy: 0.9979 - loss: 0.0211\n",
      "\u001b[1m2092/2092\u001b[0m \u001b[32m━━━━━━━━━━━━━━━━━━━━\u001b[0m\u001b[37m\u001b[0m \u001b[1m1s\u001b[0m 470us/step - accuracy: 0.9979 - loss: 0.0155\n",
      "Test accuracy: 99.79\n"
     ]
    }
   ],
   "source": [
    "# Preprocess the data\n",
    "df['Label'] = df['Label'].apply(lambda x: 1 if x == 'BENIGN' else 0).astype(\"int\")  # BENIGN -> 1, non-BENIGN -> 0\n",
    "df['Bwd Packet Length Max'] = df['Bwd Packet Length Max'].astype('int')\n",
    "\n",
    "# Split the dataset\n",
    "X = df.drop('Label', axis=1)\n",
    "y = df['Label']\n",
    "X_train, X_test, y_train, y_test = train_test_split(X, y, test_size=0.3, random_state=42)\n",
    "\n",
    "# Define the model\n",
    "model = Sequential()\n",
    "model.add(Dense(64, input_dim=X_train.shape[1], activation='relu'))\n",
    "model.add(Dense(28, activation='relu'))\n",
    "model.add(Dense(1, activation='sigmoid'))\n",
    "\n",
    "# Compile the model\n",
    "model.compile(loss='binary_crossentropy', optimizer='adam', metrics=['accuracy'])\n",
    "\n",
    "# Train the model\n",
    "model.fit(X_train, y_train, epochs=10, batch_size=128)\n",
    "\n",
    "# Evaluate the model\n",
    "loss, accuracy = model.evaluate(X_test, y_test)\n",
    "print('Test accuracy: %.2f' % (accuracy*100))"
   ]
  },
  {
   "cell_type": "markdown",
   "metadata": {},
   "source": [
    "### Read bigger dataset"
   ]
  },
  {
   "cell_type": "code",
   "execution_count": 12,
   "metadata": {},
   "outputs": [
    {
     "name": "stdout",
     "output_type": "stream",
     "text": [
      "Label\n",
      "1    1014454\n",
      "0     321770\n",
      "Name: count, dtype: int64\n"
     ]
    }
   ],
   "source": [
    "df_big = pd.read_parquet('./IDS2017/Final/Combined.parquet')\n",
    "df_big['Label'] = df_big['Label'].apply(lambda x: 1 if x == 'BENIGN' else 0).astype(int)  # BENIGN -> 1, non-BENIGN -> 0\n",
    "print(df_big['Label'].value_counts())"
   ]
  },
  {
   "cell_type": "markdown",
   "metadata": {},
   "source": [
    "### Check model"
   ]
  },
  {
   "cell_type": "code",
   "execution_count": 13,
   "metadata": {},
   "outputs": [
    {
     "name": "stdout",
     "output_type": "stream",
     "text": [
      "\u001b[1m41757/41757\u001b[0m \u001b[32m━━━━━━━━━━━━━━━━━━━━\u001b[0m\u001b[37m\u001b[0m \u001b[1m21s\u001b[0m 496us/step\n",
      "Classification Report:\n"
     ]
    },
    {
     "name": "stderr",
     "output_type": "stream",
     "text": [
      "c:\\Users\\delve\\WebstormProjects\\ids2018-anomaly-detection\\.venv\\Lib\\site-packages\\sklearn\\metrics\\_classification.py:1517: UndefinedMetricWarning: Precision is ill-defined and being set to 0.0 in labels with no predicted samples. Use `zero_division` parameter to control this behavior.\n",
      "  _warn_prf(average, modifier, f\"{metric.capitalize()} is\", len(result))\n",
      "c:\\Users\\delve\\WebstormProjects\\ids2018-anomaly-detection\\.venv\\Lib\\site-packages\\sklearn\\metrics\\_classification.py:1517: UndefinedMetricWarning: Precision is ill-defined and being set to 0.0 in labels with no predicted samples. Use `zero_division` parameter to control this behavior.\n",
      "  _warn_prf(average, modifier, f\"{metric.capitalize()} is\", len(result))\n"
     ]
    },
    {
     "name": "stdout",
     "output_type": "stream",
     "text": [
      "              precision    recall  f1-score   support\n",
      "\n",
      "           0       0.00      0.00      0.00    321770\n",
      "           1       0.76      1.00      0.86   1014454\n",
      "\n",
      "    accuracy                           0.76   1336224\n",
      "   macro avg       0.38      0.50      0.43   1336224\n",
      "weighted avg       0.58      0.76      0.66   1336224\n",
      "\n",
      "Confusion Matrix:\n",
      "[[      0  321770]\n",
      " [      0 1014454]]\n",
      "Accuracy Score:\n",
      "0.7591945661805206\n"
     ]
    },
    {
     "name": "stderr",
     "output_type": "stream",
     "text": [
      "c:\\Users\\delve\\WebstormProjects\\ids2018-anomaly-detection\\.venv\\Lib\\site-packages\\sklearn\\metrics\\_classification.py:1517: UndefinedMetricWarning: Precision is ill-defined and being set to 0.0 in labels with no predicted samples. Use `zero_division` parameter to control this behavior.\n",
      "  _warn_prf(average, modifier, f\"{metric.capitalize()} is\", len(result))\n"
     ]
    }
   ],
   "source": [
    "# Convert 'Label' to int if it's not already\n",
    "df_big['Label'] = df_big['Label'].astype(int)\n",
    "\n",
    "# Define the scaler\n",
    "scaler = StandardScaler()\n",
    "\n",
    "# Fit the scaler to the data\n",
    "scaler.fit(df_big.drop('Label', axis=1))\n",
    "\n",
    "# Normalize the data\n",
    "df_big_scaled = scaler.transform(df_big.drop('Label', axis=1))\n",
    "\n",
    "# Use the trained model to predict the labels of the new data\n",
    "df_big['anomaly_score'] = model.predict(df_big_scaled)\n",
    "\n",
    "# If the anomaly_score is less than 0.5, it's an anomaly (0), otherwise it's normal (1)\n",
    "df_big['anomaly'] = df_big['anomaly_score'].apply(lambda x: 0 if x < 0.5 else 1)\n",
    "\n",
    "# Compare the predicted labels with the actual labels\n",
    "print(\"Classification Report:\")\n",
    "print(classification_report(df_big['Label'], df_big['anomaly']))\n",
    "\n",
    "print(\"Confusion Matrix:\")\n",
    "print(confusion_matrix(df_big['Label'], df_big['anomaly']))\n",
    "\n",
    "print(\"Accuracy Score:\")\n",
    "print(accuracy_score(df_big['Label'], df_big['anomaly']))"
   ]
  }
 ],
 "metadata": {
  "kernelspec": {
   "display_name": ".venv",
   "language": "python",
   "name": "python3"
  },
  "language_info": {
   "codemirror_mode": {
    "name": "ipython",
    "version": 3
   },
   "file_extension": ".py",
   "mimetype": "text/x-python",
   "name": "python",
   "nbconvert_exporter": "python",
   "pygments_lexer": "ipython3",
   "version": "3.12.4"
  }
 },
 "nbformat": 4,
 "nbformat_minor": 2
}
