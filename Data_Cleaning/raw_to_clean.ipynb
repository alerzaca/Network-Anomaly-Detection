{
  "cells": [
    {
      "cell_type": "markdown",
      "metadata": {
        "id": "39M17GXHQftO"
      },
      "source": [
        "### Imports\n"
      ]
    },
    {
      "cell_type": "code",
      "execution_count": 2,
      "metadata": {
        "id": "arOcMFMUyTKT"
      },
      "outputs": [],
      "source": [
        "import numpy as np\n",
        "import pandas as pd\n",
        "import os\n",
        "from fastai.tabular.all import df_shrink"
      ]
    },
    {
      "cell_type": "markdown",
      "metadata": {
        "id": "9cLhwCLGQ66N"
      },
      "source": [
        "### Reading local files\n",
        "CSV files containing all raw data are too big for github, but the source is linked in README."
      ]
    },
    {
      "cell_type": "code",
      "execution_count": 4,
      "metadata": {
        "colab": {
          "base_uri": "https://localhost:8080/"
        },
        "id": "igRujRl18tUM",
        "outputId": "b24f983c-b60b-4b8b-d45e-d7932f068b63"
      },
      "outputs": [],
      "source": [
        "def read_paths(dir_path):\n",
        "  dspaths = []\n",
        "  for dirname, _, filenames in os.walk(dir_path):\n",
        "      for filename in filenames:\n",
        "          if filename.endswith('.csv'):\n",
        "              pds = os.path.join(dirname, filename)\n",
        "              dspaths.append(pds)\n",
        "              print(pds)\n",
        "  return dspaths\n",
        "\n",
        "\n",
        "def read_files(dspaths):\n",
        "  individual_dfs = [pd.read_csv(dsp, sep=',') for dsp in dspaths]\n",
        "  [i.shape for i in individual_dfs]\n",
        "  return individual_dfs"
      ]
    },
    {
      "cell_type": "code",
      "execution_count": 6,
      "metadata": {},
      "outputs": [
        {
          "name": "stdout",
          "output_type": "stream",
          "text": [
            "../Local/2017MachineLearningCVE/Friday-WorkingHours-Afternoon-DDos.pcap_ISCX.csv\n",
            "../Local/2017MachineLearningCVE/Friday-WorkingHours-Afternoon-PortScan.pcap_ISCX.csv\n",
            "../Local/2017MachineLearningCVE/Friday-WorkingHours-Morning.pcap_ISCX.csv\n",
            "../Local/2017MachineLearningCVE/Monday-WorkingHours.pcap_ISCX.csv\n",
            "../Local/2017MachineLearningCVE/Thursday-WorkingHours-Afternoon-Infilteration.pcap_ISCX.csv\n",
            "../Local/2017MachineLearningCVE/Thursday-WorkingHours-Morning-WebAttacks.pcap_ISCX.csv\n",
            "../Local/2017MachineLearningCVE/Tuesday-WorkingHours.pcap_ISCX.csv\n",
            "../Local/2017MachineLearningCVE/Wednesday-workingHours.pcap_ISCX.csv\n"
          ]
        }
      ],
      "source": [
        "# labelledTraffic = read_paths('../Local/2017LabelledTraffic/')\n",
        "# labelledTraffic_dfs = read_files(labelledTraffic)\n",
        "\n",
        "traffic2017 = read_paths('../Local/2017MachineLearningCVE/')\n",
        "traffic2017_dfs = read_files(traffic2017)\n",
        "\n",
        "# traffic2018 = read_paths('../Local/2018/')\n",
        "# traffic2018_dfs = read_files(traffic2018)"
      ]
    },
    {
      "cell_type": "code",
      "execution_count": 7,
      "metadata": {},
      "outputs": [
        {
          "data": {
            "text/plain": [
              " Destination Port                int64\n",
              " Flow Duration                   int64\n",
              " Total Fwd Packets               int64\n",
              " Total Backward Packets          int64\n",
              "Total Length of Fwd Packets      int64\n",
              "                                ...   \n",
              "Idle Mean                      float64\n",
              " Idle Std                      float64\n",
              " Idle Max                        int64\n",
              " Idle Min                        int64\n",
              " Label                          object\n",
              "Length: 79, dtype: object"
            ]
          },
          "execution_count": 7,
          "metadata": {},
          "output_type": "execute_result"
        }
      ],
      "source": [
        "traffic2017_dfs[0].dtypes"
      ]
    },
    {
      "cell_type": "markdown",
      "metadata": {
        "id": "s1nv6O3eV3Dt"
      },
      "source": [
        "# Downsizing"
      ]
    },
    {
      "cell_type": "code",
      "execution_count": 6,
      "metadata": {
        "colab": {
          "base_uri": "https://localhost:8080/"
        },
        "id": "3w9ic1jfXwMa",
        "outputId": "ede07635-3b1d-4a79-c55f-a3a8228f41f5"
      },
      "outputs": [
        {
          "data": {
            "text/plain": [
              " Destination Port                int64\n",
              " Flow Duration                   int64\n",
              " Total Fwd Packets               int64\n",
              " Total Backward Packets          int64\n",
              "Total Length of Fwd Packets      int64\n",
              "                                ...   \n",
              "Idle Mean                      float64\n",
              " Idle Std                      float64\n",
              " Idle Max                        int64\n",
              " Idle Min                        int64\n",
              " Label                          object\n",
              "Length: 79, dtype: object"
            ]
          },
          "execution_count": 6,
          "metadata": {},
          "output_type": "execute_result"
        }
      ],
      "source": [
        "individual_dfs[0].dtypes"
      ]
    },
    {
      "cell_type": "code",
      "execution_count": 7,
      "metadata": {
        "id": "eOa1fdEKk95H"
      },
      "outputs": [],
      "source": [
        "individual_dfs = [df_shrink(df) for df in individual_dfs]"
      ]
    },
    {
      "cell_type": "code",
      "execution_count": 8,
      "metadata": {
        "colab": {
          "base_uri": "https://localhost:8080/"
        },
        "id": "xlfICL93XT6M",
        "outputId": "ea477b66-1d4d-4528-d28e-a5f5ff616ad1"
      },
      "outputs": [
        {
          "data": {
            "text/plain": [
              " Destination Port                 int32\n",
              " Flow Duration                    int32\n",
              " Total Fwd Packets                int16\n",
              " Total Backward Packets           int16\n",
              "Total Length of Fwd Packets       int32\n",
              "                                 ...   \n",
              "Idle Mean                       float32\n",
              " Idle Std                       float32\n",
              " Idle Max                         int32\n",
              " Idle Min                         int32\n",
              " Label                         category\n",
              "Length: 79, dtype: object"
            ]
          },
          "execution_count": 8,
          "metadata": {},
          "output_type": "execute_result"
        }
      ],
      "source": [
        "individual_dfs[0].dtypes"
      ]
    },
    {
      "cell_type": "markdown",
      "metadata": {
        "id": "t-6AIu_SX4Py"
      },
      "source": [
        "# Usuwanie niezdefiniowanych wartości"
      ]
    },
    {
      "cell_type": "code",
      "execution_count": 9,
      "metadata": {
        "id": "aL-VFcA4lzvJ"
      },
      "outputs": [],
      "source": [
        "def drop_nan(individual_dfs):\n",
        "  for df in individual_dfs:\n",
        "      df.replace([np.inf, -np.inf], np.nan, inplace=True)\n",
        "      # print(df.isna().any(axis=1).sum(), \"rows with at least one NaN to remove\")\n",
        "      df.dropna(inplace=True)\n",
        "  [i.shape for i in individual_dfs]\n",
        "  return individual_dfs\n",
        "\n",
        "individual_dfs = drop_nan(individual_dfs)"
      ]
    },
    {
      "cell_type": "markdown",
      "metadata": {
        "id": "MwRNwmvMYWO2"
      },
      "source": [
        "# Usuwanie zduplikowanych wierszy"
      ]
    },
    {
      "cell_type": "code",
      "execution_count": 10,
      "metadata": {
        "colab": {
          "base_uri": "https://localhost:8080/"
        },
        "id": "HYvFU_7el5jW",
        "outputId": "d474c5f0-012d-4ec8-9d04-dfe5f3b2e443"
      },
      "outputs": [
        {
          "name": "stdout",
          "output_type": "stream",
          "text": [
            "2629 fully duplicate rows to remove\n",
            "72319 fully duplicate rows to remove\n",
            "6867 fully duplicate rows to remove\n",
            "26831 fully duplicate rows to remove\n",
            "35605 fully duplicate rows to remove\n",
            "6052 fully duplicate rows to remove\n",
            "24019 fully duplicate rows to remove\n",
            "80914 fully duplicate rows to remove\n"
          ]
        }
      ],
      "source": [
        "def drop_dupes(individual_dfs):\n",
        "  for df in individual_dfs:\n",
        "      print(df.duplicated().sum(), \"fully duplicate rows to remove\")\n",
        "      df.drop_duplicates(inplace=True)\n",
        "      df.reset_index(inplace=True, drop=True)\n",
        "  [i.shape for i in individual_dfs]\n",
        "  return individual_dfs\n",
        "\n",
        "individual_dfs = drop_dupes(individual_dfs)"
      ]
    },
    {
      "cell_type": "markdown",
      "metadata": {
        "id": "dGCDl6Icee4i"
      },
      "source": [
        "## Zapisywanie danych w CSV"
      ]
    },
    {
      "cell_type": "code",
      "execution_count": 9,
      "metadata": {
        "id": "4XchnPR9HV3M"
      },
      "outputs": [],
      "source": [
        "def convert(individual_dfs):\n",
        "  for i, df in enumerate(individual_dfs):\n",
        "        csv_path = f\"../IDS2017/Clean/{dspaths[i].split('/')[-1].replace('.pcap_ISCX', '')[4:]}\"\n",
        "        df.to_csv(csv_path, index=False)\n",
        "\n",
        "convert(individual_dfs)"
      ]
    },
    {
      "cell_type": "markdown",
      "metadata": {
        "id": "Sf7FIVhketrm"
      },
      "source": [
        "## Zapisywanie połączonych danych w CSV"
      ]
    },
    {
      "cell_type": "code",
      "execution_count": null,
      "metadata": {
        "id": "svDHjAKptCmB"
      },
      "outputs": [],
      "source": [
        "combined_df = pd.concat(individual_dfs, ignore_index=True)\n",
        "combined_df.to_csv(\"../IDS2017/Clean/Combined.csv\", index=False)\n"
      ]
    },
    {
      "cell_type": "markdown",
      "metadata": {
        "id": "nRUiNgUJZJaP"
      },
      "source": [
        "# Zapisywanie danych w parquet\n",
        "\n"
      ]
    },
    {
      "cell_type": "code",
      "execution_count": 11,
      "metadata": {
        "id": "jWNmfvnWmD44"
      },
      "outputs": [],
      "source": [
        "def convert(individual_dfs):\n",
        "  for i, df in enumerate(individual_dfs):\n",
        "      df.to_parquet(f\"../IDS2017/Clean/{dspaths[i].split('/')[-1].replace('.pcap_ISCX.csv', '.parquet')[4:]}\")\n",
        "\n",
        "convert(individual_dfs)"
      ]
    },
    {
      "cell_type": "markdown",
      "metadata": {
        "id": "IJE-nMrXe4hG"
      },
      "source": [
        "## Zapisywanie połączonych danych w parquet"
      ]
    },
    {
      "cell_type": "code",
      "execution_count": null,
      "metadata": {
        "id": "2mxWq_IJfhTB"
      },
      "outputs": [],
      "source": [
        "def convert_to_single_parquet(individual_dfs, output_path):\n",
        "    combined_df = pd.concat(individual_dfs, ignore_index=True)\n",
        "    combined_df.to_parquet(output_path)\n",
        "\n",
        "convert_to_single_parquet(individual_dfs, \"../IDS2017/Clean/Combined.parquet\")"
      ]
    },
    {
      "cell_type": "markdown",
      "metadata": {
        "id": "PVVHZUTVZmeC"
      },
      "source": [
        "# Czytanie plików i misc"
      ]
    },
    {
      "cell_type": "markdown",
      "metadata": {
        "id": "o5Av-u5SdyK1"
      },
      "source": [
        "## Zamienianie wartośći z kolumny Label na BENINGN/ATTACK\n"
      ]
    },
    {
      "cell_type": "code",
      "execution_count": null,
      "metadata": {
        "colab": {
          "base_uri": "https://localhost:8080/"
        },
        "id": "lfap-gRzwNwH",
        "outputId": "2b22ee85-ba1d-4806-86ac-850d02d02cb0"
      },
      "outputs": [
        {
          "name": "stdout",
          "output_type": "stream",
          "text": [
            "Label\n",
            "BENIGN    1886548\n",
            "ATTACK     316445\n",
            "Name: count, dtype: int64\n"
          ]
        }
      ],
      "source": [
        "label_map = {'BENIGN': 'BENIGN', 'DDoS': 'ATTACK', 'DoS Hulk': 'ATTACK', 'DoS GoldenEye': 'ATTACK', 'DoS slowloris': 'ATTACK',\n",
        "             'FTP-Patator': 'ATTACK', 'SSH-Patator':  'ATTACK', 'DoS Slowhttptest': 'ATTACK', 'PortScan': 'ATTACK',\n",
        "             'Web Attack � Brute Force' : 'ATTACK', 'Bot': 'ATTACK', 'Web Attack � XSS': 'ATTACK', 'Infiltration': 'ATTACK',\n",
        "             'Web Attack � Sql Injection': 'ATTACK', 'Heartbleed': 'ATTACK'}\n",
        "combined01['Label'] = combined01['Label'].map(label_map).fillna('ATTACK')\n",
        "\n",
        "print(combined01['Label'].value_counts())"
      ]
    }
  ],
  "metadata": {
    "colab": {
      "provenance": []
    },
    "kernelspec": {
      "display_name": "Python 3",
      "name": "python3"
    },
    "language_info": {
      "codemirror_mode": {
        "name": "ipython",
        "version": 3
      },
      "file_extension": ".py",
      "mimetype": "text/x-python",
      "name": "python",
      "nbconvert_exporter": "python",
      "pygments_lexer": "ipython3",
      "version": "3.12.4"
    }
  },
  "nbformat": 4,
  "nbformat_minor": 0
}
