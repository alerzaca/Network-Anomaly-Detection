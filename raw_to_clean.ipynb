{
  "cells": [
    {
      "cell_type": "markdown",
      "metadata": {
        "id": "mTIpF6iXQdv_"
      },
      "source": [
        "# Pobieranie danych"
      ]
    },
    {
      "cell_type": "markdown",
      "metadata": {},
      "source": [
        "Download zip file from: http://205.174.165.80/CICDataset/CIC-IDS-2017/Dataset/CIC-IDS-2017/CSVs/MachineLearningCSV.zip \\\n",
        "Unpack it and put the files do /IDS2017/Raw folder"
      ]
    },
    {
      "cell_type": "markdown",
      "metadata": {
        "id": "39M17GXHQftO"
      },
      "source": [
        "# Importy i ważne zmienne\n"
      ]
    },
    {
      "cell_type": "code",
      "execution_count": 1,
      "metadata": {
        "id": "arOcMFMUyTKT"
      },
      "outputs": [],
      "source": [
        "import numpy as np\n",
        "import pandas as pd\n",
        "import os\n",
        "from fastai.tabular.all import df_shrink"
      ]
    },
    {
      "cell_type": "markdown",
      "metadata": {
        "id": "9cLhwCLGQ66N"
      },
      "source": [
        "# Czytanie ścieżek do plików i danych"
      ]
    },
    {
      "cell_type": "code",
      "execution_count": 2,
      "metadata": {
        "colab": {
          "base_uri": "https://localhost:8080/"
        },
        "id": "igRujRl18tUM",
        "outputId": "b24f983c-b60b-4b8b-d45e-d7932f068b63"
      },
      "outputs": [
        {
          "name": "stdout",
          "output_type": "stream",
          "text": [
            "./IDS2017/Raw\\Friday-WorkingHours-Afternoon-DDos.pcap_ISCX.csv\n",
            "./IDS2017/Raw\\Friday-WorkingHours-Afternoon-PortScan.pcap_ISCX.csv\n",
            "./IDS2017/Raw\\Friday-WorkingHours-Morning.pcap_ISCX.csv\n",
            "./IDS2017/Raw\\Monday-WorkingHours.pcap_ISCX.csv\n",
            "./IDS2017/Raw\\Thursday-WorkingHours-Afternoon-Infilteration.pcap_ISCX.csv\n",
            "./IDS2017/Raw\\Thursday-WorkingHours-Morning-WebAttacks.pcap_ISCX.csv\n",
            "./IDS2017/Raw\\Tuesday-WorkingHours.pcap_ISCX.csv\n",
            "./IDS2017/Raw\\Wednesday-workingHours.pcap_ISCX.csv\n"
          ]
        }
      ],
      "source": [
        "def read_paths(dir_path):\n",
        "  dspaths = []\n",
        "  for dirname, _, filenames in os.walk(dir_path):\n",
        "      for filename in filenames:\n",
        "          if filename.endswith('.csv'):\n",
        "              pds = os.path.join(dirname, filename)\n",
        "              dspaths.append(pds)\n",
        "              print(pds)\n",
        "  return dspaths\n",
        "\n",
        "def read_files(dspaths):\n",
        "  individual_dfs = [pd.read_csv(dsp, sep=',', encoding='utf-8') for dsp in dspaths]\n",
        "  [i.shape for i in individual_dfs]\n",
        "  return individual_dfs\n",
        "\n",
        "dspaths = read_paths('./IDS2017/Raw')\n",
        "individual_dfs = read_files(dspaths)"
      ]
    },
    {
      "cell_type": "code",
      "execution_count": 3,
      "metadata": {
        "colab": {
          "base_uri": "https://localhost:8080/"
        },
        "id": "XTMMWFySgwKI",
        "outputId": "68e735b8-ed31-46a7-ce3a-f4cd8f1d6f1b"
      },
      "outputs": [
        {
          "name": "stdout",
          "output_type": "stream",
          "text": [
            "<class 'pandas.core.frame.DataFrame'>\n",
            "RangeIndex: 286467 entries, 0 to 286466\n",
            "Data columns (total 79 columns):\n",
            " #   Column                        Non-Null Count   Dtype  \n",
            "---  ------                        --------------   -----  \n",
            " 0    Destination Port             286467 non-null  int64  \n",
            " 1    Flow Duration                286467 non-null  int64  \n",
            " 2    Total Fwd Packets            286467 non-null  int64  \n",
            " 3    Total Backward Packets       286467 non-null  int64  \n",
            " 4   Total Length of Fwd Packets   286467 non-null  int64  \n",
            " 5    Total Length of Bwd Packets  286467 non-null  int64  \n",
            " 6    Fwd Packet Length Max        286467 non-null  int64  \n",
            " 7    Fwd Packet Length Min        286467 non-null  int64  \n",
            " 8    Fwd Packet Length Mean       286467 non-null  float64\n",
            " 9    Fwd Packet Length Std        286467 non-null  float64\n",
            " 10  Bwd Packet Length Max         286467 non-null  int64  \n",
            " 11   Bwd Packet Length Min        286467 non-null  int64  \n",
            " 12   Bwd Packet Length Mean       286467 non-null  float64\n",
            " 13   Bwd Packet Length Std        286467 non-null  float64\n",
            " 14  Flow Bytes/s                  286452 non-null  float64\n",
            " 15   Flow Packets/s               286467 non-null  float64\n",
            " 16   Flow IAT Mean                286467 non-null  float64\n",
            " 17   Flow IAT Std                 286467 non-null  float64\n",
            " 18   Flow IAT Max                 286467 non-null  int64  \n",
            " 19   Flow IAT Min                 286467 non-null  int64  \n",
            " 20  Fwd IAT Total                 286467 non-null  int64  \n",
            " 21   Fwd IAT Mean                 286467 non-null  float64\n",
            " 22   Fwd IAT Std                  286467 non-null  float64\n",
            " 23   Fwd IAT Max                  286467 non-null  int64  \n",
            " 24   Fwd IAT Min                  286467 non-null  int64  \n",
            " 25  Bwd IAT Total                 286467 non-null  int64  \n",
            " 26   Bwd IAT Mean                 286467 non-null  float64\n",
            " 27   Bwd IAT Std                  286467 non-null  float64\n",
            " 28   Bwd IAT Max                  286467 non-null  int64  \n",
            " 29   Bwd IAT Min                  286467 non-null  int64  \n",
            " 30  Fwd PSH Flags                 286467 non-null  int64  \n",
            " 31   Bwd PSH Flags                286467 non-null  int64  \n",
            " 32   Fwd URG Flags                286467 non-null  int64  \n",
            " 33   Bwd URG Flags                286467 non-null  int64  \n",
            " 34   Fwd Header Length            286467 non-null  int64  \n",
            " 35   Bwd Header Length            286467 non-null  int64  \n",
            " 36  Fwd Packets/s                 286467 non-null  float64\n",
            " 37   Bwd Packets/s                286467 non-null  float64\n",
            " 38   Min Packet Length            286467 non-null  int64  \n",
            " 39   Max Packet Length            286467 non-null  int64  \n",
            " 40   Packet Length Mean           286467 non-null  float64\n",
            " 41   Packet Length Std            286467 non-null  float64\n",
            " 42   Packet Length Variance       286467 non-null  float64\n",
            " 43  FIN Flag Count                286467 non-null  int64  \n",
            " 44   SYN Flag Count               286467 non-null  int64  \n",
            " 45   RST Flag Count               286467 non-null  int64  \n",
            " 46   PSH Flag Count               286467 non-null  int64  \n",
            " 47   ACK Flag Count               286467 non-null  int64  \n",
            " 48   URG Flag Count               286467 non-null  int64  \n",
            " 49   CWE Flag Count               286467 non-null  int64  \n",
            " 50   ECE Flag Count               286467 non-null  int64  \n",
            " 51   Down/Up Ratio                286467 non-null  int64  \n",
            " 52   Average Packet Size          286467 non-null  float64\n",
            " 53   Avg Fwd Segment Size         286467 non-null  float64\n",
            " 54   Avg Bwd Segment Size         286467 non-null  float64\n",
            " 55   Fwd Header Length.1          286467 non-null  int64  \n",
            " 56  Fwd Avg Bytes/Bulk            286467 non-null  int64  \n",
            " 57   Fwd Avg Packets/Bulk         286467 non-null  int64  \n",
            " 58   Fwd Avg Bulk Rate            286467 non-null  int64  \n",
            " 59   Bwd Avg Bytes/Bulk           286467 non-null  int64  \n",
            " 60   Bwd Avg Packets/Bulk         286467 non-null  int64  \n",
            " 61  Bwd Avg Bulk Rate             286467 non-null  int64  \n",
            " 62  Subflow Fwd Packets           286467 non-null  int64  \n",
            " 63   Subflow Fwd Bytes            286467 non-null  int64  \n",
            " 64   Subflow Bwd Packets          286467 non-null  int64  \n",
            " 65   Subflow Bwd Bytes            286467 non-null  int64  \n",
            " 66  Init_Win_bytes_forward        286467 non-null  int64  \n",
            " 67   Init_Win_bytes_backward      286467 non-null  int64  \n",
            " 68   act_data_pkt_fwd             286467 non-null  int64  \n",
            " 69   min_seg_size_forward         286467 non-null  int64  \n",
            " 70  Active Mean                   286467 non-null  float64\n",
            " 71   Active Std                   286467 non-null  float64\n",
            " 72   Active Max                   286467 non-null  int64  \n",
            " 73   Active Min                   286467 non-null  int64  \n",
            " 74  Idle Mean                     286467 non-null  float64\n",
            " 75   Idle Std                     286467 non-null  float64\n",
            " 76   Idle Max                     286467 non-null  int64  \n",
            " 77   Idle Min                     286467 non-null  int64  \n",
            " 78   Label                        286467 non-null  object \n",
            "dtypes: float64(24), int64(54), object(1)\n",
            "memory usage: 172.7+ MB\n"
          ]
        }
      ],
      "source": [
        "individual_dfs[1].info()"
      ]
    },
    {
      "cell_type": "code",
      "execution_count": 4,
      "metadata": {
        "colab": {
          "base_uri": "https://localhost:8080/",
          "height": 182
        },
        "id": "ZDjhFY4rhmKo",
        "outputId": "037509b2-d8a9-4fb7-d4b7-fbb06962c0b8"
      },
      "outputs": [
        {
          "data": {
            "text/html": [
              "<div>\n",
              "<style scoped>\n",
              "    .dataframe tbody tr th:only-of-type {\n",
              "        vertical-align: middle;\n",
              "    }\n",
              "\n",
              "    .dataframe tbody tr th {\n",
              "        vertical-align: top;\n",
              "    }\n",
              "\n",
              "    .dataframe thead th {\n",
              "        text-align: right;\n",
              "    }\n",
              "</style>\n",
              "<table border=\"1\" class=\"dataframe\">\n",
              "  <thead>\n",
              "    <tr style=\"text-align: right;\">\n",
              "      <th></th>\n",
              "      <th>Destination Port</th>\n",
              "      <th>Flow Duration</th>\n",
              "      <th>Total Fwd Packets</th>\n",
              "      <th>Total Backward Packets</th>\n",
              "      <th>Total Length of Fwd Packets</th>\n",
              "      <th>Total Length of Bwd Packets</th>\n",
              "      <th>Fwd Packet Length Max</th>\n",
              "      <th>Fwd Packet Length Min</th>\n",
              "      <th>Fwd Packet Length Mean</th>\n",
              "      <th>Fwd Packet Length Std</th>\n",
              "      <th>...</th>\n",
              "      <th>min_seg_size_forward</th>\n",
              "      <th>Active Mean</th>\n",
              "      <th>Active Std</th>\n",
              "      <th>Active Max</th>\n",
              "      <th>Active Min</th>\n",
              "      <th>Idle Mean</th>\n",
              "      <th>Idle Std</th>\n",
              "      <th>Idle Max</th>\n",
              "      <th>Idle Min</th>\n",
              "      <th>Label</th>\n",
              "    </tr>\n",
              "  </thead>\n",
              "  <tbody>\n",
              "    <tr>\n",
              "      <th>161586</th>\n",
              "      <td>5904</td>\n",
              "      <td>63</td>\n",
              "      <td>1</td>\n",
              "      <td>1</td>\n",
              "      <td>0</td>\n",
              "      <td>6</td>\n",
              "      <td>0</td>\n",
              "      <td>0</td>\n",
              "      <td>0.0</td>\n",
              "      <td>0.0</td>\n",
              "      <td>...</td>\n",
              "      <td>40</td>\n",
              "      <td>0.0</td>\n",
              "      <td>0.0</td>\n",
              "      <td>0</td>\n",
              "      <td>0</td>\n",
              "      <td>0.0</td>\n",
              "      <td>0.0</td>\n",
              "      <td>0</td>\n",
              "      <td>0</td>\n",
              "      <td>PortScan</td>\n",
              "    </tr>\n",
              "  </tbody>\n",
              "</table>\n",
              "<p>1 rows × 79 columns</p>\n",
              "</div>"
            ],
            "text/plain": [
              "         Destination Port   Flow Duration   Total Fwd Packets  \\\n",
              "161586               5904              63                   1   \n",
              "\n",
              "         Total Backward Packets  Total Length of Fwd Packets  \\\n",
              "161586                        1                            0   \n",
              "\n",
              "         Total Length of Bwd Packets   Fwd Packet Length Max  \\\n",
              "161586                             6                       0   \n",
              "\n",
              "         Fwd Packet Length Min   Fwd Packet Length Mean  \\\n",
              "161586                       0                      0.0   \n",
              "\n",
              "         Fwd Packet Length Std  ...   min_seg_size_forward  Active Mean  \\\n",
              "161586                     0.0  ...                     40          0.0   \n",
              "\n",
              "         Active Std   Active Max   Active Min  Idle Mean   Idle Std  \\\n",
              "161586          0.0            0            0        0.0        0.0   \n",
              "\n",
              "         Idle Max   Idle Min     Label  \n",
              "161586          0          0  PortScan  \n",
              "\n",
              "[1 rows x 79 columns]"
            ]
          },
          "execution_count": 4,
          "metadata": {},
          "output_type": "execute_result"
        }
      ],
      "source": [
        "individual_dfs[1].sample()"
      ]
    },
    {
      "cell_type": "code",
      "execution_count": 5,
      "metadata": {
        "colab": {
          "base_uri": "https://localhost:8080/",
          "height": 159
        },
        "id": "bg_vEcpGhyit",
        "outputId": "9e69dc2c-e0c5-4e40-b605-f6f076b26c97"
      },
      "outputs": [
        {
          "name": "stdout",
          "output_type": "stream",
          "text": [
            " Destination Port              0\n",
            " Flow Duration                 0\n",
            " Total Fwd Packets             0\n",
            " Total Backward Packets        0\n",
            "Total Length of Fwd Packets    0\n",
            "                              ..\n",
            "Idle Mean                      0\n",
            " Idle Std                      0\n",
            " Idle Max                      0\n",
            " Idle Min                      0\n",
            " Label                         0\n",
            "Length: 79, dtype: int64\n",
            " Destination Port              286467\n",
            " Flow Duration                 286467\n",
            " Total Fwd Packets             286467\n",
            " Total Backward Packets        286467\n",
            "Total Length of Fwd Packets    286467\n",
            "                                ...  \n",
            "Idle Mean                      286467\n",
            " Idle Std                      286467\n",
            " Idle Max                      286467\n",
            " Idle Min                      286467\n",
            " Label                         286467\n",
            "Length: 79, dtype: int64\n"
          ]
        }
      ],
      "source": [
        "print(individual_dfs[1].isnull().sum())\n",
        "print(individual_dfs[1].notna().sum())"
      ]
    },
    {
      "cell_type": "markdown",
      "metadata": {
        "id": "s1nv6O3eV3Dt"
      },
      "source": [
        "# Downsizing"
      ]
    },
    {
      "cell_type": "code",
      "execution_count": 6,
      "metadata": {
        "colab": {
          "base_uri": "https://localhost:8080/"
        },
        "id": "3w9ic1jfXwMa",
        "outputId": "ede07635-3b1d-4a79-c55f-a3a8228f41f5"
      },
      "outputs": [
        {
          "data": {
            "text/plain": [
              " Destination Port                int64\n",
              " Flow Duration                   int64\n",
              " Total Fwd Packets               int64\n",
              " Total Backward Packets          int64\n",
              "Total Length of Fwd Packets      int64\n",
              "                                ...   \n",
              "Idle Mean                      float64\n",
              " Idle Std                      float64\n",
              " Idle Max                        int64\n",
              " Idle Min                        int64\n",
              " Label                          object\n",
              "Length: 79, dtype: object"
            ]
          },
          "execution_count": 6,
          "metadata": {},
          "output_type": "execute_result"
        }
      ],
      "source": [
        "individual_dfs[0].dtypes"
      ]
    },
    {
      "cell_type": "code",
      "execution_count": 7,
      "metadata": {
        "id": "eOa1fdEKk95H"
      },
      "outputs": [],
      "source": [
        "individual_dfs = [df_shrink(df) for df in individual_dfs]"
      ]
    },
    {
      "cell_type": "code",
      "execution_count": 8,
      "metadata": {
        "colab": {
          "base_uri": "https://localhost:8080/"
        },
        "id": "xlfICL93XT6M",
        "outputId": "ea477b66-1d4d-4528-d28e-a5f5ff616ad1"
      },
      "outputs": [
        {
          "data": {
            "text/plain": [
              " Destination Port                 int32\n",
              " Flow Duration                    int32\n",
              " Total Fwd Packets                int16\n",
              " Total Backward Packets           int16\n",
              "Total Length of Fwd Packets       int32\n",
              "                                 ...   \n",
              "Idle Mean                       float32\n",
              " Idle Std                       float32\n",
              " Idle Max                         int32\n",
              " Idle Min                         int32\n",
              " Label                         category\n",
              "Length: 79, dtype: object"
            ]
          },
          "execution_count": 8,
          "metadata": {},
          "output_type": "execute_result"
        }
      ],
      "source": [
        "individual_dfs[0].dtypes"
      ]
    },
    {
      "cell_type": "markdown",
      "metadata": {
        "id": "t-6AIu_SX4Py"
      },
      "source": [
        "# Usuwanie niezdefiniowanych wartości"
      ]
    },
    {
      "cell_type": "code",
      "execution_count": 9,
      "metadata": {
        "id": "aL-VFcA4lzvJ"
      },
      "outputs": [],
      "source": [
        "def drop_nan(individual_dfs):\n",
        "  for df in individual_dfs:\n",
        "      df.replace([np.inf, -np.inf], np.nan, inplace=True)\n",
        "      # print(df.isna().any(axis=1).sum(), \"rows with at least one NaN to remove\")\n",
        "      df.dropna(inplace=True)\n",
        "  [i.shape for i in individual_dfs]\n",
        "  return individual_dfs\n",
        "\n",
        "individual_dfs = drop_nan(individual_dfs)"
      ]
    },
    {
      "cell_type": "markdown",
      "metadata": {
        "id": "MwRNwmvMYWO2"
      },
      "source": [
        "# Usuwanie zduplikowanych wierszy"
      ]
    },
    {
      "cell_type": "code",
      "execution_count": 10,
      "metadata": {
        "colab": {
          "base_uri": "https://localhost:8080/"
        },
        "id": "HYvFU_7el5jW",
        "outputId": "d474c5f0-012d-4ec8-9d04-dfe5f3b2e443"
      },
      "outputs": [
        {
          "name": "stdout",
          "output_type": "stream",
          "text": [
            "2629 fully duplicate rows to remove\n",
            "72319 fully duplicate rows to remove\n",
            "6867 fully duplicate rows to remove\n",
            "26831 fully duplicate rows to remove\n",
            "35605 fully duplicate rows to remove\n",
            "6052 fully duplicate rows to remove\n",
            "24019 fully duplicate rows to remove\n",
            "80914 fully duplicate rows to remove\n"
          ]
        }
      ],
      "source": [
        "def drop_dupes(individual_dfs):\n",
        "  for df in individual_dfs:\n",
        "      print(df.duplicated().sum(), \"fully duplicate rows to remove\")\n",
        "      df.drop_duplicates(inplace=True)\n",
        "      df.reset_index(inplace=True, drop=True)\n",
        "  [i.shape for i in individual_dfs]\n",
        "  return individual_dfs\n",
        "\n",
        "individual_dfs = drop_dupes(individual_dfs)"
      ]
    },
    {
      "cell_type": "markdown",
      "metadata": {
        "id": "dGCDl6Icee4i"
      },
      "source": [
        "## Zapisywanie danych w CSV"
      ]
    },
    {
      "cell_type": "code",
      "execution_count": 9,
      "metadata": {
        "id": "4XchnPR9HV3M"
      },
      "outputs": [],
      "source": [
        "def convert(individual_dfs):\n",
        "  for i, df in enumerate(individual_dfs):\n",
        "        csv_path = f\"./IDS2017/Clean/{dspaths[i].split('/')[-1].replace('.pcap_ISCX', '')[4:]}\"\n",
        "        df.to_csv(csv_path, index=False)\n",
        "\n",
        "convert(individual_dfs)"
      ]
    },
    {
      "cell_type": "markdown",
      "metadata": {
        "id": "Sf7FIVhketrm"
      },
      "source": [
        "## Zapisywanie połączonych danych w CSV"
      ]
    },
    {
      "cell_type": "code",
      "execution_count": null,
      "metadata": {
        "id": "svDHjAKptCmB"
      },
      "outputs": [],
      "source": [
        "combined_df = pd.concat(individual_dfs, ignore_index=True)\n",
        "combined_df.to_csv(\"combined.csv\", index=False)\n"
      ]
    },
    {
      "cell_type": "markdown",
      "metadata": {
        "id": "nRUiNgUJZJaP"
      },
      "source": [
        "# Zapisywanie danych w parquet\n",
        "\n"
      ]
    },
    {
      "cell_type": "code",
      "execution_count": 11,
      "metadata": {
        "id": "jWNmfvnWmD44"
      },
      "outputs": [],
      "source": [
        "def convert(individual_dfs):\n",
        "  for i, df in enumerate(individual_dfs):\n",
        "      df.to_parquet(f\"./IDS2017/Clean/{dspaths[i].split('/')[-1].replace('.pcap_ISCX.csv', '.parquet')[4:]}\")\n",
        "\n",
        "convert(individual_dfs)"
      ]
    },
    {
      "cell_type": "markdown",
      "metadata": {
        "id": "IJE-nMrXe4hG"
      },
      "source": [
        "## Zapisywanie połączonych danych w parquet"
      ]
    },
    {
      "cell_type": "code",
      "execution_count": null,
      "metadata": {
        "id": "2mxWq_IJfhTB"
      },
      "outputs": [],
      "source": [
        "def convert_to_single_parquet(individual_dfs, output_path):\n",
        "    combined_df = pd.concat(individual_dfs, ignore_index=True)\n",
        "    combined_df.to_parquet(output_path)\n",
        "\n",
        "convert_to_single_parquet(individual_dfs, \"combined.parquet\")"
      ]
    },
    {
      "cell_type": "markdown",
      "metadata": {
        "id": "PVVHZUTVZmeC"
      },
      "source": [
        "# Czytanie plików i misc"
      ]
    },
    {
      "cell_type": "markdown",
      "metadata": {
        "id": "o5Av-u5SdyK1"
      },
      "source": [
        "## Zamienianie wartośći z kolumny Label na BENINGN/ATTACK\n"
      ]
    },
    {
      "cell_type": "code",
      "execution_count": null,
      "metadata": {
        "colab": {
          "base_uri": "https://localhost:8080/"
        },
        "id": "lfap-gRzwNwH",
        "outputId": "2b22ee85-ba1d-4806-86ac-850d02d02cb0"
      },
      "outputs": [
        {
          "name": "stdout",
          "output_type": "stream",
          "text": [
            "Label\n",
            "BENIGN    1886548\n",
            "ATTACK     316445\n",
            "Name: count, dtype: int64\n"
          ]
        }
      ],
      "source": [
        "label_map = {'BENIGN': 'BENIGN', 'DDoS': 'ATTACK', 'DoS Hulk': 'ATTACK', 'DoS GoldenEye': 'ATTACK', 'DoS slowloris': 'ATTACK',\n",
        "             'FTP-Patator': 'ATTACK', 'SSH-Patator':  'ATTACK', 'DoS Slowhttptest': 'ATTACK', 'PortScan': 'ATTACK',\n",
        "             'Web Attack � Brute Force' : 'ATTACK', 'Bot': 'ATTACK', 'Web Attack � XSS': 'ATTACK', 'Infiltration': 'ATTACK',\n",
        "             'Web Attack � Sql Injection': 'ATTACK', 'Heartbleed': 'ATTACK'}\n",
        "combined01['Label'] = combined01['Label'].map(label_map).fillna('ATTACK')\n",
        "\n",
        "print(combined01['Label'].value_counts())"
      ]
    }
  ],
  "metadata": {
    "colab": {
      "provenance": []
    },
    "kernelspec": {
      "display_name": "Python 3",
      "name": "python3"
    },
    "language_info": {
      "codemirror_mode": {
        "name": "ipython",
        "version": 3
      },
      "file_extension": ".py",
      "mimetype": "text/x-python",
      "name": "python",
      "nbconvert_exporter": "python",
      "pygments_lexer": "ipython3",
      "version": "3.12.4"
    }
  },
  "nbformat": 4,
  "nbformat_minor": 0
}
