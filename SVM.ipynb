{
 "cells": [
  {
   "cell_type": "code",
   "execution_count": null,
   "metadata": {},
   "outputs": [],
   "source": [
    "import pandas as pd\n",
    "import numpy as np\n",
    "import tensorflow as tf\n",
    "from sklearn.preprocessing import LabelEncoder, StandardScaler\n",
    "from sklearn.model_selection import train_test_split, GridSearchCV\n",
    "from sklearn.svm import SVC\n",
    "from sklearn.metrics import classification_report, confusion_matrix, accuracy_score\n",
    "import matplotlib.pyplot as plt\n",
    "import seaborn as sns"
   ]
  },
  {
   "cell_type": "markdown",
   "metadata": {},
   "source": [
    "### Preprocessing data"
   ]
  },
  {
   "cell_type": "code",
   "execution_count": 2,
   "metadata": {},
   "outputs": [],
   "source": [
    "data_c = pd.read_parquet('./Local/2017_Clean/Combined.parquet')\n",
    "data_f1 = pd.read_parquet('./Local/2017_Final/Combined_1.parquet')\n",
    "data_f2 = pd.read_parquet('./Local/2017_Final/Combined_2.parquet')\n",
    "\n",
    "datasets = {'Clean data': data_c, 'Final data 1': data_f1, 'Final data 2': data_f2}"
   ]
  },
  {
   "cell_type": "code",
   "execution_count": 3,
   "metadata": {},
   "outputs": [],
   "source": [
    "def preprocess_data(df):\n",
    "    label_encoder = LabelEncoder()\n",
    "    \n",
    "    if 'Label' in df.columns:\n",
    "        label_col = 'Label'\n",
    "    elif ' Label' in df.columns:\n",
    "        label_col = ' Label'\n",
    "    else:\n",
    "        raise ValueError(\"DataFrame does not contain a label column\")\n",
    "    \n",
    "    df[label_col] = label_encoder.fit_transform(df[label_col])\n",
    "    \n",
    "    X = df.drop(label_col, axis=1)\n",
    "    y = df[label_col]\n",
    "\n",
    "    scaler = StandardScaler()\n",
    "    X_scaled = scaler.fit_transform(X)\n",
    "\n",
    "    X_train, X_test, y_train, y_test = train_test_split(X_scaled, y, test_size=0.2, random_state=42)\n",
    "\n",
    "    return X_train, X_test, y_train, y_test\n",
    "\n",
    "processed_datasets = {name: preprocess_data(df) for name, df in datasets.items()}"
   ]
  },
  {
   "cell_type": "markdown",
   "metadata": {},
   "source": [
    "### Defining and running the model for each dataset"
   ]
  },
  {
   "cell_type": "code",
   "execution_count": null,
   "metadata": {},
   "outputs": [],
   "source": [
    "def svm_model(kernel='rbf', C=1.0):\n",
    "    return SVC(kernel=kernel, C=C, random_state=42)"
   ]
  },
  {
   "cell_type": "code",
   "execution_count": 6,
   "metadata": {},
   "outputs": [
    {
     "name": "stdout",
     "output_type": "stream",
     "text": [
      "--- Clean data ---\n"
     ]
    }
   ],
   "source": [
    "for name, (X_train, X_test, y_train, y_test) in processed_datasets.items():\n",
    "    print(f'--- {name} ---')\n",
    "    \n",
    "    svm_model = svm_model()\n",
    "    svm_model.fit(X_train, y_train)\n",
    "    \n",
    "    # Evaluate the model\n",
    "    train_accuracy = svm_model.score(X_train, y_train)\n",
    "    test_accuracy = svm_model.score(X_test, y_test)\n",
    "    print(f\"Train accuracy: {train_accuracy:.4f}\")\n",
    "    print(f\"Test accuracy: {test_accuracy:.4f}\")\n",
    "    \n",
    "    y_pred = svm_model.predict(X_test)\n",
    "    \n",
    "    print(\"\\nClassification Report:\")\n",
    "    print(classification_report(y_test, y_pred))\n",
    "    \n",
    "    # Plot confusion matrix\n",
    "    cm = confusion_matrix(y_test, y_pred)\n",
    "    plt.figure(figsize=(10, 8))\n",
    "    sns.heatmap(cm, annot=True, fmt='d', cmap='Blues')\n",
    "    plt.title(f'Confusion Matrix - {name}')\n",
    "    plt.ylabel('True Label')\n",
    "    plt.xlabel('Predicted Label')\n",
    "    plt.show()"
   ]
  },
  {
   "cell_type": "markdown",
   "metadata": {},
   "source": [
    "### Hyperparameter tuning"
   ]
  },
  {
   "cell_type": "code",
   "execution_count": null,
   "metadata": {},
   "outputs": [],
   "source": [
    "def tune_svm_hyperparameters(X_train, y_train):\n",
    "    param_grid = {\n",
    "        'C': [0.1, 1, 10, 100],\n",
    "        'kernel': ['rbf', 'linear', 'poly'],\n",
    "        'gamma': ['scale', 'auto', 0.1, 1]\n",
    "    }\n",
    "    \n",
    "    svm_model = SVC(random_state=42)\n",
    "    grid_search = GridSearchCV(svm_model, param_grid, cv=3, n_jobs=-1, verbose=2)\n",
    "    grid_search.fit(X_train, y_train)\n",
    "    \n",
    "    print(\"Best parameters:\", grid_search.best_params_)\n",
    "    print(\"Best cross-validation score:\", grid_search.best_score_)\n",
    "    \n",
    "    return grid_search.best_estimator_"
   ]
  },
  {
   "cell_type": "code",
   "execution_count": null,
   "metadata": {},
   "outputs": [],
   "source": [
    "for name, (X_train, X_test, y_train, y_test) in processed_datasets.items():\n",
    "    print(f\"\\nTuning SVM hyperparameters for {name}\")\n",
    "    \n",
    "    best_model = tune_svm_hyperparameters(X_train, y_train)\n",
    "    \n",
    "    # Evaluate the best model\n",
    "    train_accuracy = best_model.score(X_train, y_train)\n",
    "    test_accuracy = best_model.score(X_test, y_test)\n",
    "    print(f\"Best model - Train accuracy: {train_accuracy:.4f}\")\n",
    "    print(f\"Best model - Test accuracy: {test_accuracy:.4f}\")\n",
    "    \n",
    "    y_pred = best_model.predict(X_test)\n",
    "    \n",
    "    print(\"\\nClassification Report (Best model):\")\n",
    "    print(classification_report(y_test, y_pred))\n",
    "    \n",
    "    # Plot confusion matrix\n",
    "    cm = confusion_matrix(y_test, y_pred)\n",
    "    plt.figure(figsize=(10, 8))\n",
    "    sns.heatmap(cm, annot=True, fmt='d', cmap='Blues')\n",
    "    plt.title(f'Confusion Matrix (Best model) - {name}')\n",
    "    plt.ylabel('True Label')\n",
    "    plt.xlabel('Predicted Label')\n",
    "    plt.show()"
   ]
  }
 ],
 "metadata": {
  "kernelspec": {
   "display_name": ".venv",
   "language": "python",
   "name": "python3"
  },
  "language_info": {
   "codemirror_mode": {
    "name": "ipython",
    "version": 3
   },
   "file_extension": ".py",
   "mimetype": "text/x-python",
   "name": "python",
   "nbconvert_exporter": "python",
   "pygments_lexer": "ipython3",
   "version": "3.12.4"
  }
 },
 "nbformat": 4,
 "nbformat_minor": 2
}
